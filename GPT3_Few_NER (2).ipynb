{
  "nbformat": 4,
  "nbformat_minor": 0,
  "metadata": {
    "colab": {
      "provenance": []
    },
    "kernelspec": {
      "name": "python3",
      "display_name": "Python 3"
    },
    "language_info": {
      "name": "python"
    }
  },
  "cells": [
    {
      "cell_type": "code",
      "execution_count": null,
      "metadata": {
        "colab": {
          "base_uri": "https://localhost:8080/"
        },
        "id": "fJXz64N3gI-G",
        "outputId": "f3539665-7ac9-4a8e-96c1-fa6123744384"
      },
      "outputs": [
        {
          "output_type": "stream",
          "name": "stdout",
          "text": [
            "Collecting openai\n",
            "  Downloading openai-1.13.3-py3-none-any.whl (227 kB)\n",
            "\u001b[2K     \u001b[90m━━━━━━━━━━━━━━━━━━━━━━━━━━━━━━━━━━━━━━━━\u001b[0m \u001b[32m227.4/227.4 kB\u001b[0m \u001b[31m4.5 MB/s\u001b[0m eta \u001b[36m0:00:00\u001b[0m\n",
            "\u001b[?25hRequirement already satisfied: anyio<5,>=3.5.0 in /usr/local/lib/python3.10/dist-packages (from openai) (3.7.1)\n",
            "Requirement already satisfied: distro<2,>=1.7.0 in /usr/lib/python3/dist-packages (from openai) (1.7.0)\n",
            "Collecting httpx<1,>=0.23.0 (from openai)\n",
            "  Downloading httpx-0.27.0-py3-none-any.whl (75 kB)\n",
            "\u001b[2K     \u001b[90m━━━━━━━━━━━━━━━━━━━━━━━━━━━━━━━━━━━━━━━━\u001b[0m \u001b[32m75.6/75.6 kB\u001b[0m \u001b[31m12.8 MB/s\u001b[0m eta \u001b[36m0:00:00\u001b[0m\n",
            "\u001b[?25hRequirement already satisfied: pydantic<3,>=1.9.0 in /usr/local/lib/python3.10/dist-packages (from openai) (2.6.3)\n",
            "Requirement already satisfied: sniffio in /usr/local/lib/python3.10/dist-packages (from openai) (1.3.1)\n",
            "Requirement already satisfied: tqdm>4 in /usr/local/lib/python3.10/dist-packages (from openai) (4.66.2)\n",
            "Requirement already satisfied: typing-extensions<5,>=4.7 in /usr/local/lib/python3.10/dist-packages (from openai) (4.10.0)\n",
            "Requirement already satisfied: idna>=2.8 in /usr/local/lib/python3.10/dist-packages (from anyio<5,>=3.5.0->openai) (3.6)\n",
            "Requirement already satisfied: exceptiongroup in /usr/local/lib/python3.10/dist-packages (from anyio<5,>=3.5.0->openai) (1.2.0)\n",
            "Requirement already satisfied: certifi in /usr/local/lib/python3.10/dist-packages (from httpx<1,>=0.23.0->openai) (2024.2.2)\n",
            "Collecting httpcore==1.* (from httpx<1,>=0.23.0->openai)\n",
            "  Downloading httpcore-1.0.4-py3-none-any.whl (77 kB)\n",
            "\u001b[2K     \u001b[90m━━━━━━━━━━━━━━━━━━━━━━━━━━━━━━━━━━━━━━━━\u001b[0m \u001b[32m77.8/77.8 kB\u001b[0m \u001b[31m12.1 MB/s\u001b[0m eta \u001b[36m0:00:00\u001b[0m\n",
            "\u001b[?25hCollecting h11<0.15,>=0.13 (from httpcore==1.*->httpx<1,>=0.23.0->openai)\n",
            "  Downloading h11-0.14.0-py3-none-any.whl (58 kB)\n",
            "\u001b[2K     \u001b[90m━━━━━━━━━━━━━━━━━━━━━━━━━━━━━━━━━━━━━━━━\u001b[0m \u001b[32m58.3/58.3 kB\u001b[0m \u001b[31m8.7 MB/s\u001b[0m eta \u001b[36m0:00:00\u001b[0m\n",
            "\u001b[?25hRequirement already satisfied: annotated-types>=0.4.0 in /usr/local/lib/python3.10/dist-packages (from pydantic<3,>=1.9.0->openai) (0.6.0)\n",
            "Requirement already satisfied: pydantic-core==2.16.3 in /usr/local/lib/python3.10/dist-packages (from pydantic<3,>=1.9.0->openai) (2.16.3)\n",
            "Installing collected packages: h11, httpcore, httpx, openai\n",
            "Successfully installed h11-0.14.0 httpcore-1.0.4 httpx-0.27.0 openai-1.13.3\n"
          ]
        }
      ],
      "source": [
        "!pip install --upgrade openai"
      ]
    },
    {
      "cell_type": "code",
      "source": [
        "!pip install transformers datasets seqeval tokenizers -q"
      ],
      "metadata": {
        "colab": {
          "base_uri": "https://localhost:8080/"
        },
        "id": "HpRC7qZeHlW7",
        "outputId": "286abf78-f178-4ce7-f2d2-5f25edbdb74c"
      },
      "execution_count": null,
      "outputs": [
        {
          "output_type": "stream",
          "name": "stdout",
          "text": [
            "\u001b[2K     \u001b[90m━━━━━━━━━━━━━━━━━━━━━━━━━━━━━━━━━━━━━━━━\u001b[0m \u001b[32m510.5/510.5 kB\u001b[0m \u001b[31m5.7 MB/s\u001b[0m eta \u001b[36m0:00:00\u001b[0m\n",
            "\u001b[2K     \u001b[90m━━━━━━━━━━━━━━━━━━━━━━━━━━━━━━━━━━━━━━━━\u001b[0m \u001b[32m43.6/43.6 kB\u001b[0m \u001b[31m4.6 MB/s\u001b[0m eta \u001b[36m0:00:00\u001b[0m\n",
            "\u001b[?25h  Preparing metadata (setup.py) ... \u001b[?25l\u001b[?25hdone\n",
            "\u001b[2K     \u001b[90m━━━━━━━━━━━━━━━━━━━━━━━━━━━━━━━━━━━━━━━━\u001b[0m \u001b[32m116.3/116.3 kB\u001b[0m \u001b[31m4.7 MB/s\u001b[0m eta \u001b[36m0:00:00\u001b[0m\n",
            "\u001b[2K     \u001b[90m━━━━━━━━━━━━━━━━━━━━━━━━━━━━━━━━━━━━━━━━\u001b[0m \u001b[32m134.8/134.8 kB\u001b[0m \u001b[31m7.1 MB/s\u001b[0m eta \u001b[36m0:00:00\u001b[0m\n",
            "\u001b[?25h  Building wheel for seqeval (setup.py) ... \u001b[?25l\u001b[?25hdone\n"
          ]
        }
      ]
    },
    {
      "cell_type": "code",
      "source": [
        "import os\n",
        "\n",
        "os.environ['OPENAI_API_KEY'] = 'MY-API-KEY'"
      ],
      "metadata": {
        "id": "5UDCu4O28lx-"
      },
      "execution_count": null,
      "outputs": []
    },
    {
      "cell_type": "code",
      "source": [
        "!git clone https://github.com/chriswu99aaa/MeTNet.git"
      ],
      "metadata": {
        "colab": {
          "base_uri": "https://localhost:8080/"
        },
        "id": "E0rZi7t0Hesb",
        "outputId": "e992fad0-4d56-4547-8685-700802c252c2"
      },
      "execution_count": null,
      "outputs": [
        {
          "output_type": "stream",
          "name": "stdout",
          "text": [
            "Cloning into 'MeTNet'...\n",
            "remote: Enumerating objects: 241, done.\u001b[K\n",
            "remote: Counting objects: 100% (13/13), done.\u001b[K\n",
            "remote: Compressing objects: 100% (13/13), done.\u001b[K\n",
            "remote: Total 241 (delta 6), reused 0 (delta 0), pack-reused 228\u001b[K\n",
            "Receiving objects: 100% (241/241), 32.25 MiB | 17.29 MiB/s, done.\n",
            "Resolving deltas: 100% (128/128), done.\n"
          ]
        }
      ]
    },
    {
      "cell_type": "markdown",
      "source": [
        "## Loading Data and Preprocessing"
      ],
      "metadata": {
        "id": "WhuB65gCMKHM"
      }
    },
    {
      "cell_type": "code",
      "source": [
        "from pathlib import Path\n",
        "import re\n",
        "\n",
        "def read_file(file_path):\n",
        "    file_path = Path(file_path)\n",
        "\n",
        "    raw_text = file_path.read_text().strip()\n",
        "    raw_docs = re.split(r'\\n\\t?\\n', raw_text)\n",
        "    token_docs = []\n",
        "    tag_docs = []\n",
        "    for doc in raw_docs:\n",
        "        tokens = []\n",
        "        tags = []\n",
        "        for line in doc.split('\\n'):\n",
        "            if '\\t' in line:\n",
        "                token, tag = line.split('\\t')\n",
        "                tokens.append(token)\n",
        "                tags.append(tag)\n",
        "        token_docs.append(tokens)\n",
        "        tag_docs.append(tags)\n",
        "\n",
        "    return token_docs, tag_docs"
      ],
      "metadata": {
        "id": "xl1ZW-z8MJNq"
      },
      "execution_count": null,
      "outputs": []
    },
    {
      "cell_type": "code",
      "source": [
        "train_texts, train_tags = read_file('/content/MeTNet/data/Few-COMM/train.txt')\n",
        "\n",
        "texts, tags = read_file('/content/MeTNet/data/Few-COMM/dev.txt')\n",
        "\n",
        "test_text, test_tags = read_file('/content/MeTNet/data/Few-COMM/test.txt')"
      ],
      "metadata": {
        "id": "Cx7jXCVwHfUz"
      },
      "execution_count": null,
      "outputs": []
    },
    {
      "cell_type": "code",
      "source": [
        "query_texts = texts[:200][:]\n",
        "query_tags = tags[:200][:]"
      ],
      "metadata": {
        "id": "qPIs-Tf3N8IG"
      },
      "execution_count": null,
      "outputs": []
    },
    {
      "cell_type": "code",
      "source": [
        "# get tags from tow datasets and union the two sets\n",
        "unique_tags = set(tag for doc in train_tags for tag in doc)\n",
        "unique_tags_val = set(tag for doc in tags for tag in doc)\n",
        "unique_tags = unique_tags | unique_tags_val\n",
        "\n",
        "tag2id = {tag: id for id, tag in enumerate(unique_tags)}\n",
        "id2tag = {id: tag for tag, id in tag2id.items()}"
      ],
      "metadata": {
        "id": "DGv3RI2oOueo"
      },
      "execution_count": null,
      "outputs": []
    },
    {
      "cell_type": "code",
      "source": [
        "tag2id['B-冲泡方式']"
      ],
      "metadata": {
        "colab": {
          "base_uri": "https://localhost:8080/"
        },
        "id": "c2tS7wDMhR_X",
        "outputId": "10730911-e3fe-4496-8d95-6d9873b92fc0"
      },
      "execution_count": null,
      "outputs": [
        {
          "output_type": "execute_result",
          "data": {
            "text/plain": [
              "119"
            ]
          },
          "metadata": {},
          "execution_count": 10
        }
      ]
    },
    {
      "cell_type": "code",
      "source": [
        "id2tag[5]"
      ],
      "metadata": {
        "colab": {
          "base_uri": "https://localhost:8080/",
          "height": 35
        },
        "id": "mTjdCwdNTAQo",
        "outputId": "9754da19-e79a-43e4-eb07-99d778f8e7b3"
      },
      "execution_count": null,
      "outputs": [
        {
          "output_type": "execute_result",
          "data": {
            "text/plain": [
              "'I-色系'"
            ],
            "application/vnd.google.colaboratory.intrinsic+json": {
              "type": "string"
            }
          },
          "metadata": {},
          "execution_count": 12
        }
      ]
    },
    {
      "cell_type": "code",
      "source": [
        "query = query_texts[0]\n",
        "query_tag = query_tags[0]"
      ],
      "metadata": {
        "id": "KBwkPM1nQbbH"
      },
      "execution_count": null,
      "outputs": []
    },
    {
      "cell_type": "code",
      "source": [
        "query_tag"
      ],
      "metadata": {
        "colab": {
          "base_uri": "https://localhost:8080/"
        },
        "id": "qSE1jy2DZlKo",
        "outputId": "8d6e3b89-2fa5-4587-9870-5ac6951bd3ed"
      },
      "execution_count": null,
      "outputs": [
        {
          "output_type": "execute_result",
          "data": {
            "text/plain": [
              "['B-适用时间',\n",
              " 'I-适用时间',\n",
              " 'I-适用时间',\n",
              " 'O',\n",
              " 'O',\n",
              " 'O',\n",
              " 'O',\n",
              " 'O',\n",
              " 'O',\n",
              " 'O',\n",
              " 'O',\n",
              " 'O',\n",
              " 'O',\n",
              " 'O',\n",
              " 'O',\n",
              " 'O',\n",
              " 'O',\n",
              " 'O',\n",
              " 'O',\n",
              " 'O',\n",
              " 'O',\n",
              " 'O',\n",
              " 'O',\n",
              " 'O',\n",
              " 'O',\n",
              " 'O',\n",
              " 'O',\n",
              " 'O',\n",
              " 'O']"
            ]
          },
          "metadata": {},
          "execution_count": 118
        }
      ]
    },
    {
      "cell_type": "code",
      "source": [
        "query"
      ],
      "metadata": {
        "colab": {
          "base_uri": "https://localhost:8080/"
        },
        "id": "77pSrYsDZZXL",
        "outputId": "1cdd8004-bd48-45ef-a16b-332a0856da56"
      },
      "execution_count": null,
      "outputs": [
        {
          "output_type": "execute_result",
          "data": {
            "text/plain": [
              "['秋',\n",
              " '冬',\n",
              " '季',\n",
              " '新',\n",
              " '款',\n",
              " '保',\n",
              " '暖',\n",
              " '棉',\n",
              " '拖',\n",
              " '鞋',\n",
              " '居',\n",
              " '家',\n",
              " '室',\n",
              " '内',\n",
              " '踩',\n",
              " '屎',\n",
              " '感',\n",
              " '静',\n",
              " '音',\n",
              " '厚',\n",
              " '底',\n",
              " '简',\n",
              " '约',\n",
              " '防',\n",
              " '滑',\n",
              " '情',\n",
              " '侣',\n",
              " '拖',\n",
              " '鞋']"
            ]
          },
          "metadata": {},
          "execution_count": 119
        }
      ]
    },
    {
      "cell_type": "code",
      "source": [
        "query = ' '.join(query)"
      ],
      "metadata": {
        "id": "usaTaHdOQ5eb"
      },
      "execution_count": null,
      "outputs": []
    },
    {
      "cell_type": "code",
      "source": [
        "import re\n",
        "example_query = \"\"\"维\tO\n",
        "他\tO\n",
        "和\tO\n",
        "梨\tO\n",
        "饮\tO\n",
        "料\tO\n",
        "2\tO\n",
        "5\tO\n",
        "0\tO\n",
        "m\tO\n",
        "l\tO\n",
        "*\tO\n",
        "6\tO\n",
        "盒\tO\n",
        "/\tO\n",
        "组\tO\n",
        "（\tO\n",
        "香\tB-原产地\n",
        "港\tI-原产地\n",
        "进\tI-原产地\n",
        "口\tI-原产地\n",
        "）\tO\n",
        "\"\"\""
      ],
      "metadata": {
        "id": "fVptmJTzJ3SB"
      },
      "execution_count": null,
      "outputs": []
    },
    {
      "cell_type": "markdown",
      "source": [
        "## Constructing Prompt"
      ],
      "metadata": {
        "id": "Yif3ZzYiXNCo"
      }
    },
    {
      "cell_type": "code",
      "source": [
        "system_prompt = f\"\"\"\n",
        "    You are a Chinese Named Entity Recognizer. The input data is in Chinese and the\n",
        "    data is annotated in BIO scheme.\n",
        "    The full list of BIO Tags are provided in the following part delimeted by triple #\n",
        "    ###\n",
        "    'B-国产/进口','B-适用人群','I-适用人群','B-适用空间','I-版型','B-面料材质','B-产地','B-酸碱度',\n",
        "    'B-果肉颜色','B-锅底类型','B-是否去骨','I-适用空间','I-是否有机','B-外观','B-袖长','I-长短','B-组合形式', 'I-送礼对象',\n",
        "    'I-袖型','I-型号','B-型号','B-形状形态','I-接口','I-是否净洗','I-供电方式','B-送礼对象','B-是否去皮','B-是否净洗','I-适用人数',\n",
        "    'I-定制服务','B-定制服务','I-适用对象','B-供电方式','I-产地','I-配件类型','I-脂肪含量','I-大小','B-其他属性','O','B-厚薄',\n",
        "    'I-糖含量','I-面料材质','I-袖长','I-造型','I-颜色','I-是否去骨','B-赠品','I-其他属性', 'I-品质等级','I-适用运营商','I-组合形式',\n",
        "    'I-果肉颜色','B-接口','I-功能功效','B-适用人数','B-版型','B-材质','I-厚度','B-功能功效','B-长短' 'B-造型','I-成分','I-填充材质',\n",
        "    'I-是否去皮','B-适用衣物','I-国产/进口','I-鞋垫材质','B-填充材质', 'B-运输服务',\n",
        "    'I-控制方式', 'I-适用衣物','B-品质等级','B-适用运营商','B-适用对象','I-存储容量','I-香型','I-运输服务','I-商品特色',\n",
        "    'B-脂肪含量','I-厚薄','B-控制方式','B-筒高','I-长度','I-外观','B-领型','B-分类','I-适用季节','B-适用季节','B-糖含量','B-存储容量',\n",
        "    'I-分类','B-商品特色','I-赠品','B-香型','B-是否有机','I-材质','I-酸碱度','B-厚度','B-礼盒类型','I-筒高','B-袖型','I-形状形态',\n",
        "    'B-成分','B-大小','I-领型','B-鞋垫材质','B-长度', 'I-锅底类型', 'B-配件类型', 'B-颜色',\n",
        "    'I-礼盒类型'\n",
        "    ###\n",
        "'''\n",
        "    When giving a input setence in chinese classify each character\n",
        "    using the following format\n",
        "    character BIOtag\n",
        "    keep numbers and symbols in the output\n",
        "\"\"\""
      ],
      "metadata": {
        "id": "azWtoLrJGBl8"
      },
      "execution_count": null,
      "outputs": []
    },
    {
      "cell_type": "code",
      "source": [
        "num_query_tags = len(unique_tags)"
      ],
      "metadata": {
        "id": "7-1mhl_EXcP4"
      },
      "execution_count": null,
      "outputs": []
    },
    {
      "cell_type": "code",
      "source": [
        "text_mapping = {}\n",
        "assigned = [0]*num_query_tags"
      ],
      "metadata": {
        "id": "2sPAeb33XgXR"
      },
      "execution_count": null,
      "outputs": []
    },
    {
      "cell_type": "code",
      "source": [
        "# sampling each class with one entity\n",
        "test_tags = query_tags[:8000]\n",
        "for i in range(len(test_tags)):\n",
        "    tag = test_tags[i]\n",
        "    for j in range(len(tag)):\n",
        "        if tag[j] != 'O':\n",
        "            # the index corresponds to the id of the tag\n",
        "            id = tag2id[tag[j]]\n",
        "            word = query_texts[i][j]\n",
        "            if assigned[id] == 0:\n",
        "                # give one example for each class\n",
        "                text_mapping[word] = tag[j]\n",
        "                assigned[id] = 1\n",
        "                print(text_mapping[word])\n",
        "                print(id)"
      ],
      "metadata": {
        "id": "nBIDY9mYXhu0"
      },
      "execution_count": null,
      "outputs": []
    },
    {
      "cell_type": "code",
      "source": [
        "text_mapping = str(text_mapping).replace(':','')"
      ],
      "metadata": {
        "id": "DsM9_a0cXpZm"
      },
      "execution_count": null,
      "outputs": []
    },
    {
      "cell_type": "code",
      "source": [
        "from openai import OpenAI\n",
        "client = OpenAI()\n",
        "\n",
        "completion = client.chat.completions.create(\n",
        "  model=\"gpt-3.5-turbo\",\n",
        "  messages=[\n",
        "    {\"role\": \"system\", \"content\": system_prompt},\n",
        "    {\"role\": \"user\", \"content\": query}\n",
        "  ]\n",
        ")\n",
        "\n",
        "print(completion.choices[0].message)\n",
        "\n"
      ],
      "metadata": {
        "colab": {
          "base_uri": "https://localhost:8080/"
        },
        "id": "nLO3HNuFgzxz",
        "outputId": "c9c21baf-1b84-4a84-c07a-fe04dd76ca38"
      },
      "execution_count": null,
      "outputs": [
        {
          "output_type": "stream",
          "name": "stdout",
          "text": [
            "ChatCompletionMessage(content='粉 O\\n金 O\\n粉 O\\n玫 O\\n瑰 O\\n香 O\\n槟 O\\n色 O\\n系 O\\n开 O\\n业 O\\n花 O\\n篮 O\\n单 O\\n个 O\\n（ O\\n2 O\\n个 O\\n起 O\\n拍 O\\n） O', role='assistant', function_call=None, tool_calls=None)\n"
          ]
        }
      ]
    },
    {
      "cell_type": "code",
      "source": [
        "result = completion.choices[0].message.content.split('\\n')"
      ],
      "metadata": {
        "id": "w0N-jnlX__IN"
      },
      "execution_count": null,
      "outputs": []
    },
    {
      "cell_type": "code",
      "source": [
        "result"
      ],
      "metadata": {
        "colab": {
          "base_uri": "https://localhost:8080/"
        },
        "id": "oGC-WHT6tNfe",
        "outputId": "bc1010a3-0769-46e2-ba2e-6740a1e141ce"
      },
      "execution_count": null,
      "outputs": [
        {
          "output_type": "execute_result",
          "data": {
            "text/plain": [
              "['粉 O',\n",
              " '金 O',\n",
              " '粉 O',\n",
              " '玫 O',\n",
              " '瑰 O',\n",
              " '香 O',\n",
              " '槟 O',\n",
              " '色 O',\n",
              " '系 O',\n",
              " '开 O',\n",
              " '业 O',\n",
              " '花 O',\n",
              " '篮 O',\n",
              " '单 O',\n",
              " '个 O',\n",
              " '（ O',\n",
              " '2 O',\n",
              " '个 O',\n",
              " '起 O',\n",
              " '拍 O',\n",
              " '） O']"
            ]
          },
          "metadata": {},
          "execution_count": 152
        }
      ]
    },
    {
      "cell_type": "code",
      "source": [
        "pred = [re.split(' ', line) for line in result]\n",
        "# pred = [line[1] for line in pred]"
      ],
      "metadata": {
        "id": "Wkhc04PmAGYu"
      },
      "execution_count": null,
      "outputs": []
    },
    {
      "cell_type": "code",
      "source": [
        "pred"
      ],
      "metadata": {
        "colab": {
          "base_uri": "https://localhost:8080/"
        },
        "id": "Nhj6kMhYg975",
        "outputId": "9193fa99-e6b5-4fa9-ba51-2a3556c7408d"
      },
      "execution_count": null,
      "outputs": [
        {
          "output_type": "execute_result",
          "data": {
            "text/plain": [
              "[['粉', 'O'],\n",
              " ['金', 'O'],\n",
              " ['粉', 'O'],\n",
              " ['玫', 'O'],\n",
              " ['瑰', 'O'],\n",
              " ['香', 'O'],\n",
              " ['槟', 'O'],\n",
              " ['色', 'O'],\n",
              " ['系', 'O'],\n",
              " ['开', 'O'],\n",
              " ['业', 'O'],\n",
              " ['花', 'O'],\n",
              " ['篮', 'O'],\n",
              " ['单', 'O'],\n",
              " ['个', 'O'],\n",
              " ['（', 'O'],\n",
              " ['2', 'O'],\n",
              " ['个', 'O'],\n",
              " ['起', 'O'],\n",
              " ['拍', 'O'],\n",
              " ['）', 'O']]"
            ]
          },
          "metadata": {},
          "execution_count": 154
        }
      ]
    },
    {
      "cell_type": "code",
      "source": [
        "query_tags[0]"
      ],
      "metadata": {
        "id": "aROBgyc6ccHr"
      },
      "execution_count": null,
      "outputs": []
    },
    {
      "cell_type": "code",
      "source": [
        "[tag2id[tag] for tag in query_tags[0]]"
      ],
      "metadata": {
        "colab": {
          "base_uri": "https://localhost:8080/"
        },
        "id": "IHpQ3JVERaGI",
        "outputId": "d5e02e28-527b-4014-8c3f-e89083093afa"
      },
      "execution_count": null,
      "outputs": [
        {
          "output_type": "execute_result",
          "data": {
            "text/plain": [
              "[42, 42, 42, 119, 113, 42, 42, 42, 42, 42, 42, 42, 42]"
            ]
          },
          "metadata": {},
          "execution_count": 23
        }
      ]
    },
    {
      "cell_type": "code",
      "source": [
        "def check_format(result):\n",
        "    for i in range(len(result)):\n",
        "        if '' in result[i]:\n",
        "            result.pop()\n",
        "            result.pop()\n",
        "            break\n",
        "    return result"
      ],
      "metadata": {
        "id": "KfmUTiSrYJ3x"
      },
      "execution_count": null,
      "outputs": []
    },
    {
      "cell_type": "markdown",
      "source": [
        "## Evaluation\n"
      ],
      "metadata": {
        "id": "JIU2Ls5IWZ0R"
      }
    },
    {
      "cell_type": "code",
      "source": [
        "from sklearn.metrics import f1_score\n",
        "import statistics\n",
        "def compute_metrics(preds, labels):\n",
        "    \"\"\"\n",
        "    This function computes the confusion matrix for the given prediction and label\n",
        "    \"\"\"\n",
        "\n",
        "    return f1_score(labels,preds,average='micro')\n",
        "\n",
        "def average_f1(f1_list):\n",
        "    return statistics.mean(f1_list)"
      ],
      "metadata": {
        "id": "lnu5B5ehWX1t"
      },
      "execution_count": null,
      "outputs": []
    },
    {
      "cell_type": "code",
      "source": [
        "def check_key(dict, predictions):\n",
        "    \"\"\"\n",
        "    this function convert prediction to its id\n",
        "    by checking if the tag exists; otherwise assign to\n",
        "    O-class\n",
        "\n",
        "    dict: the tag2id dictionary\n",
        "    predictions: the list of prediciton\n",
        "    \"\"\"\n",
        "    for i in range(len(predictions)):\n",
        "        pred = predictions[i]\n",
        "        # print(pred)\n",
        "        if pred in dict.keys():\n",
        "            # print(pred, ' in map')\n",
        "            predictions[i] = dict[pred]\n",
        "        else:\n",
        "            predictions[i] = dict['O']\n",
        "    return predictions\n",
        "\n"
      ],
      "metadata": {
        "id": "lToqCdYElR8p"
      },
      "execution_count": null,
      "outputs": []
    },
    {
      "cell_type": "code",
      "source": [
        "def validate_dimension(preds, labels):\n",
        "    '''\n",
        "    This function validate size of two input to check if they\n",
        "    have the same size; otherwise, it drim the list from the back.\n",
        "\n",
        "    '''\n",
        "    if len(preds) == len(labels):\n",
        "        return preds, labels\n",
        "    else:\n",
        "        len_p = len(preds)\n",
        "        len_l = len(labels)\n",
        "        if len_p > len_l:\n",
        "# if length of prediction is longer than the label, remove those extra elements\n",
        "            preds = preds[:len_l]\n",
        "            return preds, labels\n",
        "        else:\n",
        "            labels = labels[:len_p]\n",
        "            return preds, labels"
      ],
      "metadata": {
        "id": "PwQTFUGzYS-C"
      },
      "execution_count": null,
      "outputs": []
    },
    {
      "cell_type": "code",
      "source": [
        "def validate_dimension(preds, labels):\n",
        "    '''\n",
        "    This function validate size of two input to check if they\n",
        "    have the same size; otherwise, it drim the list from the back.\n",
        "\n",
        "    '''\n",
        "    if len(preds) == len(labels):\n",
        "        return preds, labels\n",
        "    else:\n",
        "        len_p = len(preds)\n",
        "        len_l = len(labels)\n",
        "        if len_p > len_l:\n",
        "# if length of prediction is longer than the label, remove those extra elements\n",
        "            preds = preds[:len_l]\n",
        "            return preds, labels\n",
        "        else:\n",
        "            labels = labels[:len_p]\n",
        "            return preds, labels"
      ],
      "metadata": {
        "id": "FCOhnAhhcBdR"
      },
      "execution_count": null,
      "outputs": []
    },
    {
      "cell_type": "markdown",
      "source": [
        "## One Shot"
      ],
      "metadata": {
        "id": "YGxu223xjHrf"
      }
    },
    {
      "cell_type": "code",
      "source": [
        "query_texts = test_texts[:8000][:]\n",
        "query_tags = test_tags[:8000][:]"
      ],
      "metadata": {
        "id": "t3VTfT33Ydmg"
      },
      "execution_count": null,
      "outputs": []
    },
    {
      "cell_type": "code",
      "source": [
        "f1_scores = []"
      ],
      "metadata": {
        "id": "Wo-PpMS_YevR"
      },
      "execution_count": null,
      "outputs": []
    },
    {
      "cell_type": "code",
      "source": [
        "# id list which record id of those prediction f1 scores lower than 0.4\n",
        "# pred list will record the prediction from LLM\n",
        "id_list = []\n",
        "pred_list = []\n",
        "low_f1_list = []"
      ],
      "metadata": {
        "id": "qTAtJXH6ZBqX"
      },
      "execution_count": null,
      "outputs": []
    },
    {
      "cell_type": "code",
      "source": [
        "f1_scores = []\n",
        "\n",
        "for i in range(len(query_texts)):\n",
        "    if(i%5==0):\n",
        "        print(i)\n",
        "    query = query_texts[i]\n",
        "    query = ' '.join(query)\n",
        "    true_label = query_tags[i]\n",
        "\n",
        "\n",
        "    completion = client.chat.completions.create(\n",
        "        model=\"gpt-3.5-turbo\",\n",
        "        messages=[\n",
        "        {\"role\": \"system\", \"content\": system_prompt},\n",
        "        {\"role\": \"user\", \"content\": query}\n",
        "        ]\n",
        "        )\n",
        "\n",
        "\n",
        "    result = completion.choices[0].message.content.split('\\n')\n",
        "\n",
        "    pred = [re.split(' ', line) for line in result]\n",
        "    pred = [line[1] for line in pred]\n",
        "    pred = check_key(tag2id,pred)\n",
        "\n",
        "    # convert tag to id for f1 score calculation\n",
        "    true_label = [int(tag2id[tag]) for tag in true_label]\n",
        "\n",
        "    # validate input\n",
        "    pred, true_label = validate_dimension(pred, true_label)\n",
        "\n",
        "    f1_score = compute_metrics(true_label, pred)\n",
        "    if f1 < 0.4:\n",
        "        # record those low f1_score prediction for error analysis\n",
        "        id_list.append(i)\n",
        "        pred_list.append(word_pred)\n",
        "        low_f1_list.append(f1)\n",
        "    f1_scores.append(f1_score)\n",
        "\n"
      ],
      "metadata": {
        "id": "bk1-_bRwSBv3"
      },
      "execution_count": null,
      "outputs": []
    },
    {
      "cell_type": "code",
      "source": [
        "print(\"One shot :\",average_f1(f1_scores))"
      ],
      "metadata": {
        "id": "O7bpDie_egaz"
      },
      "execution_count": null,
      "outputs": []
    },
    {
      "cell_type": "code",
      "source": [
        "low_f1_list"
      ],
      "metadata": {
        "id": "K30qCmcjZh48"
      },
      "execution_count": null,
      "outputs": []
    },
    {
      "cell_type": "markdown",
      "source": [
        "## Five Shot"
      ],
      "metadata": {
        "id": "KJBsVSqfjNzH"
      }
    },
    {
      "cell_type": "code",
      "source": [
        "five_shot_f1_scores = []"
      ],
      "metadata": {
        "id": "-avdjoa2am2X"
      },
      "execution_count": null,
      "outputs": []
    },
    {
      "cell_type": "code",
      "source": [
        "five_shot_query_texts = test_texts[:8000][:]\n",
        "five_shot_query_tags = test_tags[:8000][:]"
      ],
      "metadata": {
        "id": "olh-rwGnqYCg"
      },
      "execution_count": null,
      "outputs": []
    },
    {
      "cell_type": "code",
      "source": [
        "num_query_tags = len(unique_tags)\n",
        "text_mapping = {}\n",
        "assigned = [0]*num_query_tags\n"
      ],
      "metadata": {
        "id": "432zW86xbbG7"
      },
      "execution_count": null,
      "outputs": []
    },
    {
      "cell_type": "code",
      "source": [
        "# sampling five instance for each class\n",
        "test_tags = query_tags[:8000]\n",
        "for i in range(len(test_tags)):\n",
        "    tag = test_tags[i]\n",
        "    for j in range(len(tag)):\n",
        "        if tag[j] != 'O':\n",
        "            # the index corresponds to the id of the tag\n",
        "            id = tag2id[tag[j]]\n",
        "            word = query_texts[i][j]\n",
        "            if assigned[id] < 5:\n",
        "                if assigned[id] == 0:\n",
        "                    word_list = [word]\n",
        "                    text_mapping[tag[j]] = word_list\n",
        "                    assigned[id] += 1\n",
        "                else:\n",
        "                    word_list = text_mapping[tag[j]]\n",
        "                    if word not in word_list:\n",
        "                        word_list.append(word)\n",
        "                        assigned[id] += 1\n",
        "                    text_mapping[tag[j]] = word_list"
      ],
      "metadata": {
        "id": "NzHfoujNbbbN"
      },
      "execution_count": null,
      "outputs": []
    },
    {
      "cell_type": "code",
      "source": [
        "text_mapping"
      ],
      "metadata": {
        "id": "rs1gYFHTbsBx"
      },
      "execution_count": null,
      "outputs": []
    },
    {
      "cell_type": "code",
      "source": [
        "# id list which record id of those prediction f1 scores lower than 0.4\n",
        "# pred list will record the prediction from LLM\n",
        "id_list = []\n",
        "pred_list = []\n",
        "low_f1_list = []"
      ],
      "metadata": {
        "id": "IOghdbnubUbW"
      },
      "execution_count": null,
      "outputs": []
    },
    {
      "cell_type": "code",
      "source": [
        "query = test_text\n",
        "query = ' '.join(query)\n"
      ],
      "metadata": {
        "id": "T6CnZU0OrHFy"
      },
      "execution_count": null,
      "outputs": []
    },
    {
      "cell_type": "code",
      "source": [
        "query"
      ],
      "metadata": {
        "colab": {
          "base_uri": "https://localhost:8080/",
          "height": 35
        },
        "id": "rmOspSV8rwF3",
        "outputId": "42449af8-cc04-4f1f-cf82-e5c1a721c5d1"
      },
      "execution_count": null,
      "outputs": [
        {
          "output_type": "execute_result",
          "data": {
            "text/plain": [
              "'秋 冬 季 新 款 保 暖 棉 拖 鞋 居 家 室 内 踩 屎 感 静 音 厚 底 简 约 防 滑 情 侣 拖 鞋'"
            ],
            "application/vnd.google.colaboratory.intrinsic+json": {
              "type": "string"
            }
          },
          "metadata": {},
          "execution_count": 135
        }
      ]
    },
    {
      "cell_type": "code",
      "source": [
        "completion = client.chat.completions.create(\n",
        "    model=\"gpt-3.5-turbo\",\n",
        "    messages=[\n",
        "    {\"role\": \"system\", \"content\": system_prompt},\n",
        "    {\"role\": \"user\", \"content\": query}\n",
        "    ]\n",
        "    )"
      ],
      "metadata": {
        "id": "LvW4GH3krAIt"
      },
      "execution_count": null,
      "outputs": []
    },
    {
      "cell_type": "code",
      "source": [
        "result = completion.choices[0].message.content.split('\\n')"
      ],
      "metadata": {
        "id": "Dx6ljqIHr02d"
      },
      "execution_count": null,
      "outputs": []
    },
    {
      "cell_type": "code",
      "source": [
        "result"
      ],
      "metadata": {
        "colab": {
          "base_uri": "https://localhost:8080/"
        },
        "id": "2o2vaFv2szGs",
        "outputId": "d5bc479f-c7a9-434d-dd80-fb4554e05edd"
      },
      "execution_count": null,
      "outputs": [
        {
          "output_type": "execute_result",
          "data": {
            "text/plain": [
              "['秋 O',\n",
              " '冬 O',\n",
              " '季 O',\n",
              " '新 O',\n",
              " '款 O',\n",
              " '保 O',\n",
              " '暖 O',\n",
              " '棉 O',\n",
              " '拖 B-鞋垫材质',\n",
              " '鞋 I-鞋垫材质',\n",
              " '居 O',\n",
              " '家 O',\n",
              " '室 O',\n",
              " '内 O',\n",
              " '踩 O',\n",
              " '屎 O',\n",
              " '感 O',\n",
              " '静 O',\n",
              " '音 O',\n",
              " '厚 B-厚度',\n",
              " '底 O',\n",
              " '简 O',\n",
              " '约 O',\n",
              " '防 O',\n",
              " '滑 O',\n",
              " '情 O',\n",
              " '侣 O',\n",
              " '拖 O',\n",
              " '鞋 O']"
            ]
          },
          "metadata": {},
          "execution_count": 158
        }
      ]
    },
    {
      "cell_type": "code",
      "source": [
        "pred = [re.split('', line) for line in result]"
      ],
      "metadata": {
        "id": "u144VYbFsYmF"
      },
      "execution_count": null,
      "outputs": []
    },
    {
      "cell_type": "code",
      "source": [
        "pred"
      ],
      "metadata": {
        "colab": {
          "base_uri": "https://localhost:8080/"
        },
        "id": "V_hG3JdwsibP",
        "outputId": "e0c79195-4488-4044-af8e-490b54ed2abd"
      },
      "execution_count": null,
      "outputs": [
        {
          "output_type": "execute_result",
          "data": {
            "text/plain": [
              "[['秋', 'O'],\n",
              " ['冬', 'O'],\n",
              " ['季', 'O'],\n",
              " ['新', 'O'],\n",
              " ['款', 'O'],\n",
              " ['保', 'O'],\n",
              " ['暖', 'O'],\n",
              " ['棉', 'B-面料材质'],\n",
              " ['拖', 'I-面料材质'],\n",
              " ['鞋', 'I-面料材质'],\n",
              " ['居', 'O'],\n",
              " ['家', 'O'],\n",
              " ['室', 'O'],\n",
              " ['内', 'O'],\n",
              " ['踩', 'O'],\n",
              " ['屎', 'O'],\n",
              " ['感', 'O'],\n",
              " ['静', 'O'],\n",
              " ['音', 'O'],\n",
              " ['厚', 'O'],\n",
              " ['底', 'O'],\n",
              " ['简', 'O'],\n",
              " ['约', 'O'],\n",
              " ['防', 'O'],\n",
              " ['滑', 'O'],\n",
              " ['情', 'O'],\n",
              " ['侣', 'O'],\n",
              " ['拖', 'O'],\n",
              " ['鞋', 'O']]"
            ]
          },
          "metadata": {},
          "execution_count": 140
        }
      ]
    },
    {
      "cell_type": "code",
      "source": [
        "[line[0] for line in pred]"
      ],
      "metadata": {
        "colab": {
          "base_uri": "https://localhost:8080/"
        },
        "id": "0FWk7Iansbh0",
        "outputId": "c054ff5d-9de2-423f-e35f-f9762c0a3241"
      },
      "execution_count": null,
      "outputs": [
        {
          "output_type": "execute_result",
          "data": {
            "text/plain": [
              "['秋 O',\n",
              " '冬 O',\n",
              " '季 O',\n",
              " '新 O',\n",
              " '款 O',\n",
              " '保 O',\n",
              " '暖 O',\n",
              " '棉 O',\n",
              " '拖 B-鞋垫材质',\n",
              " '鞋 I-鞋垫材质',\n",
              " '居 O',\n",
              " '家 O',\n",
              " '室 O',\n",
              " '内 O',\n",
              " '踩 O',\n",
              " '屎 O',\n",
              " '感 O',\n",
              " '静 O',\n",
              " '音 O',\n",
              " '厚 B-厚度',\n",
              " '底 O',\n",
              " '简 O',\n",
              " '约 O',\n",
              " '防 O',\n",
              " '滑 O',\n",
              " '情 O',\n",
              " '侣 O',\n",
              " '拖 O',\n",
              " '鞋 O']"
            ]
          },
          "metadata": {},
          "execution_count": 156
        }
      ]
    },
    {
      "cell_type": "code",
      "source": [
        "\n",
        "\n",
        "for i in range(len(five_shot_query_texts)):\n",
        "    if(i%10==0):\n",
        "        print(i)\n",
        "    query = five_shot_query_texts[i]\n",
        "    query = ' '.join(query)\n",
        "    true_label = query_tags[i]\n",
        "\n",
        "\n",
        "    completion = client.chat.completions.create(\n",
        "        model=\"gpt-3.5-turbo\",\n",
        "        messages=[\n",
        "        {\"role\": \"system\", \"content\": system_prompt},\n",
        "        {\"role\": \"user\", \"content\": query}\n",
        "        ]\n",
        "        )\n",
        "\n",
        "\n",
        "    result = completion.choices[0].message.content.split('\\n')\n",
        "\n",
        "    pred = [re.split(' ', line) for line in result]\n",
        "\n",
        "    print(pred)\n",
        "    pred = [line[1] for line in pred]\n",
        "    pred = check_key(tag2id,pred)\n",
        "\n",
        "    # convert tag to id for f1 score calculation\n",
        "    true_label = [int(tag2id[tag]) for tag in true_label]\n",
        "\n",
        "    # validate input\n",
        "    pred, true_label = validate_dimension(pred, true_label)\n",
        "    f1 = compute_metrics(true_label, pred)\n",
        "    if f1 < 0.4:\n",
        "        # record those low f1_score prediction for error analysis\n",
        "        id_list.append(i)\n",
        "        pred_list.append(word_pred)\n",
        "        low_f1_list.append(f1)\n",
        "    five_shot_f1_scores.append(f1)"
      ],
      "metadata": {
        "colab": {
          "base_uri": "https://localhost:8080/",
          "height": 1000
        },
        "id": "-CW4SMwrqH58",
        "outputId": "3c819e90-129e-4e72-9b0d-b6f962e3e96a"
      },
      "execution_count": null,
      "outputs": [
        {
          "output_type": "stream",
          "name": "stdout",
          "text": [
            "0\n",
            "[['秋', 'O'], ['冬', 'O'], ['季', 'O'], ['新', 'O'], ['款', 'O'], ['保', 'B-功能功效'], ['暖', 'I-功能功效'], ['棉', 'B-面料材质'], ['拖', 'O'], ['鞋', 'O'], ['居', 'O'], ['家', 'O'], ['室', 'O'], ['内', 'O'], ['踩', 'O'], ['屎', 'O'], ['感', 'O'], ['静', 'O'], ['音', 'O'], ['厚', 'B-厚度'], ['底', 'O'], ['简', 'O'], ['约', 'O'], ['防', 'O'], ['滑', 'O'], ['情', 'O'], ['侣', 'O'], ['拖', 'O'], ['鞋', 'O']]\n",
            "[['粉', 'B-颜色'], ['金', 'I-颜色'], ['粉', 'I-颜色'], ['玫', 'I-颜色'], ['瑰', 'I-颜色'], ['香', 'B-分类'], ['槟', 'I-分类'], ['色', 'I-分类'], ['系', 'O'], ['开', 'O'], ['业', 'O'], ['花', 'B-适用对象'], ['篮', 'I-适用对象'], ['单', 'O'], ['个', 'O'], ['（', 'O'], ['2', 'O'], ['个', 'O'], ['起', 'O'], ['拍', 'O'], ['）', 'O']]\n",
            "[['维', 'B-适用对象'], ['达', 'I-适用对象'], ['v', 'O'], ['i', 'O'], ['n', 'O'], ['d', 'O'], ['a', 'O'], ['洁', 'B-外观'], ['肤', 'I-外观'], ['去', 'O'], ['油', 'O'], ['冰', 'B-功能功效'], ['爽', 'I-功能功效'], ['湿', 'B-适用对象'], ['巾', 'I-适用对象'], ['3', 'O'], ['包', 'O'], ['/', 'O'], ['包', 'O'], ['件', 'O']]\n",
            "[['芬', 'B-商品特色'], ['达', 'I-商品特色'], ['汽', 'I-商品特色'], ['水', 'I-商品特色'], ['零', 'I-糖含量'], ['卡', 'I-糖含量'], ['无', 'I-糖含量'], ['糖', 'I-糖含量']]\n",
            "[['贝', 'B-品牌'], ['', '亲', 'B-适用对象'], ['', '自', 'I-适用对象'], ['', '然', 'I-适用对象'], ['', '实', 'I-适用对象'], ['', '感', 'I-适用对象'], ['', '宽', 'B-适用空间'], ['', '口', 'I-适用空间'], ['', '径', 'I-适用空间'], ['', '玻', 'B-材质'], ['', '璃', 'I-材质'], ['', '彩', 'B-颜色'], ['', '绘', 'I-颜色'], ['', '奶', 'B-食品'], ['', '瓶', 'I-食品'], ['', '2', 'O'], ['', '4', 'O'], ['', '0', 'O'], ['', 'm', 'O'], ['', 'l', 'O'], ['', '/', 'O'], ['', '瓶', 'O'], ['', '六', 'B-适用人群'], ['', '个', 'I-适用人群'], ['', '月', 'I-适用人群'], ['', '以', 'I-适用人群'], ['', '上', 'I-适用人群'], ['', 'l', 'I-适用空间'], ['', '码', 'O']]\n",
            "[['贝', 'B-品牌'], ['亲', 'I-品牌'], ['(', 'O'], ['p', 'O'], ['i', 'O'], ['g', 'O'], ['e', 'O'], ['o', 'O'], ['n', 'O'], [')', 'O'], ['奶', 'B-产品类型'], ['嘴', 'I-产品类型'], ['贝', 'B-品牌'], ['亲', 'I-品牌'], ['奶', 'B-产品类型'], ['嘴', 'I-产品类型'], ['宽', 'B-属性'], ['口', 'I-属性'], ['径', 'I-属性'], ['奶', 'B-产品类型'], ['嘴', 'I-产品类型'], ['自', 'B-属性'], ['然', 'I-属性'], ['实', 'I-属性'], ['感', 'I-属性'], ['l', 'O'], ['号', 'O'], ['六', 'O'], ['个', 'O'], ['月', 'O'], ['以', 'O'], ['上', 'O'], ['单', 'O'], ['只', 'O'], ['装', 'O']]\n",
            "[['运', 'O'], ['动', 'O'], ['瑜', 'O'], ['伽', 'O'], ['护', 'O'], ['头', 'O'], ['宽', 'O'], ['发', 'O'], ['带', 'O'], ['/', 'O'], ['毛', 'B-材质'], ['巾', 'I-材质'], ['料', 'O'], ['男', 'O'], ['女', 'O'], ['通', 'O'], ['用', 'O']]\n",
            "[['雷', 'O'], ['', '', '柏', 'B-品牌'], ['', '', '有', 'O'], ['', '', '线', 'O'], ['', '', '光', 'O'], ['', '', '学', 'O'], ['', '', '键', 'B-功能功效'], ['', '', '鼠', 'I-功能功效'], ['', '', '套', 'I-功能功效'], ['', '', '装', 'I-功能功效'], ['', '', '电', 'B-产地'], ['', '', '脑', 'I-产地'], ['', '', '鼠', 'B-功能功效'], ['', '', '标', 'I-功能功效'], ['', '', '', '+', '', 'O'], ['', '', '电', 'B-产地'], ['', '', '脑', 'I-产地'], ['', '', '键', 'B-功能功效'], ['', '', '', '盘', 'I-功能功效'], ['', '', '', '/', '', 'O'], ['', '', '套', 'I-功能功效']]\n",
            "[['韩', 'B-国产/进口'], ['国', 'I-国产/进口'], ['进', 'I-国产/进口'], ['口', 'I-国产/进口'], ['乐', 'O'], ['天', 'O'], ['派', 'O'], ['派', 'O'], ['乐', 'O'], ['饼', 'O'], ['干', 'O'], ['棒', 'O'], ['曲', 'O'], ['奇', 'O'], ['颗', 'O'], ['粒', 'O'], ['巧', 'O'], ['克', 'O'], ['力', 'O'], ['味', 'O'], ['3', 'O'], ['2', 'O'], ['g', 'O'], ['/', 'O'], ['盒', 'O']]\n",
            "[['(', 'B-品牌', ')', '(', 'I-品牌', ')', '', '(', 'O', ')', '(', 'B-食材', ')', '(', 'I-食材', ')', '', '(', 'I-食材', ')', '', '(', 'I-食材', ')', '', '(', 'O', ')', '', '(', 'O', ')', '', '(', 'O', ')', '', '(', 'O', ')', '', '', '(', 'O', ')', '', '(', 'B-净重', ')', '', '(', 'I-净重', ')']]\n",
            "10\n",
            "[['e', 'O', '', ''], ['-', 'O', '', ''], ['1', 'O', '', ''], ['8', 'O', '', ''], ['2', 'O', '', ''], ['有', 'O', '', ''], ['线', 'O', '', ''], ['耳', 'B-配件类型', '', ''], ['机', 'I-配件类型', '', ''], ['时', 'O', '', ''], ['尚', 'O', '', ''], ['女', 'O', '', ''], ['款', 'O', '', ''], ['双', 'O', '', ''], ['耳', 'B-配件类型', '', ''], ['高', 'O', '', ''], ['音', 'O', '', ''], ['质', 'O', '', ''], ['入', 'O', '', ''], ['耳', 'O', '', ''], ['式', 'O', '', ''], ['o', 'O', '', ''], ['p', 'O', '', ''], ['p', 'O', '', ''], ['o', 'O', '', ''], ['华', 'B-品质等级', '', ''], ['为', 'I-品质等级', '', ''], ['v', 'O', '', ''], ['i', 'O', '', ''], ['v', 'O', '', ''], ['o', 'O', '', ''], ['苹', 'B-适用对象', '', ''], ['果', 'I-适用对象', '', ''], ['手', 'O', '', ''], ['机', 'O', '', ''], ['通', 'O', '', ''], ['用', 'O']]\n",
            "[['【', 'B-节日', 'O', '】', 'B-商品特色', 'O', 'O', 'B-果肉颜色', 'O', 'O', 'O', 'O', 'O', 'O', 'O', 'O', 'O', 'O', 'O']]\n",
            "[['【', 'B-其他属性'], ['纯', 'I-其他属性'], ['羊', 'B-其他属性'], ['肉', 'I-其他属性'], ['假', 'O'], ['一', 'O'], ['赔', 'O'], ['十', 'O'], ['】', 'O'], ['羊', 'B-适用对象'], ['佑', 'I-适用对象'], ['火', 'I-适用对象'], ['清', 'I-适用对象'], ['真', 'I-适用对象'], ['羊', 'B-其他属性'], ['肉', 'I-其他属性'], ['卷', 'I-其他属性'], ['3', 'O'], ['0', 'O'], ['0', 'O'], ['g', 'O'], ['/', 'O'], ['盒', 'O']]\n",
            "[['万', 'O'], ['代', 'O'], ['透', 'O'], ['明', 'O'], ['限', 'O'], ['定', 'O'], ['版', 'O'], ['-', 'O'], ['捷', 'O'], ['德', 'O'], ['奥', 'O'], ['特', 'O'], ['曼', 'O'], ['原', 'O'], ['始', 'O'], ['形', 'O'], ['态', 'O'], ['6', 'B-数字'], ['8', 'I-数字'], ['0', 'I-数字'], ['0', 'I-数字'], ['1', 'I-数字'], ['-', 'O'], ['1', 'B-数字'], ['奥', 'O'], ['特', 'O'], ['曼', 'O'], ['b', 'O'], ['a', 'O'], ['n', 'O'], ['d', 'O'], ['a', 'O'], ['i', 'O'], ['男', 'O'], ['孩', 'O'], ['玩', 'O'], ['具', 'O']]\n",
            "[['东', 'B-方位'], ['北', 'I-方位'], ['东', 'B-方位'], ['北', 'I-方位'], ['圆', 'B-形状形态'], ['粒', 'B-形状形态'], ['糯', 'I-形状形态'], ['米', 'I-形状形态'], ['约', 'O'], ['5', 'O'], ['0', 'O'], ['0', 'O'], ['g', 'O']]\n",
            "[['乐', 'O'], ['迪', 'O'], ['拼', 'O'], ['精', 'O'], ['致', 'O'], ['6', 'B-适用人数'], ['3', 'I-适用人数'], ['0', 'I-适用人数'], ['0', 'I-适用人数'], ['2', 'I-适用人数'], ['-', 'I-适用人数'], ['4', 'I-适用人数'], ['黄', 'B-颜色'], ['蜂', 'O'], ['战', 'O'], ['士', 'O'], ['拼', 'O'], ['装', 'O'], ['变', 'O'], ['形', 'O'], ['机', 'O'], ['器', 'O'], ['人', 'O'], ['男', 'O'], ['孩', 'O'], ['益', 'O'], ['智', 'O'], ['积', 'O'], ['木', 'O'], ['玩', 'O'], ['具', 'O'], ['/', 'O'], ['盒', 'O']]\n",
            "[['伊', 'O'], ['利', 'B-品牌'], ['带', 'O'], ['盖', 'O'], ['巧', 'O'], ['乐', 'O'], ['兹', 'O'], ['香', 'B-香型'], ['草', 'I-香型'], ['脆', 'B-口感'], ['筒', 'O'], ['雪', 'O'], ['8', 'O'], ['5', 'O'], ['g', 'O']]\n",
            "[['倍', 'O'], ['力', 'O'], ['乐', 'O'], ['狼', 'B-适用对象'], ['牙', 'I-适用对象'], ['颗', 'I-适用对象'], ['粒', 'I-适用对象'], ['冰', 'B-外观'], ['火', 'I-外观'], ['一', 'B-组合形式'], ['体', 'I-组合形式'], ['避', 'O'], ['孕', 'O'], ['套', 'B-外观'], ['热', 'B-功能功效'], ['感', 'I-功能功效'], ['套', 'I-外观'], ['颗', 'I-适用对象'], ['粒', 'I-适用对象'], ['野', 'O'], ['性', 'O'], ['刺', 'O'], ['激', 'O'], ['1', 'O'], ['0', 'O'], ['支', 'O'], ['装', 'O']]\n",
            "[['嗨', 'O'], ['吃', 'O'], ['家', 'O'], ['酸', 'B-口味'], ['辣', 'I-口味'], ['粉', 'I-口味'], ['细', 'B-口感'], ['粉', 'I-口感'], ['1', 'O'], ['2', 'O'], ['0', 'O'], ['克', 'O']]\n",
            "[['圣', 'O'], ['诞', 'O'], ['节', 'O'], ['高', 'O'], ['端', 'O'], ['中', 'O'], ['号', 'O'], ['圆', 'B-形状形态'], ['形', 'I-形状形态'], ['花', 'B-颜色'], ['盒', 'O'], ['白', 'B-颜色'], ['紫', 'I-颜色'], ['香', 'O'], ['槟', 'O'], ['色', 'O'], ['系', 'O']]\n",
            "20\n",
            "[['多', 'O'], ['乐', 'O'], ['士', 'O'], ['时', 'O'], ['尚', 'O'], ['水', 'O'], ['溶', 'O'], ['避', 'O'], ['孕', 'O'], ['套', 'O'], ['1', 'O'], ['2', 'O'], ['只', 'O'], ['装', 'O'], ['贴', 'O'], ['身', 'O'], ['爽', 'O'], ['滑', 'O'], ['安', 'O'], ['全', 'O'], ['套', 'O'], ['成', 'O'], ['人', 'O'], ['用', 'O'], ['品', 'O']]\n",
            "[['宝', 'O'], ['丽', 'O'], ['秀', 'O'], ['3', 'B-大小'], ['1', 'I-大小'], ['4', 'I-大小'], ['卡', 'O'], ['通', 'O'], ['兔', 'O'], ['子', 'O'], ['绒', 'O'], ['毛', 'O'], ['布', 'O'], ['袖', 'O'], ['套', 'O'], ['/', 'O'], ['长', 'O'], ['2', 'B-厚薄'], ['4', 'I-厚薄'], ['厘', 'O'], ['米', 'O'], ['/', 'O'], ['双', 'O']]\n",
            "[['实', 'O'], ['习', 'O'], ['车', 'B-适用对象'], ['贴', 'I-适用对象'], ['磁', 'O'], ['吸', 'O'], ['女', 'O'], ['司', 'O'], ['机', 'O'], ['新', 'O'], ['手', 'O'], ['上', 'O'], ['路', 'O'], ['创', 'O'], ['意', 'O'], ['标', 'O'], ['志', 'O'], ['汽', 'O'], ['车', 'B-适用对象'], ['贴', 'I-适用对象'], ['纸', 'O'], ['/', 'O'], ['张', 'O']]\n",
            "[['春', 'O'], ['夏', 'B-适用季节'], ['季', 'I-适用季节'], ['t', 'O'], ['裆', 'O'], ['超', 'O'], ['薄', 'O'], ['款', 'O'], ['一', 'O'], ['次', 'O'], ['连', 'O'], ['裤', 'O'], ['袜', 'O'], ['手', 'O'], ['撕', 'O'], ['丝', 'O'], ['袜', 'O'], ['(', 'O'], ['黑', 'B-颜色'], ['色', 'I-颜色'], ['款', 'O'], ['/', 'O'], ['肤', 'B-颜色'], ['色', 'I-颜色'], ['款', 'O'], ['需', 'O'], ['备', 'O'], ['注', 'O'], ['发', 'O'], ['货', 'O'], [')', 'O'], ['简', 'O'], ['易', 'O'], ['包', 'O'], ['装', 'O'], ['介', 'O'], ['意', 'O'], ['勿', 'O'], ['拍', 'O'], ['1', 'O'], ['双', 'O']]\n",
            "[['江', 'O'], ['小', 'B-姓名'], ['白', 'I-姓名'], ['4', 'O'], ['0', 'O'], ['度', 'O'], ['金', 'O'], ['奖', 'O'], ['青', 'O'], ['春', 'O'], ['调', 'O'], ['酒', 'O'], ['大', 'O'], ['师', 'O'], ['版', 'O'], ['5', 'O'], ['0', 'O'], ['0', 'O'], ['m', 'O'], ['l', 'O'], ['/', 'O'], ['瓶', 'O'], ['+', 'O'], ['2', 'O'], ['罐', 'O'], ['红', 'O'], ['茶', 'O']]\n",
            "[['爱', 'O'], ['心', 'O'], ['陶', 'B-材质'], ['瓷', 'I-材质'], ['马', 'O'], ['克', 'O'], ['杯', 'O'], ['桃', 'O'], ['心', 'O'], ['带', 'O'], ['盖', 'O'], ['带', 'O'], ['勺', 'O']]\n",
            "[['牛', 'O'], ['', '', '栏', 'O'], ['', '', '山', 'O'], ['', '', '新', 'O'], ['', '', '一', 'O'], ['', '', '代', 'O'], ['', '', '陈', 'O'], ['', '', '酿', 'O'], ['', '', '白', 'O'], ['', '', '酒', 'O'], ['', '', '升', 'O'], ['', '', '级', 'O'], ['', '', '版', 'O'], ['', '', '4', 'B-品质等级'], ['', '', '3', 'I-品质等级'], ['', '', '度', 'O'], ['', '', '5', 'B-糖含量'], ['', '', '0', 'I-糖含量'], ['', '', '0', 'I-糖含量'], ['', '', 'm', 'O'], ['', '', 'l', 'O']]\n",
            "[['独', 'O'], ['爱', 'O'], ['极', 'O'], ['润', 'B-功能功效'], ['人', 'B-适用人群'], ['体', 'I-适用人群'], ['润', 'B-功能功效'], ['滑', 'I-功能功效'], ['油', 'I-功能功效'], ['爽', 'O'], ['滑', 'O'], ['快', 'O'], ['感', 'O'], ['2', 'O'], ['2', 'O'], ['0', 'O'], ['m', 'O'], ['l', 'O'], ['冰', 'B-适用空间'], ['火', 'I-适用空间'], ['水', 'I-适用空间'], ['溶', 'O'], ['润', 'B-功能功效'], ['滑', 'I-功能功效'], ['液', 'I-功能功效']]\n",
            "[['达', 'O'], ['恒', 'O'], ['毛', 'B-面料材质'], ['龙', 'I-面料材质'], ['口', 'O'], ['粉', 'B-面料材质'], ['丝', 'I-面料材质'], ['麻', 'B-颜色'], ['辣', 'I-颜色'], ['烫', 'O'], ['酸', 'B-酸碱度'], ['辣', 'I-酸碱度'], ['粉', 'B-颜色'], ['水', 'B-颜色'], ['晶', 'I-颜色'], ['粉', 'I-颜色'], ['丝', 'I-面料材质'], ['绿', 'B-颜色'], ['豆', 'I-面料材质'], ['粉', 'I-面料材质'], ['丝', 'I-面料材质'], ['1', 'O'], ['6', 'O'], ['0', 'O'], ['g', 'O'], ['方', 'O'], ['便', 'O'], ['细', 'O'], ['粉', 'B-厚度']]\n",
            "[['金', 'B-颜色'], ['边', 'I-颜色'], ['玫', 'B-颜色'], ['瑰', 'I-颜色'], ['带', 'O'], ['盖', 'O'], ['汤', 'O'], ['盆', 'O']]\n",
            "30\n",
            "[['（', 'O'], ['停', 'O'], ['售', 'O'], ['）', 'O'], ['冷', 'B-外观'], ['萃', 'O'], ['咖', 'B-食品'], ['啡', 'I-食品']]\n",
            "[['4', 'O'], ['2', 'O'], ['9', 'O'], ['7', 'O'], ['2', 'O'], ['达', 'O'], ['利', 'O'], ['每', 'O'], ['日', 'O'], ['好', 'O'], ['零', 'B-食'], ['食', 'I-食'], ['4', 'O'], ['6', 'O'], ['0', 'O'], ['g', 'O'], ['年', 'O'], ['货', 'O'], ['节', 'O'], ['礼', 'B-盒'], ['盒', 'I-盒']]\n",
            "[['7', 'O'], ['喜', 'B-外观'], ['冰', 'B-适用空间'], ['爽', 'I-适用空间'], ['柠', 'B-果肉颜色'], ['檬', 'I-果肉颜色'], ['味', 'B-口味'], ['果', 'I-口味'], ['味', 'I-口味'], ['型', 'I-版型'], ['汽', 'B-适用物品'], ['水', 'I-适用物品'], ['2', 'O'], ['0', 'O'], ['0', 'O'], ['m', 'O'], ['l', 'O'], ['/', 'O'], ['罐', 'O']]\n",
            "[['v', 'O'], ['i', 'O'], ['l', 'O'], ['a', 'O'], ['v', 'O'], ['i', 'O'], ['e', 'O'], ['冷', 'O'], ['萃', 'O'], ['经', 'O'], ['典', 'O'], ['咖', 'O'], ['啡', 'O'], ['5', 'B-数量'], ['2', 'I-数量'], ['5', 'I-数量'], ['g', 'O'], ['/', 'O'], ['袋', 'O']]\n",
            "[['♥', 'O'], ['夏', 'B-适用季节'], ['季', 'I-适用季节'], ['车', 'O'], ['面', 'B-包车'], ['包', 'I-包车'], ['车', 'O'], ['货', 'B-包车'], ['车', 'I-包车'], ['车', 'O'], ['用', 'O'], ['凉', 'O'], ['坐', 'O'], ['席', 'O'], ['三', 'O'], ['件', 'O'], ['套', 'O'], ['竹', 'B-面料材质'], ['子', 'I-面料材质'], ['片', 'O'], ['凉', 'O'], ['垫', 'O'], ['汽', 'B-适用对象'], ['车', 'I-适用对象'], ['坐', 'O'], ['垫', 'O'], ['透', 'O'], ['气', 'O'], ['单', 'O'], ['片', 'O'], ['垫', 'O']]\n",
            "[['【', 'O'], ['圣', 'O'], ['诞', 'O'], ['爆', 'O'], ['款', 'O'], ['】', 'O'], ['平', 'B-适用对象'], ['安', 'I-适用对象'], ['果', 'I-适用对象'], ['三', 'O'], ['支', 'O'], ['极', 'O'], ['光', 'O'], ['红', 'B-颜色'], ['玫', 'I-颜色'], ['瑰', 'I-颜色'], ['棉', 'B-面料材质'], ['花', 'I-面料材质'], ['松', 'I-面料材质'], ['果', 'I-面料材质'], ['款', 'O']]\n",
            "[['中', 'O'], ['国', 'O'], ['益', 'B-适用对象'], ['达', 'I-适用对象'], ['无', 'O'], ['糖', 'O'], ['口', 'O'], ['香', 'O'], ['糖', 'O'], ['清', 'O'], ['爽', 'O'], ['西', 'O'], ['瓜', 'O'], ['味', 'O'], ['含', 'O'], ['木', 'O'], ['糖', 'O'], ['醇', 'O'], ['1', 'O'], ['3', 'O'], ['.', 'O'], ['5', 'O']]\n",
            "[['中', 'O'], ['诺', 'B-品牌'], ['c', 'I-品牌'], ['1', 'O'], ['6', 'O'], ['8', 'O'], ['座', 'O'], ['式', 'O'], ['电', 'O'], ['话', 'O'], ['机', 'O'], ['家', 'O'], ['用', 'O'], ['办', 'O'], ['公', 'O'], ['室', 'O'], ['有', 'O'], ['线', 'O'], ['固', 'O'], ['定', 'O'], ['座', 'O'], ['机', 'O'], ['单', 'O'], ['机', 'O'], ['来', 'O'], ['电', 'O'], ['显', 'O'], ['示', 'O'], ['免', 'O'], ['电', 'O'], ['池', 'O']]\n",
            "[['九', 'O'], ['鼎', 'O'], ['便', 'O'], ['携', 'O'], ['式', 'O'], ['卡', 'O'], ['式', 'O'], ['炉', 'O'], ['迷', 'O'], ['你', 'O'], ['卡', 'O'], ['式', 'O'], ['炉', 'O'], ['火', 'O'], ['锅', 'O'], ['炉', 'O'], ['旅', 'O'], ['行', 'O'], ['燃', 'O'], ['气', 'O'], ['瓦', 'O'], ['斯', 'O'], ['炉', 'O'], ['子', 'O'], ['户', 'O'], ['外', 'O'], ['防', 'O'], ['风', 'O'], ['野', 'O'], ['外', 'O'], ['炉', 'O'], ['灶', 'O'], ['不', 'O'], ['含', 'O'], ['气', 'O'], ['1', 'O'], ['个', 'O'], ['/', 'O'], ['件', 'O']]\n",
            "[['伊', 'B-产地'], ['利', 'I-产地'], ['味', 'O'], ['可', 'O'], ['滋', 'O'], ['冷', 'O'], ['萃', 'O'], ['奶', 'O'], ['茶', 'O'], ['2', 'O'], ['5', 'O'], ['0', 'O'], ['m', 'O'], ['l', 'O'], ['*', 'O'], ['1', 'O'], ['5', 'O'], ['/', 'O'], ['件', 'O']]\n",
            "40\n",
            "[['双', 'B-适用空间'], ['g', 'I-适用空间'], ['点', 'O'], ['兔', 'O'], ['子', 'O'], ['a', 'O'], ['v', 'O'], ['棒', 'O'], ['调', 'O'], ['情', 'O'], ['振', 'O'], ['动', 'O'], ['六', 'B-适用人数'], ['频', 'O']]\n",
            "[['夏', 'O'], ['', '', 'O', 'O'], ['', '', '倾', 'O'], ['', '', '情', 'O'], ['', '', '~', 'O'], ['', '', '向', 'O'], ['', '', '日', 'O'], ['', '', '葵', 'B-颜色'], ['', '', '香', 'I-颜色'], ['', '', '槟', 'I-颜色'], ['', '', '玫', 'I-颜色'], ['', '', '瑰', 'I-颜色'], ['', '', '毕', 'O'], ['', '', '业', 'O'], ['', '', '季', 'O'], ['', '', '花', 'O'], ['', '', '束', 'O']]\n",
            "[['延', 'O'], ['边', 'O'], ['风', 'O'], ['味', 'O'], ['辣', 'O'], ['鱼', 'O'], ['1', 'O'], ['0', 'O'], ['0', 'O'], ['g', 'O']]\n",
            "[['正', 'O'], ['版', 'O'], ['灵', 'O'], ['动', 'O'], ['创', 'O'], ['想', 'O'], ['手', 'O'], ['办', 'O'], ['捷', 'B-品质等级'], ['德', 'I-品质等级'], ['迪', 'I-品质等级'], ['迦', 'I-品质等级'], ['赛', 'I-品质等级'], ['罗', 'I-品质等级'], ['奥', 'I-品质等级'], ['特', 'I-品质等级'], ['曼', 'I-品质等级'], ['玩', 'O'], ['具', 'O'], ['男', 'O'], ['孩', 'O'], ['变', 'O'], ['身', 'O'], ['器', 'O'], ['泽', 'O'], ['塔', 'O'], ['变', 'O'], ['形', 'O'], ['可', 'O'], ['动', 'O'], ['人', 'O'], ['偶', 'O'], ['之', 'O'], ['泰', 'B-适用对象'], ['迦', 'I-适用对象'], ['奥', 'I-适用对象'], ['特', 'I-适用对象'], ['曼', 'I-适用对象']]\n",
            "[['泰', 'B-产地'], ['国', 'I-产地'], ['树', 'B-适用空间'], ['熟', 'B-其他属性'], ['火', 'I-其他属性'], ['山', 'I-其他属性'], ['榴', 'I-其他属性'], ['莲', 'I-其他属性'], ['一', 'O'], ['斤', 'O'], ['（', 'O'], ['泰', 'B-产地'], ['国', 'I-产地'], ['冷', 'O'], ['链', 'O'], ['直', 'O'], ['发', 'O'], ['）', 'O']]\n",
            "[['爱', 'O'], ['家', 'O'], ['缘', 'O'], ['电', 'B-供电方式'], ['热', 'O'], ['管', 'O'], ['热', 'O'], ['得', 'O'], ['快', 'O'], ['电', 'B-供电方式'], ['热', 'O'], ['棒', 'O'], ['烧', 'O'], ['水', 'O'], ['棒', 'O'], ['3', 'O'], ['0', 'O'], ['0', 'O'], ['0', 'O'], ['w', 'O'], ['1', 'O'], ['个', 'O']]\n",
            "[['特', 'O'], ['厚', 'B-厚度'], ['复', 'O'], ['底', 'O'], ['不', 'O'], ['锈', 'O'], ['钢', 'B-材质'], ['加', 'O'], ['厚', 'O'], ['蒸', 'O'], ['锅', 'O'], ['电', 'O'], ['磁', 'O'], ['炉', 'O'], ['煤', 'O'], ['气', 'O'], ['灶', 'O'], ['液', 'O'], ['化', 'O'], ['气', 'O'], ['通', 'O'], ['用', 'O'], ['2', 'O'], ['8', 'O'], ['c', 'I-长度'], ['m', 'I-长度'], ['/', 'O'], ['个', 'O']]\n",
            "[['砂', 'O'], ['锅', 'B-锅底类型'], ['炖', 'I-锅底类型'], ['锅', 'I-锅底类型'], ['家', 'O'], ['用', 'O'], ['燃', 'O'], ['气', 'O'], ['明', 'O'], ['火', 'O'], ['耐', 'O'], ['高', 'O'], ['温', 'O'], ['孕', 'B-适用人群'], ['妇', 'I-适用人群'], ['熬', 'O'], ['粥', 'O'], ['炖', 'O'], ['汤', 'O'], ['5', 'O'], ['.', 'O'], ['5', 'O'], ['升', 'O']]\n",
            "[['越', 'B-产地', '', ''], ['南', 'I-产地', '', ''], ['红', 'B-果肉颜色', '', ''], ['心', 'I-果肉颜色', '', ''], ['火', 'I-果肉颜色', '', ''], ['龙', 'I-果肉颜色', '', ''], ['果', 'I-果肉颜色', '', ''], ['，', 'O', '', ''], ['嫩', 'B-厚度', '', ''], ['滑', 'I-厚度', '', ''], ['多', 'B-口感', '', ''], ['汁', 'I-口感', '', ''], ['，', 'O', '', ''], ['清', 'B-口感', '', ''], ['甜', 'I-口感', '', ''], ['回', 'I-口感', '', ''], ['味', 'I-口感', '', ''], ['无', 'I-口感', '', ''], ['穷', 'I-口感', '', ''], ['。', 'O', '', '']]\n",
            "[['迪', 'B-适用对象'], ['士', 'I-适用对象'], ['尼', 'I-适用对象'], ['n', 'O'], ['z', 'O'], ['a', 'O'], ['5', 'O'], ['4', 'O'], ['4', 'O'], ['3', 'O'], ['男', 'O'], ['孩', 'O'], ['经', 'O'], ['典', 'O'], ['书', 'O'], ['包', 'O'], ['/', 'O'], ['个', 'O']]\n",
            "50\n",
            "[['追', 'O'], ['光', 'O'], ['豹', 'O'], ['1', 'B-数字'], ['9', 'I-数字'], ['9', 'I-数字'], ['有', 'O'], ['线', 'O'], ['u', 'O'], ['s', 'O'], ['b', 'O'], ['光', 'O'], ['电', 'O'], ['发', 'O'], ['光', 'O'], ['游', 'O'], ['戏', 'O'], ['鼠', 'O'], ['标', 'O'], ['电', 'O'], ['脑', 'O'], ['鼠', 'O'], ['标', 'O']]\n",
            "[['锡', 'B-材质'], ['纸', 'I-材质'], ['盒', 'O'], ['外', 'O'], ['卖', 'O'], ['烧', 'B-外观'], ['烤', 'I-外观'], ['打', 'O'], ['包', 'O'], ['盒', 'O'], ['长', 'O'], ['方', 'O'], ['形', 'O'], ['烘', 'O'], ['焙', 'O'], ['锡', 'B-材质'], ['箔', 'I-材质'], ['盘', 'O'], ['带', 'O'], ['盖', 'O'], ['/', 'O'], ['个', 'O']]\n",
            "[['颗', 'O'], ['粒', 'O'], ['玉', 'B-材质'], ['米', 'I-材质'], ['面', 'I-材质'], ['（', 'O'], ['散', 'O'], ['）', 'O'], ['5', 'O'], ['0', 'O'], ['0', 'O'], ['g', 'O']]\n",
            "[['麦', 'B-品牌'], ['花', 'I-品牌'], ['村', 'I-品牌'], ['老', 'I-品牌'], ['式', 'I-品牌'], ['面', 'B-适用对象'], ['包', 'I-适用对象'], ['2', 'O'], ['0', 'O'], ['0', 'O'], ['g', 'O'], ['/', 'O'], ['袋', 'O']]\n",
            "[['鼠', 'B-产品特色'], ['标', 'I-产品特色'], ['键', 'I-产品特色'], ['盘', 'I-产品特色'], ['套', 'I-产品特色'], ['装', 'I-产品特色'], ['有', 'O'], ['线', 'O'], ['u', 'B-供电方式'], ['s', 'I-供电方式'], ['b', 'I-供电方式'], ['电', 'O'], ['脑', 'O'], ['办', 'O'], ['公', 'O'], ['l', 'O'], ['o', 'O'], ['l', 'O'], ['游', 'O'], ['戏', 'O'], ['家', 'O'], ['用', 'O'], ['静', 'B-功能功效'], ['音', 'I-功能功效'], ['键', 'O'], ['鼠', 'O'], ['套', 'O'], ['装', 'O']]\n",
            "[[';', 'O'], ['正', 'O'], ['牛', 'B-动物'], ['快', 'O'], ['速', 'O'], ['电', 'B-功能功效'], ['热', 'B-特性'], ['水', 'I-特性'], ['壶', 'O']]\n",
            "[['a', 'O'], ['v', 'O'], ['棒', 'O'], ['跳', 'O'], ['蛋', 'O'], ['无', 'O'], ['线', 'O'], ['震', 'O'], ['动', 'O'], ['跳', 'O'], ['蚤', 'O'], ['激', 'O'], ['情', 'O'], ['趣', 'O'], ['用', 'O'], ['具', 'O'], ['迷', 'O'], ['你', 'O'], ['高', 'O'], ['潮', 'O'], ['女', 'B-用品'], ['用', 'I-用品'], ['品', 'I-用品'], ['学', 'O'], ['生', 'O'], ['女', 'O'], ['性', 'O'], ['超', 'O'], ['强', 'O']]\n",
            "[['【', 'B-其他属性】', 'h', 'O', 'B-适用对象', 't', '【', 'I-其他属性】', '】', '【', 'B-适用对象】', '陶', '【', 'I-适用对象】', '华', '碧', '【', 'I-适用对象】', '老', '干', '妈', '【', 'I-适用对象】', '风', '【', 'I-适用对象】', '味', '【', 'I-适用对象】', '豆', '【', 'I-适用对象】', '豉', '【', 'I-适用对象】', '油', '【', 'I-适用对象】', '制', '【', 'I-适用对象】', '辣', '【', 'I-适用对象】', '椒', '2', '6', '0', 'g', '/', '【', 'I-适用对象】', '瓶']]\n",
            "[['【', 'O'], ['明', 'O'], ['日', 'O'], ['之', 'O'], ['星', 'O'], ['】', 'O'], ['', '', 'O'], ['6', 'B-数字'], ['枝', 'O'], ['香', 'B-面料材质'], ['槟', 'I-面料材质'], ['1', 'B-数字'], ['朵', 'O'], ['向', 'O'], ['日', 'O'], ['葵', 'B-送礼对象'], ['六', 'B-数字'], ['一', 'B-数字'], ['儿', 'O'], ['童', 'O'], ['节', 'O'], ['礼', 'O'], ['物', 'O'], ['创', 'O'], ['意', 'O'], ['花', 'O'], ['束', 'O']]\n",
            "[['【', 'B-颜色'], ['真', 'O'], ['的', 'O'], ['爱', 'O'], ['你', 'O'], ['】', 'O'], ['', '', 'O'], ['9', '9', 'B-大小'], ['支', 'O'], ['香', 'B-香型'], ['槟', 'O'], ['色', 'B-颜色'], ['系', 'O'], ['混', 'O'], ['搭', 'O'], ['花', 'O'], ['束', 'O']]\n",
            "60\n",
            "[['光', 'O'], ['明', 'O'], ['风', 'O'], ['味', 'O'], ['发', 'O'], ['酵', 'O'], ['乳', 'O'], ['1', 'O'], ['瓶', 'O'], ['/', 'O'], ['2', 'O'], ['8', 'O'], ['0', 'O'], ['g', 'O']]\n",
            "[['品', 'O'], ['胜', 'O'], ['入', 'O'], ['耳', 'B-式'], ['立', 'I-式'], ['体', 'I-式'], ['声', 'I-式'], ['有', 'O'], ['线', 'B-耳'], ['耳', 'I-耳'], ['机', 'I-耳'], ['(', 'O'], ['圆', 'O'], ['口', 'O'], [')', 'O'], ['x', 'O'], ['s', 'O'], ['3', 'O'], ['0', 'O'], ['0', 'O'], ['苹', 'B-果'], ['果', 'I-果'], ['白', 'O']]\n",
            "[['品', 'O'], ['胜', 'O'], ['耳', 'B-配件类型'], ['机', 'I-配件类型'], ['高', 'O'], ['保', 'O'], ['真', 'O'], ['立', 'O'], ['体', 'O'], ['声', 'O'], ['线', 'O'], ['控', 'O'], ['有', 'O'], ['线', 'O'], ['入', 'O'], ['耳', 'B-配件类型'], ['式', 'I-配件类型'], ['耳', 'I-配件类型'], ['机', 'I-配件类型']]\n",
            "[['安', 'O'], ['徽', 'O'], ['省', 'O'], ['合', 'O'], ['肥', 'O'], ['市', 'O'], ['今', 'O'], ['统', 'O'], ['时', 'O'], ['光', 'O'], ['丹', 'B-国产/进口'], ['麦', 'I-国产/进口'], ['唱', 'I-国产/进口'], ['片', 'I-国产/进口'], ['面', 'B-商品特色'], ['包', 'I-商品特色']]\n",
            "[['宝', 'O'], ['宝', 'O'], ['玩', 'O'], ['具', 'O'], ['儿', 'B-适用对象'], ['童', 'I-适用对象'], ['泡', 'O'], ['泡', 'O'], ['机', 'O'], ['带', 'O'], ['灯', 'O'], ['光', 'O'], ['音', 'O'], ['乐', 'O'], ['小', 'O'], ['马', 'O'], ['宝', 'O'], ['莉', 'O'], ['电', 'O'], ['动', 'O'], ['全', 'O'], ['自', 'O'], ['动', 'O'], ['泡', 'O'], ['泡', 'O'], ['机', 'O'], ['户', 'O'], ['外', 'O'], ['七', 'O'], ['彩', 'O'], ['泡', 'O'], ['泡', 'O'], ['玩', 'O'], ['具', 'O'], ['女', 'B-适用对象'], ['孩', 'I-适用对象'], ['男', 'B-适用对象'], ['孩', 'I-适用对象'], ['玩', 'O'], ['具', 'O'], ['泡', 'O'], ['泡', 'O'], ['枪', 'O']]\n",
            "[['希', 'O'], ['诺', 'O'], ['（', 'O'], ['h', 'I-适用人群'], ['e', 'I-适用人群'], ['e', 'I-适用人群'], ['n', 'I-适用人群'], ['o', 'I-适用人群'], ['o', 'I-适用人群'], ['r', 'I-适用人群'], ['）', 'O'], ['玻', 'B-面料材质'], ['璃', 'I-面料材质'], ['杯', 'O'], ['单', 'O'], ['层', 'O'], ['水', 'O'], ['杯', 'O'], ['带', 'O'], ['盖', 'O'], ['男', 'O'], ['女', 'O'], ['士', 'O'], ['透', 'O'], ['明', 'O'], ['泡', 'O'], ['茶', 'O'], ['杯', 'O'], ['子', 'O'], ['6', 'O'], ['0', 'O'], ['5', 'O'], ['6', 'O'], ['5', 'O'], ['8', 'O'], ['0', 'O'], ['m', 'I-大小'], ['l', 'I-大小']]\n",
            "[['带', 'O'], ['盖', 'O'], ['火', 'B-锅底类型'], ['锅', 'I-锅底类型'], ['3', 'O'], ['0', 'O'], ['c', 'O'], ['m', 'O'], ['不', 'O'], ['锈', 'B-材质'], ['钢', 'I-材质'], ['平', 'O'], ['底', 'O'], ['锅', 'O']]\n",
            "[['新', 'O'], ['手', 'O'], ['上', 'O'], ['路', 'O'], ['车', 'O'], ['贴', 'O'], ['实', 'O'], ['习', 'O'], ['标', 'O'], ['志', 'O'], ['女', 'B-适用人群'], ['司', 'I-适用人群'], ['机', 'I-适用人群'], ['汽', 'O'], ['车', 'O'], ['贴', 'O'], ['纸', 'O'], ['创', 'O'], ['意', 'O'], ['装', 'O'], ['饰', 'O'], ['标', 'O'], ['统', 'O'], ['一', 'O'], ['实', 'O'], ['习', 'O'], ['牌', 'O']]\n",
            "[['氏', 'O'], ['族', 'O'], ['人', 'O'], ['嗨', 'O'], ['吃', 'O'], ['家', 'O'], ['酸', 'B-口味'], ['辣', 'I-口味'], ['粉', 'B-品类'], ['细', 'O'], ['粉', 'O'], ['1', 'O'], ['2', 'O'], ['2', 'O'], ['克', 'O']]\n",
            "[['浪', 'O'], ['莎', 'B-品牌'], ['钢', 'I-材质'], ['丝', 'I-材质'], ['袜', 'O'], ['不', 'O'], ['起', 'O'], ['球', 'O'], ['天', 'B-面料材质'], ['鹅', 'I-面料材质'], ['绒', 'I-面料材质'], ['缎', 'I-面料材质'], ['面', 'O'], ['加', 'O'], ['档', 'O'], ['踩', 'O'], ['脚', 'O'], ['裤', 'O'], ['3', 'O'], ['2', 'O'], ['0', 'O'], ['d', 'O'], ['冬', 'B-适用季节'], ['款', 'O'], ['肤', 'B-颜色'], ['色', 'I-颜色'], ['一', 'O'], ['条', 'O']]\n",
            "70\n",
            "[['清', 'O'], ['真', 'O'], ['沾', 'O'], ['益', 'O'], ['辣', 'B-果肉颜色'], ['子', 'I-果肉颜色'], ['鸡', 'I-果肉颜色'], ['调', 'O'], ['料', 'O'], ['（', 'O'], ['1', 'O'], ['2', 'O'], ['5', 'O'], ['g', 'O'], ['）', 'O']]\n",
            "[['瑞', 'B-产地'], ['士', 'I-产地'], ['糖', 'B-其他属性'], ['利', 'I-其他属性'], ['口', 'B-适用人群'], ['乐', 'I-适用人群'], ['r', 'O'], ['i', 'O'], ['c', 'O'], ['o', 'O'], ['l', 'O'], ['a', 'O'], ['冰', 'B-适用空间'], ['川', 'I-适用空间'], ['薄', 'I-厚薄'], ['荷', 'I-分类'], ['润', 'I-功能功效'], ['喉', 'I-适用人群'], ['糖', 'I-其他属性'], ['(', 'O'], ['无', 'O'], ['糖', 'O'], [')', 'O']]\n",
            "[['维', 'O'], ['拉', 'O'], ['薇', 'O'], ['冷', 'O'], ['萃', 'O'], ['特', 'O'], ['浓', 'O'], ['咖', 'O'], ['啡', 'O'], ['（', 'O'], ['3', 'B-其他属性'], ['合', 'I-其他属性'], ['1', 'I-其他属性'], ['）', 'O']]\n",
            "[['绿', 'O'], ['箭', 'B-品质等级'], ['无', 'O'], ['糖', 'O'], ['茉', 'B-商品特色'], ['莉', 'I-商品特色'], ['花', 'I-商品特色'], ['茶', 'I-商品特色'], ['味', 'O'], ['薄', 'B-厚度'], ['荷', 'I-厚度'], ['糖', 'O'], ['铁', 'O'], ['盒', 'B-礼盒类型'], ['2', 'O'], ['3', 'O'], ['.', 'O'], ['8', 'O'], ['g', 'O'], ['/', 'O'], ['瓶', 'O']]\n",
            "[['绿', 'O'], ['联', 'O'], ['2', 'O'], ['米', 'O'], ['u', 'B-适用对象'], ['s', 'I-适用对象'], ['b', 'I-适用对象'], ['转', 'O'], ['并', 'O'], ['口', 'O'], ['打', 'O'], ['印', 'O'], ['线', 'O'], ['c', 'B-接口'], ['n', 'I-接口'], ['3', 'I-接口'], ['6', 'I-接口'], ['针', 'I-接口'], ['数', 'O'], ['据', 'O'], ['连', 'O'], ['接', 'O'], ['线', 'O'], ['d', 'B-供电方式'], ['b', 'I-供电方式'], ['3', 'I-供电方式'], ['6', 'I-供电方式'], ['老', 'O'], ['式', 'O'], ['打', 'O'], ['印', 'O'], ['机', 'O'], ['/', 'O'], ['1', 'O'], ['个', 'O']]\n",
            "[['贝', 'B-品牌'], ['亲', 'I-品牌'], ['宽', 'I-品牌'], ['口', 'I-品牌'], ['径', 'I-品牌'], ['玻', 'B-材质'], ['璃', 'I-材质'], ['奶', 'B-内容'], ['瓶', 'I-内容'], ['l', 'O'], ['号', 'O'], ['六', 'B-适用人群'], ['个', 'O'], ['月', 'B-适用人群'], ['以', 'I-适用人群'], ['上', 'I-适用人群'], ['2', 'O'], ['4', 'O'], ['0', 'O'], ['m', 'O'], ['l', 'O'], ['/', 'O'], ['个', 'O']]\n",
            "[['车', 'O'], ['载', 'O'], ['充', 'O'], ['汽', 'O'], ['床', 'B-适用空间'], ['汽', 'O'], ['车', 'O'], ['用', 'O'], ['品', 'O'], ['睡', 'O'], ['觉', 'O'], ['神', 'O'], ['器', 'O'], ['折', 'O'], ['叠', 'O'], ['便', 'O'], ['携', 'O'], ['旅', 'O'], ['行', 'O'], ['轿', 'O'], ['车', 'O'], ['内', 'O'], ['后', 'O'], ['座', 'O'], ['气', 'B-填充材质'], ['垫', 'I-填充材质'], ['床', 'I-适用空间'], ['（', 'O'], ['黑', 'O'], ['色', 'O'], ['）', 'O']]\n",
            "[['零', 'O'], ['度', 'O'], ['无', 'O'], ['糖', 'O'], ['摩', 'B-进口'], ['登', 'I-进口'], ['听', 'O'], ['装', 'O'], ['可', 'O'], ['乐', 'O'], ['3', 'O'], ['3', 'O'], ['0', 'O'], ['m', 'O'], ['l', 'O'], ['/', 'O'], ['听', 'O']]\n",
            "[['0', 'B-适用对象'], ['0', 'I-适用对象'], ['1', 'O'], ['1', 'O'], ['2', 'O'], ['3', 'B-功能功效'], ['4', 'O'], ['5', 'O'], ['6', 'O'], ['7', 'B-功能功效'], ['8', 'I-功能功效'], ['9', 'I-功能功效'], ['10', 'O'], ['11', 'O'], ['12', 'O'], ['13', 'O'], ['14', 'B-功能功效'], ['15', 'I-功能功效']]\n",
            "[['n', 'O'], ['e', 'O'], ['v', 'O'], ['e', 'O'], ['r', 'O'], ['c', 'B-饮品'], ['o', 'I-饮品'], ['f', 'I-饮品'], ['f', 'I-饮品'], ['e', 'I-饮品'], ['e', 'I-饮品'], ['·', 'O'], ['冷', 'O'], ['萃', 'O'], ['黑', 'O'], ['咖', 'O'], ['啡', 'O'], ['3', 'O'], ['0', 'O'], ['0', 'O'], ['m', 'O'], ['l', 'O']]\n",
            "80\n",
            "[['r', 'O'], ['i', 'O'], ['o', 'O'], ['雪', 'O'], ['气', 'O'], ['の', 'O'], ['咖', 'O'], ['啡', 'O'], ['-', 'O'], ['冷', 'O'], ['萃', 'O'], ['摩', 'O'], ['卡', 'O'], ['3', 'O'], ['1', 'O'], ['5', 'O'], ['m', 'O'], ['l', 'O'], ['/', 'O'], ['杯', 'O']]\n",
            "[['【', 'B-适用人数', 'I-适用人数', 'B-产品名称', 'I-产品名称', 'I-产品名称', 'I-产品名称', 'I-产品名称', 'I-产品名称', 'I-产品名称', 'I-产品名称', '】', 'B-定制服务', 'I-产品名称', 'B-产地', 'I-产品名称', 'I-产品名称', 'I-产品名称', 'I-产品名称', 'I-产品名称', 'I-产品名称', 'I-产品名称', 'B-容量单位']]\n",
            "[['【', 'B-节日', 'B-节日', 'I-节日', 'I-节日', 'I-节日', 'I-节日', '】', '1', '1', '只', '红', '玫', '瑰', '搭', '配', '多', '头', '玫', '瑰', '+', '【', 'B-产品特色', 'B-产品特色', 'B-产品特色', '】', '平', '安', '果', '平', '安', '夜', '礼', '物']]\n",
            "[['【', 'B-商品特色'], ['苏', 'I-商品特色'], ['荷', 'I-商品特色'], ['】', 'I-商品特色'], ['震', 'B-填充材质'], ['珠', 'I-填充材质'], ['避', 'B-功能功效'], ['孕', 'I-功能功效'], ['套', 'I-功能功效'], ['1', 'O'], ['0', 'O'], ['套', 'O'], ['+', 'O'], ['1', 'O'], ['颗', 'O'], ['震', 'B-颜色'], ['珠', 'I-颜色'], ['玻', 'B-面料材质'], ['尿', 'I-面料材质'], ['酸', 'I-面料材质'], ['网', 'I-面料材质'], ['红', 'I-面料材质'], ['物', 'I-面料材质'], ['理', 'I-面料材质'], ['加', 'I-面料材质'], ['长', 'I-面料材质'], ['震', 'B-功能功效'], ['动', 'I-功能功效'], ['3', 'I-功能功效'], ['c', 'I-功能功效'], ['m', 'I-功能功效'], ['避', 'B-功能功效'], ['孕', 'I-功能功效'], ['套', 'I-功能功效'], ['安', 'B-功能功效'], ['全', 'I-功能功效'], ['套', 'I-功能功效'], ['狼', 'B-厚度'], ['牙', 'I-厚度'], ['加', 'B-功能功效'], ['长', 'I-功能功效'], ['套', 'I-功能功效'], ['性', 'B-功能功效'], ['用', 'I-功能功效'], ['品', 'I-功能功效']]\n",
            "[['【', 'B-其他属性】', '逆', 'O'], ['【', 'I-其他属性】', '境', 'O'], ['【', 'O】', '', 'O'], ['【', 'O】', '成', 'O'], ['【', 'O】', '长', 'O'], ['【', 'B-商品特色】', '香', 'O'], ['【', 'I-商品特色】', '槟', 'O'], ['【', 'B-颜色】', '玫', 'O'], ['【', 'I-颜色】', '瑰', 'O'], ['【', 'B-颜色】', '白', 'O'], ['【', 'I-颜色】', '玫', 'O'], ['【', 'O】', '', 'O'], ['【', 'O】', '乒', 'O'], ['【', 'O】', '乓', 'O'], ['【', 'O】', '球', 'O'], ['【', 'O】', '洋', 'O'], ['【', 'O】', '甘', 'O'], ['【', 'O】', '菊', 'O'], ['【', 'O】', '洋', 'O'], ['【', 'O】', '桔', 'O'], ['【', 'O】', '梗', 'O'], ['【', 'O】', '喷', 'O'], ['【', 'O】', '泉', 'O'], ['【', 'O】', '草', 'O'], ['【', 'B-商品特色】', '香', 'O'], ['【', 'I-商品特色】', '槟', 'O'], ['【', 'B-颜色】', '色', 'O'], ['【', 'O】', '系', 'O'], ['【', 'O】', '玫', 'O'], ['【', 'O】', '瑰', 'O'], ['【', 'O】', '花', 'O'], ['【', 'O】', '花', 'O'], ['【', 'O】', '束', 'O'], ['【', 'B-商品特色】', '鲜', 'O'], ['【', 'B-商品特色】', '花', 'O'], ['【', 'O】', '店', 'O'], ['【', 'B-赠品】', '送', 'O'], ['【', 'B-赠品】', '花', 'O'], ['【', 'O】', '上', 'O'], ['【', 'O】', '门', 'O']]\n",
            "[['一', 'O'], ['次', 'O'], ['性', 'O'], ['压', 'O'], ['缩', 'O'], ['毛', 'B-面巾'], ['巾', 'I-面巾'], ['旅', 'O'], ['行', 'O'], ['装', 'O'], ['纯', 'B-材质'], ['棉', 'I-材质'], ['迷', 'O'], ['你', 'O'], ['洗', 'O'], ['脸', 'O'], ['巾', 'B-面巾'], ['颗', 'O'], ['粒', 'O'], ['加', 'O'], ['厚', 'B-厚度'], ['面', 'B-面巾'], ['巾', 'I-面巾'], ['1', 'O'], ['2', 'O'], ['枚', 'O']]\n",
            "[['做', 'O'], ['最', 'O'], ['旺', 'B-品牌'], ['的', 'O'], ['仔', 'O'], ['—', 'O'], ['旺', 'B-品牌'], ['仔', 'I-品牌'], ['牛', 'O'], ['奶', 'O'], ['鲜', 'B-食品'], ['花', 'I-食品'], ['圣', 'B-宗教'], ['诞', 'I-宗教'], ['礼', 'O'], ['盒', 'O'], ['送', 'O'], ['惊', 'B-物流'], ['喜', 'I-物流'], ['/', 'O'], ['送', 'O'], ['花', 'B-鲜花'], ['上', 'O'], ['门', 'O']]\n",
            "[['儿', 'O'], ['童', 'O'], ['手', 'O'], ['表', 'O'], ['可', 'O'], ['爱', 'O'], ['卡', 'O'], ['通', 'O'], ['男', 'B-适用人群'], ['孩', 'I-适用人群'], ['女', 'I-适用人群'], ['孩', 'I-适用人群'], ['中', 'B-适用人群'], ['小', 'I-适用人群'], ['学', 'I-适用人群'], ['生', 'I-适用人群'], ['指', 'O'], ['针', 'O'], ['式', 'O'], ['石', 'O'], ['英', 'O'], ['表', 'O'], ['（', 'O'], ['哆', 'O'], ['啦', 'B-固有名词'], ['a', 'I-固有名词'], ['梦', 'I-固有名词'], ['）', 'O']]\n",
            "[['夏', 'O'], ['奇', 'B-适用人群'], ['女', 'I-适用人群'], ['用', 'O'], ['兔', 'B-组合形式'], ['子', 'I-组合形式'], ['双', 'O'], ['震', 'O'], ['棒', 'O'], ['自', 'O'], ['慰', 'O'], ['器', 'O'], ['女', 'B-适用人群'], ['性', 'I-适用人群'], ['健', 'O'], ['慰', 'O'], ['调', 'O'], ['情', 'O'], ['夫', 'O'], ['妻', 'O'], ['快', 'O'], ['乐', 'O'], ['器', 'O']]\n",
            "[['年', 'O'], ['货', 'O'], ['节', 'O'], ['利', 'O'], ['生', 'O'], ['小', 'B-米'], ['米', 'I-米'], ['挂', 'O'], ['面', 'B-面'], ['8', 'O'], ['0', 'O'], ['0', 'O'], ['g', 'O']]\n",
            "90\n",
            "[['康', 'O'], ['舒', 'O'], ['砂', 'B-锅底类型'], ['锅', 'I-锅底类型'], ['瓷', 'B-锅底类型'], ['煲', 'I-锅底类型'], ['汤', 'O'], ['锅', 'B-锅底类型'], ['炖', 'O'], ['锅', 'B-锅底类型'], ['家', 'O'], ['用', 'O'], ['大', 'O'], ['容', 'O'], ['量', 'O'], ['耐', 'O'], ['高', 'O'], ['温', 'O'], ['明', 'O'], ['火', 'O'], ['直', 'O'], ['烧', 'O'], ['燃', 'O'], ['气', 'O'], ['沙', 'B-锅底类型'], ['锅', 'I-锅底类型'], ['粥', 'O'], ['煲', 'O'], ['石', 'B-锅底类型'], ['锅', 'I-锅底类型'], ['4', 'O'], ['3', 'O'], ['0', 'O'], ['0', 'O'], ['m', 'O'], ['l', 'O']]\n",
            "[['快', 'O'], ['速', 'O'], ['电', 'B-适用对象'], ['热', 'I-适用对象'], ['水', 'I-适用对象'], ['壶', 'I-适用对象'], ['1', 'O'], ['个', 'O']]\n",
            "[['泰', 'O'], ['1', 'O'], ['3', 'O'], ['3', 'O'], ['防', 'O'], ['水', 'B-功能功效'], ['嵌', 'O'], ['缝', 'O'], ['密', 'B-外观'], ['封', 'I-外观'], ['胶', 'B-商品特色'], ['货', 'O'], ['车', 'O'], ['车', 'O'], ['厢', 'O'], ['密', 'B-面料材质'], ['封', 'I-面料材质'], ['集', 'O'], ['装', 'O'], ['箱', 'O'], ['密', 'B-外观'], ['封', 'I-外观'], ['胶', 'B-商品特色'], ['雨', 'O'], ['棚', 'O'], ['防', 'O'], ['水', 'B-功能功效'], ['丁', 'I-形状形态'], ['基', 'I-形状形态'], ['胶', 'I-形状形态'], ['/', 'O'], ['个', 'O'], ['（', 'O'], ['3', 'O'], ['0', 'O'], ['0', 'O'], ['m', 'O'], ['l', 'O'], ['）', 'O']]\n",
            "[['清', 'B-适用对象'], ['伊', 'I-适用对象'], ['坊', 'I-适用对象'], ['(', 'O'], ['清', 'B-适用对象'], ['真', 'I-适用对象'], [')', 'O'], ['牛', 'B-适用对象'], ['肉', 'I-适用对象'], ['肠', 'I-适用对象'], ['4', 'O'], ['0', 'O'], ['g', 'O'], ['*', 'O'], ['1', 'O'], ['0', 'O'], ['根', 'O'], ['/', 'O'], ['袋', 'O']]\n",
            "[['煤', 'O'], ['油', 'O'], ['打', 'O'], ['火', 'O'], ['机', 'O'], ['送', 'O'], ['礼', 'O'], ['盒', 'O'], ['英', 'B-适用对象'], ['雄', 'I-适用对象'], ['联', 'I-适用对象'], ['盟', 'I-适用对象'], ['王', 'I-适用对象'], ['者', 'I-适用对象'], ['荣', 'I-适用对象'], ['耀', 'I-适用对象'], ['限', 'O'], ['量', 'O'], ['版', 'O'], ['人', 'O'], ['物', 'O'], ['随', 'O'], ['机', 'O'], ['不', 'O'], ['指', 'O'], ['定', 'O']]\n",
            "[['美', 'O'], ['利', 'O'], ['奴', 'O'], ['羊', 'B-面料材质'], ['毛', 'I-面料材质'], ['高', 'O'], ['针', 'O'], ['距', 'O'], ['圆', 'B-领型'], ['领', 'I-领型'], ['毛', 'O'], ['衣', 'O'], ['-', 'O'], ['深', 'B-颜色'], ['海', 'I-颜色'], ['军', 'I-颜色'], ['蓝', 'I-颜色'], ['-', 'O'], ['男', 'O'], ['式', 'O'], ['x', 'O'], ['s', 'O']]\n",
            "[['舒', 'B-适用对象'], ['仕', 'I-适用对象'], ['小', 'I-适用对象'], ['黑', 'B-颜色'], ['裙', 'I-适用衣物'], ['玻', 'B-材质'], ['尿', 'I-材质'], ['酸', 'I-材质'], ['免', 'B-厚度'], ['洗', 'I-是否净洗'], ['避', 'I-适用对象'], ['孕', 'I-适用对象'], ['套', 'I-适用对象'], ['1', 'O'], ['0', 'O'], ['0', 'O'], ['只', 'O'], ['装', 'O'], ['安', 'O'], ['全', 'O'], ['套', 'O']]\n",
            "[['萌', 'O'], ['趣', 'O'], ['兔', 'O'], ['兔', 'O'], ['保', 'B-材质'], ['温', 'I-材质'], ['杯', 'O']]\n",
            "[['超', 'O'], ['厚', 'B-厚度'], ['麦', 'I-面料材质'], ['饭', 'I-适用衣物'], ['石', 'I-面料材质'], ['汤', 'I-功能功效'], ['锅', 'I-锅底类型'], ['不', 'O'], ['粘', 'O'], ['锅', 'O'], ['蒸', 'O'], ['锅', 'O'], ['炖', 'O'], ['锅', 'O'], ['家', 'O'], ['用', 'O'], ['煮', 'O'], ['锅', 'O'], ['熬', 'O'], ['汤', 'O'], ['闷', 'O'], ['锅', 'O'], ['双', 'O'], ['耳', 'O'], ['锅', 'O'], ['燃', 'O'], ['气', 'O'], ['电', 'O'], ['磁', 'I-接口'], ['炉', 'O'], ['通', 'O'], ['用', 'O'], ['3', 'O'], ['0', 'O'], ['c', 'O'], ['m', 'O'], ['/', 'O'], ['个', 'O']]\n",
            "[['金', 'O'], ['沙', 'O'], ['河', 'O'], ['手', 'O'], ['擀', 'O'], ['挂', 'O'], ['面', 'O'], ['5', 'O'], ['0', 'O'], ['0', 'O'], ['g', 'O'], ['/', 'O'], ['袋', 'O'], ['圆', 'O'], ['条', 'O']]\n",
            "100\n",
            "[['雅', 'O'], ['芳', 'O'], ['小', 'O'], ['黑', 'O'], ['裙', 'O'], ['香', 'B-商品特色'], ['水', 'I-商品特色'], ['沐', 'B-适用人群'], ['浴', 'I-适用人群'], ['露', 'I-适用人群'], ['1', 'O'], ['5', 'O'], ['0', 'O'], ['m', 'O'], ['l', 'O'], ['/', 'O'], ['瓶', 'O']]\n",
            "[['鹰', 'O'], ['集', 'O'], ['精', 'O'], ['品', 'O'], ['冷', 'O'], ['萃', 'O'], ['茉', 'B-适用对象'], ['莉', 'I-适用对象'], ['茶', 'I-适用对象'], ['咖', 'B-功能功效'], ['啡', 'I-功能功效'], ['7', 'O'], ['杯', 'O'], ['*', 'O'], ['1', 'O'], ['盒', 'O'], ['即', 'O'], ['速', 'O'], ['溶', 'O'], ['醇', 'B-香型'], ['香', 'I-香型'], ['美', 'O'], ['式', 'O'], ['拿', 'O'], ['铁', 'O'], ['纯', 'O'], ['黑', 'O'], ['冻', 'O'], ['干', 'O'], ['咖', 'B-功能功效'], ['啡', 'I-功能功效'], ['粉', 'O']]\n",
            "[['（', 'O'], ['两', 'O'], ['支', 'O'], ['装', 'O'], ['）', 'O'], ['法', 'B-国产/进口'], ['国', 'I-国产/进口'], ['香', 'I-国产/进口'], ['奈', 'I-国产/进口'], ['冰', 'I-国产/进口'], ['爽', 'I-国产/进口'], ['起', 'I-国产/进口'], ['泡', 'I-国产/进口'], ['酒', 'I-国产/进口'], ['（', 'O'], ['备', 'O'], ['注', 'O'], ['口', 'O'], ['味', 'O'], ['）', 'O']]\n",
            "[['（', 'O'], ['彩', 'B-颜色'], ['色', 'I-颜色'], ['灯', 'O'], ['桌', 'O'], ['飘', 'O'], ['拼', 'O'], ['接', 'O'], ['款', 'O'], ['）', 'O'], ['婚', 'O'], ['庆', 'O'], ['气', 'O'], ['球', 'O'], ['支', 'O'], ['架', 'O'], ['桌', 'O'], ['飘', 'O'], ['地', 'O'], ['飘', 'O'], ['生', 'O'], ['日', 'O'], ['派', 'O'], ['对', 'O'], ['装', 'O'], ['饰', 'O'], ['立', 'O'], ['柱', 'O'], ['套', 'O'], ['装', 'O']]\n",
            "[['（', 'O'], ['特', 'B-商品特色'], ['享', 'I-商品特色'], ['）', 'O'], ['精', 'O'], ['选', 'O'], ['糯', 'B-面料材质'], ['米', 'I-面料材质'], ['约', 'O'], ['2', 'B-大小'], ['5', 'I-大小'], ['0', 'I-大小'], ['g', 'O']]\n",
            "[['%', 'O'], ['1', 'O'], ['9', 'O'], ['支', 'O'], ['红', 'B-颜色'], ['康', 'I-颜色'], ['乃', 'O'], ['馨', 'O'], ['鲜', 'O'], ['花', 'O'], ['生', 'O'], ['日', 'O'], ['鲜', 'O'], ['花', 'O'], ['教', 'O'], ['师', 'O'], ['节', 'O'], ['女', 'O'], ['神', 'O'], ['节', 'O'], ['花', 'O'], ['店', 'O'], ['送', 'O'], ['花', 'O'], ['上', 'O'], ['门', 'O']]\n",
            "[['4', 'O'], ['4', 'O'], ['3', 'O'], ['2', 'O'], ['9', 'O'], ['8', 'O'], ['丝', 'B-面料材质'], ['光', 'I-面料材质'], ['棉', 'I-面料材质'], ['灯', 'O'], ['笼', 'O'], ['袖', 'B-袖型'], ['喇', 'I-袖型'], ['叭', 'I-袖型'], ['连', 'O'], ['衣', 'O'], ['裙', 'O'], ['(', 'O'], ['七', 'O'], ['分', 'O'], ['袖', 'O'], ['初', 'O'], ['秋', 'O'], [')', 'O'], ['浅', 'O'], ['灰', 'O'], ['色', 'O'], ['1', 'O'], ['6', 'O'], ['5', 'O'], ['/', 'O'], ['9', 'O'], ['2', 'O'], ['a', 'O'], ['/', 'O'], ['x', 'O'], ['l', 'O']]\n",
            "[['l', 'O'], ['w', 'O'], ['3', 'O'], ['9', 'O'], ['6', 'O'], ['红', 'B-颜色'], ['色', 'I-颜色'], ['圣', 'B-节日'], ['诞', 'I-节日'], ['围', 'B-分类'], ['巾', 'I-分类'], ['【', 'O'], ['配', 'O'], ['礼', 'O'], ['物', 'O'], ['盒', 'O'], ['】', 'O'], ['圣', 'B-节日'], ['诞', 'I-节日'], ['围', 'B-分类'], ['巾', 'I-分类'], ['女', 'O'], ['冬', 'B-适用季节'], ['季', 'I-适用季节'], ['保', 'B-功能功效'], ['暖', 'I-功能功效'], ['学', 'O'], ['生', 'O'], ['可', 'O'], ['爱', 'O'], ['针', 'B-材质'], ['织', 'I-材质'], ['毛', 'I-面料材质'], ['线', 'I-面料材质'], ['围', 'B-分类'], ['脖', 'I-分类'], ['潮', 'O'], ['流', 'O'], ['披', 'O'], ['肩', 'O'], ['新', 'O'], ['款', 'O']]\n",
            "[['s', 'O'], ['m', 'O'], ['情', 'O'], ['趣', 'O'], ['用', 'O'], ['具', 'O'], ['兔', 'B-组合形式'], ['子', 'I-组合形式'], ['尾', 'I-组合形式'], ['巴', 'I-组合形式'], ['肛', 'I-组合形式'], ['塞', 'I-组合形式'], ['白', 'O'], ['/', 'O'], ['粉', 'O'], ['随', 'O'], ['机', 'O'], ['发', 'O'], ['货', 'O'], ['可', 'O'], ['爱', 'O'], ['毛', 'O'], ['球', 'O'], ['道', 'O'], ['具', 'O'], ['另', 'O'], ['类', 'O'], ['性', 'O'], ['玩', 'O'], ['具', 'O'], ['调', 'O'], ['情', 'O'], ['女', 'O'], ['用', 'O'], ['肛', 'B-塞']]\n",
            "[['《', 'O'], ['年', 'O'], ['货', 'O'], ['节', 'O'], ['》', 'O'], ['百', 'O'], ['草', 'O'], ['味', 'O'], ['芒', 'B-果肉颜色'], ['果', 'I-果肉颜色'], ['干', 'O'], ['8', 'O'], ['0', 'O'], ['袋', 'O']]\n",
            "110\n",
            "[['【', 'B-存储容量'], ['2', 'M', 'B-材质'], ['0', 'B-材质'], ['0', 'I-材质'], ['0', 'I-材质'], ['m', 'I-材质'], ['l', 'I-材质'], ['】', 'O'], ['7', 'O'], ['.', 'O'], ['5', 'O'], ['寸', 'O'], ['中', 'O'], ['深', 'O'], ['砂', 'B-厚度'], ['锅', 'I-厚度'], ['陶', 'B-材质'], ['瓷', 'I-材质'], ['煲', 'B-厚度'], ['炖', 'I-厚度'], ['锅', 'O'], ['家', 'O'], ['用', 'O'], ['煤', 'O'], ['气', 'O'], ['小', 'O'], ['砂', 'B-厚度'], ['锅', 'O'], ['陶', 'B-材质'], ['瓷', 'I-材质'], ['煲', 'B-厚度'], ['明', 'O'], ['火', 'O'], ['耐', 'O'], ['高', 'O'], ['温', 'O'], ['汤', 'O'], ['煲', 'O'], ['石', 'O'], ['锅', 'O']]\n",
            "[['【', 'O'], ['内', 'B-服装'], ['裤', 'I-服装'], ['除', 'O'], ['菌', 'O'], ['】', 'O'], ['洗', 'O'], ['内', 'B-服装'], ['衣', 'I-服装'], ['内', 'B-服装'], ['裤', 'I-服装'], ['专', 'O'], ['用', 'O'], ['清', 'O'], ['洗', 'O'], ['除', 'O'], ['菌', 'O'], ['洗', 'O'], ['衣', 'B-服装'], ['液', 'I-服装'], ['抑', 'O'], ['菌', 'O'], ['洗', 'O'], ['大', 'O'], ['姨', 'O'], ['妈', 'O'], ['去', 'O'], ['血', 'O'], ['渍', 'O']]\n",
            "[['【', 'B-适用季节,', 'B-适用季节,', 'I-适用季节,', 'I-适用季节,', 'I-适用季节,', 'O】'], ['冬', 'O'], ['至', 'O'], ['饺', 'B-组合形式'], ['子', 'I-组合形式'], ['馅', 'I-组合形式'], ['】', 'O'], ['前', 'O'], ['腿', 'B-部位'], ['肉', 'I-部位'], ['馅', 'I-部位']]\n",
            "[['【', 'O'], ['超', 'O'], ['级', 'O'], ['甜', 'O'], ['】', 'O'], ['奶', 'B-果肉颜色'], ['油', 'I-果肉颜色'], ['草', 'I-果肉颜色'], ['莓', 'I-果肉颜色'], ['半', 'O'], ['斤', 'O']]\n",
            "[['三', 'O'], ['亿', 'O'], ['地', 'O'], ['瓜', 'O'], ['粉', 'O'], ['(', 'O'], ['细', 'O'], ['粉', 'O'], [')', 'O'], ['1', 'O'], ['6', 'O'], ['5', 'O'], ['g', 'O']]\n",
            "[['冰', 'O'], ['爽', 'O'], ['冰', 'O'], ['袖', 'B-厚薄'], ['防', 'O'], ['晒', 'O'], ['袖', 'I-厚薄'], ['套', 'O'], ['1', 'O'], ['双', 'O'], ['（', 'O'], ['颜', 'O'], ['色', 'O'], ['，', 'O'], ['款', 'O'], ['式', 'O'], ['随', 'O'], ['机', 'O'], ['）', 'O']]\n",
            "[['勒', 'O'], ['莱', 'B-品牌'], ['斯', 'I-品牌'], ['快', 'O'], ['速', 'O'], ['电', 'O'], ['热', 'O'], ['水', 'O'], ['壶', 'O'], ['1', 'O'], ['.', 'O'], ['8', 'O'], ['升', 'O']]\n",
            "[['南', 'O'], ['非', 'O'], ['进', 'O'], ['口', 'O'], ['赫', 'B-国产/进口'], ['芮', 'I-国产/进口'], ['姆', 'I-国产/进口'], ['意', 'B-产地'], ['大', 'I-产地'], ['利', 'I-产地'], ['风', 'O'], ['味', 'O'], ['调', 'O'], ['味', 'O'], ['料', 'O'], ['4', 'O'], ['合', 'O'], ['1', 'O'], ['（', 'O'], ['+', 'O'], ['+', 'O'], ['2', 'O'], ['2', 'O']]\n",
            "[['圣', 'O'], ['诞', 'O'], ['节', 'O'], ['平', 'B-适用对象'], ['安', 'I-适用对象'], ['夜', 'I-适用对象'], ['平', 'I-适用对象'], ['安', 'I-适用对象'], ['果', 'B-其他属性'], ['精', 'I-其他属性'], ['美', 'I-其他属性'], ['3', 'I-大小'], ['d', 'I-大小'], ['红', 'B-颜色'], ['礼', 'I-礼盒类型'], ['盒', 'I-礼盒类型'], ['车', 'O'], ['厘', 'O'], ['子', 'O'], ['+', 'O'], ['牛', 'B-赠品'], ['油', 'I-赠品'], ['果', 'I-赠品'], ['+', 'O'], ['甜', 'B-香型'], ['橙', 'I-香型'], ['套', 'O'], ['餐', 'O']]\n",
            "[['安', 'O'], ['井', 'O'], ['甄', 'O'], ['选', 'O'], ['手', 'O'], ['工', 'O'], ['鱼', 'B-食物'], ['丸', 'I-食物']]\n",
            "120\n",
            "[['宠', 'O'], ['物', 'O'], ['清', 'B-功能功效'], ['洁', 'I-功能功效'], ['刷', 'B-适用对象'], ['小', 'B-适用对象'], ['宠', 'I-适用对象'], ['卫', 'I-适用对象'], ['生', 'I-适用对象'], ['清', 'B-功能功效'], ['洁', 'I-功能功效'], ['用', 'O'], ['品', 'O'], ['兔', 'B-适用对象'], ['子', 'I-适用对象'], ['粪', 'B-功能功效'], ['便', 'I-功能功效'], ['清', 'B-功能功效'], ['洁', 'I-功能功效'], ['荷', 'B-国产/进口'], ['兰', 'I-国产/进口'], ['猪', 'B-适用对象'], ['仓', 'I-适用对象'], ['鼠', 'I-适用对象'], ['小', 'I-适用对象'], ['号', 'I-适用对象'], ['灰', 'B-颜色'], ['色', 'I-颜色']]\n",
            "[['帮', 'O'], ['帮', 'O'], ['龙', 'B-适用对象'], ['滚', 'B-适用对象'], ['珠', 'I-适用对象'], ['益', 'B-功能功效'], ['智', 'I-功能功效'], ['积', 'I-功能功效'], ['木', 'I-功能功效'], ['9', 'O'], ['6', 'O'], ['片', 'O'], ['d', 'O'], ['i', 'O'], ['y', 'O'], ['滚', 'O'], ['珠', 'O'], ['滑', 'O'], ['道', 'O'], ['恐', 'B-适用对象'], ['龙', 'I-适用对象'], ['探', 'I-适用对象'], ['险', 'I-适用对象'], ['队', 'I-适用对象'], ['拼', 'B-组装'], ['装', 'I-组装'], ['拼', 'I-组装'], ['插', 'I-组装'], ['组', 'I-组装'], ['装', 'I-组装'], ['男', 'B-适用对象'], ['孩', 'I-适用对象'], ['礼', 'O'], ['物', 'O'], ['底', 'I-形状形态'], ['板', 'I-形状形态']]\n",
            "[['年', 'O'], ['货', 'O'], ['节', 'O'], ['黑', 'B-颜色'], ['牛', 'I-颜色'], ['牛', 'I-颜色'], ['奶', 'B-适用对象'], ['加', 'O'], ['钙', 'B-成分'], ['核', 'I-成分'], ['桃', 'I-成分'], ['粉', 'I-成分'], ['6', 'O'], ['0', 'O'], ['0', 'O'], ['g', 'O'], ['/', 'O'], ['袋', 'O'], ['6', 'O'], ['0', 'O'], ['0', 'O'], ['g', 'O']]\n",
            "[['怀', 'O'], ['旧', 'O'], ['老', 'O'], ['式', 'O'], ['镜', 'B-家用'], ['子', 'I-家用'], ['家', 'I-家用'], ['用', 'I-家用'], ['小', 'O'], ['化', 'O'], ['妆', 'O'], ['镜', 'O'], ['女', 'O'], ['学', 'O'], ['生', 'O'], ['宿', 'O'], ['舍', 'O'], ['红', 'O'], ['色', 'O'], ['壁', 'B-挂'], ['挂', 'I-挂'], ['台', 'I-挂'], ['式', 'I-挂'], ['/', 'O'], ['个', 'O'], ['（', 'O'], ['颜', 'O'], ['色', 'O'], ['随', 'O'], ['机', 'O'], ['）', 'O']]\n",
            "[['悦', 'O'], ['动', 'O'], ['力', 'O'], ['无', 'O'], ['糖', 'O'], ['无', 'O'], ['汽', 'O'], ['苏', 'O'], ['打', 'O'], ['水', 'O'], ['3', 'O'], ['5', 'O'], ['0', 'O'], ['m', 'O'], ['l', 'O'], ['/', 'O'], ['瓶', 'O']]\n",
            "[['新', 'O'], ['年', 'O'], ['春', 'B-节日'], ['节', 'I-节日'], ['儿', 'O'], ['童', 'O'], ['灯', 'B-灯具'], ['笼', 'I-灯具'], ['d', 'I-材料'], ['i', 'I-材料'], ['y', 'I-材料'], ['材', 'O'], ['料', 'O'], ['包', 'O'], ['元', 'O'], ['宵', 'O'], ['节', 'O'], ['（', 'O'], ['1', 'O'], ['个', 'O'], ['）', 'O'], ['手', 'O'], ['提', 'O'], ['发', 'O'], ['光', 'O'], ['古', 'O'], ['风', 'O'], ['小', 'O'], ['花', 'O'], ['灯', 'O'], ['兔', 'O'], ['子', 'O'], ['手', 'O'], ['工', 'O'], ['灯', 'O']]\n",
            "[['松', 'O'], ['阳', 'O'], ['香', 'B-茶'], ['茶', 'I-茶'], ['2', 'O'], ['5', 'O'], ['0', 'O'], ['克', 'O'], ['装', 'O'], ['（', 'O'], ['无', 'O'], ['公', 'O'], ['害', 'O'], ['自', 'O'], ['加', 'O'], ['工', 'O'], ['的', 'O'], ['明', 'O'], ['前', 'O'], ['春', 'B-茶'], ['茶', 'I-茶'], ['）', 'O']]\n",
            "[['洗', 'O'], ['衣', 'O'], ['机', 'O'], ['槽', 'O'], ['清', 'O'], ['洗', 'O'], ['剂', 'O'], ['片', 'O'], ['杀', 'O'], ['菌', 'O'], ['消', 'O'], ['毒', 'O'], ['除', 'O'], ['垢', 'O'], ['神', 'O'], ['器', 'O'], ['泡', 'O'], ['腾', 'O'], ['片', 'O'], ['污', 'O'], ['渍', 'O'], ['清', 'O'], ['洁', 'O'], ['剂', 'O'], ['家', 'O'], ['用', 'O'], ['单', 'O'], ['片', 'O'], ['装', 'O']]\n",
            "[['洛', 'O'], ['克', 'O'], ['金', 'O'], ['属', 'O'], ['编', 'O'], ['织', 'O'], ['华', 'B-适用对象'], ['为', 'I-适用对象'], ['2', 'O'], ['a', 'O'], ['胶', 'O'], ['囊', 'O'], ['数', 'O'], ['据', 'O'], ['线', 'O'], ['1', 'O'], ['根', 'O'], ['质', 'O'], ['保', 'O'], ['终', 'O'], ['身', 'O']]\n",
            "[['爱', 'O'], ['心', 'O'], ['粉', 'B-颜色'], ['色', 'I-颜色'], ['猴', 'B-适用对象'], ['子', 'I-适用对象'], ['趴', 'O'], ['枕', 'O'], ['公', 'O'], ['仔', 'O'], ['毛', 'B-面料材质'], ['绒', 'I-面料材质'], ['玩', 'O'], ['具', 'O'], ['可', 'O'], ['爱', 'O'], ['抱', 'O'], ['枕', 'O'], ['陪', 'O'], ['睡', 'O'], ['布', 'O'], ['娃', 'O'], ['娃', 'O'], ['1', 'O'], ['1', 'O'], ['0', 'O'], ['c', 'O'], ['m', 'O']]\n",
            "130\n",
            "[['章', 'O'], ['丘', 'O'], ['铁', 'B-材质'], ['锅', 'I-材质'], ['炒', 'O'], ['锅', 'O'], ['手', 'O'], ['工', 'O'], ['锻', 'O'], ['打', 'O'], ['老', 'O'], ['式', 'O'], ['铁', 'B-材质'], ['锅', 'I-材质'], ['无', 'O'], ['涂', 'O'], ['层', 'O'], ['炒', 'O'], ['菜', 'O'], ['锅', 'O'], ['燃', 'O'], ['气', 'O'], ['家', 'O'], ['用', 'O'], ['炒', 'O'], ['锅', 'O'], ['（', 'O'], ['电', 'O'], ['磁', 'O'], ['炉', 'O'], ['不', 'O'], ['可', 'O'], ['用', 'O'], ['）', 'O'], ['3', 'O'], ['4', 'O'], ['c', 'O'], ['m', 'O'], ['平', 'O'], ['底', 'O']]\n",
            "[['诗', 'O'], ['柔', 'O'], ['正', 'O'], ['品', 'O'], ['夏', 'B-适用季节'], ['款', 'O'], ['1', 'O'], ['5', 'O'], ['d', 'O'], ['古', 'O'], ['典', 'O'], ['串', 'O'], ['花', 'O'], ['侧', 'O'], ['提', 'O'], ['花', 'O'], ['天', 'B-适用对象'], ['鹅', 'I-适用对象'], ['绒', 'O'], ['连', 'O'], ['裤', 'O'], ['袜', 'O'], ['5', 'O'], ['9', 'O'], ['5', 'O'], ['2', 'O'], ['黑', 'B-颜色'], ['色', 'I-颜色']]\n",
            "[['酸', 'B-食品类'], ['奶', 'I-食品类'], ['慕', 'I-食品类'], ['斯', 'I-食品类'], ['兔', 'I-食品类'], ['子', 'I-食品类']]\n",
            "[['长', 'O'], ['方', 'B-形状形态'], ['型', 'I-形状形态'], ['带', 'O'], ['盖', 'O'], ['杂', 'O'], ['物', 'O'], ['桶', 'O'], ['摇', 'O'], ['盖', 'O'], ['式', 'O'], ['垃', 'B-淨'], ['圾', 'I-淨'], ['桶', 'O'], ['卫', 'O'], ['生', 'O'], ['桶', 'O'], ['废', 'B-淨'], ['纸', 'I-淨'], ['桶', 'I-淨'], ['1', 'O'], ['个', 'O'], ['颜', 'O'], ['色', 'O'], ['随', 'O'], ['机', 'O']]\n",
            "[['飞', 'B-供电方式'], ['利', 'I-供电方式'], ['浦', 'I-供电方式'], ['静', 'O'], ['音', 'O'], ['有', 'O'], ['线', 'O'], ['鼠', 'B-分类'], ['标', 'I-分类'], ['笔', 'I-分类'], ['记', 'I-分类'], ['本', 'I-分类'], ['台', 'I-分类'], ['式', 'I-分类'], ['电', 'O'], ['脑', 'O'], ['通', 'O'], ['用', 'O'], ['家', 'O'], ['用', 'O'], ['办', 'O'], ['公', 'O'], ['商', 'O'], ['务', 'O'], ['游', 'O'], ['戏', 'O'], ['u', 'O'], ['s', 'O'], ['b', 'O'], ['无', 'O'], ['声', 'O'], ['/', 'O'], ['个', 'O']]\n",
            "[['香', 'O'], ['槟', 'B-颜色'], ['色', 'I-颜色'], ['系', 'O'], ['混', 'O'], ['搭', 'O'], ['花', 'O'], ['束', 'O'], ['送', 'O'], ['男', 'O'], ['生', 'O'], ['送', 'O'], ['领', 'O'], ['导', 'O']]\n",
            "[['香', 'O'], ['槟', 'B-颜色'], ['色', 'I-颜色'], ['系', 'O'], ['玫', 'B-其他属性'], ['瑰', 'I-其他属性'], ['花', 'I-其他属性'], ['束', 'I-其他属性'], ['生', 'O'], ['日', 'O'], ['聚', 'O'], ['会', 'O'], ['派', 'O'], ['对', 'O']]\n",
            "[['香', 'B-商品特色'], ['', '', '雪', 'I-商品特色'], ['', '', '圆', 'I-商品特色'], ['', '', '条', 'I-商品特色'], ['', '', '挂', 'I-商品特色'], ['', '', '面', 'I-商品特色'], ['', '', '4', '', 'O'], ['', '', '5', '', 'O'], ['', '', '0', '', 'O'], ['', '', 'g', '', 'O'], ['', '', '', '/', '', 'O'], ['', '', '袋', 'O']]\n",
            "[['1', 'O'], ['.', 'O'], ['8', 'O'], ['l', 'O'], ['适', 'B-适用人数'], ['合', 'O'], ['1', 'O'], ['-', 'O'], ['2', 'O'], ['人', 'O'], ['小', 'O'], ['砂', 'B-材质'], ['锅', 'I-材质'], ['炖', 'O'], ['锅', 'O'], ['煲', 'O'], ['汤', 'O'], ['锅', 'O'], ['耐', 'O'], ['高', 'O'], ['温', 'O'], ['陶', 'B-材质'], ['瓷', 'I-材质'], ['砂', 'B-材质'], ['锅', 'I-材质'], ['煲', 'O'], ['汤', 'O'], ['煤', 'O'], ['气', 'O'], ['老', 'O'], ['式', 'O'], ['家', 'O'], ['用', 'O'], ['燃', 'O'], ['气', 'O'], ['汤', 'O'], ['锅', 'O'], ['沙', 'O'], ['锅', 'O']]\n",
            "[['3', 'O'], ['.', 'O'], ['8', 'O'], ['女', 'B-适用人群'], ['神', 'I-适用人群'], ['节', 'O'], ['【', 'O'], ['不', 'O'], ['忘', 'O'], ['初', 'O'], ['心', 'O'], ['】', 'O'], ['1', 'O'], ['1', 'O'], ['朵', 'O'], ['白', 'B-颜色'], ['玫', 'I-颜色'], ['瑰', 'I-颜色'], ['鲜', 'B-材质'], ['花', 'I-材质'], ['满', 'O'], ['天', 'O'], ['星', 'O'], ['花', 'O'], ['店', 'O'], ['送', 'O'], ['女', 'B-送礼对象'], ['友', 'I-送礼对象'], ['送', 'O'], ['老', 'B-送礼对象'], ['婆', 'I-送礼对象'], ['告', 'O'], ['白', 'O'], ['送', 'O'], ['花', 'O'], ['上', 'O'], ['门', 'O'], ['鲜', 'B-材质'], ['花', 'I-材质'], ['配', 'O'], ['送', 'O']]\n",
            "140\n",
            "[['【', 'O'], ['加', 'O'], ['温', 'O'], ['款', 'O'], ['】', 'O'], ['a', 'O'], ['v', 'O'], ['震', 'O'], ['动', 'O'], ['棒', 'O'], ['充', 'O'], ['电', 'O'], ['防', 'O'], ['水', 'O'], ['女', 'B-适用对象'], ['用', 'I-适用对象'], ['自', 'O'], ['慰', 'O'], ['振', 'O'], ['动', 'O'], ['按', 'O'], ['摩', 'O'], ['棒', 'O'], ['【', 'O'], ['送', 'O'], ['头', 'O'], ['套', 'O'], ['】', 'O']]\n",
            "[['【', 'O'], ['新', 'O'], ['手', 'O'], ['上', 'O'], ['路', 'O'], ['】', 'O'], ['实', 'O'], ['习', 'O'], ['车', 'O'], ['贴', 'O'], ['女', 'O'], ['司', 'O'], ['机', 'O'], ['新', 'O'], ['手', 'O'], ['上', 'O'], ['路', 'O'], ['创', 'O'], ['意', 'O'], ['标', 'O'], ['志', 'O'], ['汽', 'O'], ['车', 'O'], ['贴', 'O'], ['纸', 'O'], ['实', 'O'], ['习', 'O'], ['贴', 'O'], ['实', 'O'], ['习', 'O'], ['贴', 'O'], ['纸', 'O'], ['实', 'O'], ['习', 'O'], ['标', 'O'], ['志', 'O'], ['/', 'O'], ['套', 'O']]\n",
            "[['【', 'O'], ['', '', '特', 'O'], ['', '', '享', 'O'], ['', '', '】', 'O'], ['', '', '鲜', 'B-外观'], ['', '', '切', 'O'], ['', '', '土', 'B-产地'], ['', '', '豆', 'I-产地'], ['', '', '丝', 'O'], ['', '', '约', 'O'], ['', '', '3', 'B-分类'], ['', '', '0', 'I-分类'], ['', '', '0', 'I-分类'], ['', '', 'g', 'O']]\n",
            "[['【', 'O'], ['阳', 'O'], ['光', 'O'], ['】', 'O'], ['1', 'O'], ['1', 'O'], ['朵', 'O'], ['向', 'O'], ['日', 'B-果肉颜色'], ['葵', 'I-果肉颜色'], ['鲜', 'O'], ['花', 'O'], ['束', 'O'], ['七', 'B-面料材质'], ['夕', 'I-面料材质'], ['生', 'O'], ['日', 'O'], ['送', 'O'], ['女', 'O'], ['友', 'O'], ['爱', 'O'], ['人', 'O'], ['本', 'O'], ['地', 'O'], ['配', 'O'], ['送', 'O']]\n",
            "[['【', 'B-品牌'], ['黄', 'O'], ['蜂', 'O'], ['战', 'O'], ['士', 'O'], ['】', 'O'], ['变', 'O'], ['形', 'O'], ['玩', 'O'], ['具', 'O'], ['模', 'O'], ['型', 'O'], ['合', 'O'], ['金', 'O'], ['版', 'O'], ['手', 'O'], ['办', 'O'], ['儿', 'O'], ['童', 'O'], ['男', 'O'], ['孩', 'O'], ['2', 'B-适用人数'], ['2', 'I-适用人数'], ['c', 'O'], ['m', 'O'], ['/', 'O'], ['个', 'O']]\n",
            "[['东', 'B-产地'], ['威', 'I-产地'], ['不', 'O'], ['锈', 'B-材质'], ['钢', 'I-材质'], ['汤', 'B-适用空间'], ['锅', 'I-适用空间'], ['家', 'O'], ['用', 'O'], ['燃', 'B-能源方式'], ['气', 'I-能源方式'], ['小', 'O'], ['煮', 'B-功能功效'], ['锅', 'I-功能功效'], ['电', 'B-运输服务'], ['磁', 'I-运输服务'], ['炉', 'I-运输服务'], ['煤', 'B-材质'], ['气', 'I-材质'], ['灶', 'O'], ['通', 'O'], ['用', 'O'], ['煮', 'B-功能功效'], ['粥', 'I-功能功效'], ['煮', 'I-功能功效'], ['汤', 'I-功能功效'], ['锅', 'I-功能功效'], ['加', 'O'], ['厚', 'I-厚度']]\n",
            "[['合', 'O'], ['金', 'O'], ['模', 'B-型号'], ['型', 'I-型号'], ['玩', 'O'], ['具', 'O'], ['拉', 'O'], ['法', 'O'], ['啦', 'O'], ['利', 'O'], ['超', 'O'], ['级', 'O'], ['跑', 'O'], ['车', 'O'], ['轿', 'O'], ['车', 'O'], ['回', 'O'], ['力', 'O'], ['声', 'O'], ['光', 'O'], ['开', 'O'], ['门', 'O'], ['盒', 'O'], ['装', 'O']]\n",
            "[['天', 'O'], ['平', 'O'], ['朝', 'O'], ['晖', 'O'], ['雨', 'B-服装'], ['衣', 'I-服装'], ['连', 'O'], ['体', 'O'], ['雨', 'B-服装'], ['衣', 'I-服装'], ['男', 'O'], ['女', 'O'], ['通', 'O'], ['用', 'O'], ['雨', 'B-服装'], ['衣', 'I-服装'], ['t', 'O'], ['p', 'O'], ['-', 'O'], ['4', 'O'], ['6', 'O'], ['0', 'O'], ['5', 'O']]\n",
            "[['实', 'O'], ['习', 'B-定制服务'], ['车', 'O'], ['贴', 'O'], ['新', 'O'], ['手', 'O'], ['上', 'O'], ['路', 'O'], ['汽', 'O'], ['车', 'O'], ['贴', 'O'], ['纸', 'O'], ['创', 'O'], ['意', 'O'], ['个', 'O'], ['性', 'O'], ['吸', 'O'], ['盘', 'O'], ['女', 'O'], ['司', 'O'], ['机', 'O'], ['提', 'O'], ['示', 'O'], ['牌', 'O'], ['实', 'O'], ['习', 'B-定制服务'], ['标', 'O'], ['志', 'O'], ['反', 'O'], ['光', 'O'], ['1', 'B-个'], ['个', 'I-个'], ['/', 'O'], ['份', 'O'], ['吸', 'O'], ['盘', 'O'], ['式', 'O']]\n",
            "[['小', 'O'], ['能', 'O'], ['人', 'O'], ['r', 'O'], ['1', 'B-车'], ['9', 'I-车'], ['汽', 'O'], ['车', 'O'], ['电', 'O'], ['瓶', 'O'], ['充', 'O'], ['电', 'O'], ['器', 'O'], ['1', 'B-电'], ['2', 'I-电'], ['v', 'O'], ['2', 'O'], ['4', 'O'], ['v', 'O'], ['摩', 'O'], ['托', 'O'], ['车', 'O'], ['蓄', 'O'], ['电', 'O'], ['充', 'O'], ['电', 'O'], ['轿', 'O'], ['车', 'O'], ['货', 'O'], ['车', 'O'], ['铁', 'O'], ['锂', 'I-电'], ['电', 'I-电'], ['池', 'I-电'], ['充', 'O'], ['电', 'O'], ['器', 'O'], ['脉', 'O'], ['冲', 'O'], ['修', 'O'], ['复', 'O'], ['纯', 'O'], ['铜', 'O'], ['/', 'O'], ['个', 'O']]\n",
            "150\n",
            "[['山', 'O'], ['东', 'O'], ['秋', 'B-适用季节'], ['月', 'I-适用季节'], ['梨', 'B-果肉颜色'], ['5', 'O'], ['0', 'O'], ['0', 'O'], ['克', 'O'], ['（', 'O'], ['纯', 'O'], ['甜', 'O'], ['，', 'O'], ['入', 'O'], ['口', 'O'], ['即', 'O'], ['化', 'O'], ['）', 'O']]\n",
            "[['彩', 'O'], ['珀', 'O'], ['1', 'O'], ['/', 'O'], ['3', 'O'], ['2', 'O'], ['合', 'O'], ['金', 'O'], ['汽', 'O'], ['车', 'O'], ['模', 'O'], ['型', 'O'], ['宝', 'B-品牌'], ['马', 'I-品牌'], ['x', 'O'], ['7', 'O'], ['仿', 'O'], ['真', 'O'], ['合', 'O'], ['金', 'O'], ['摆', 'O'], ['件', 'O'], ['s', 'O'], ['u', 'O'], ['v', 'O'], ['越', 'O'], ['野', 'O'], ['车', 'O'], ['玩', 'O'], ['具', 'O'], ['儿', 'O'], ['童', 'O'], ['男', 'O'], ['孩', 'O']]\n",
            "[['拖', 'O'], ['鞋', 'O'], ['网', 'O'], ['红', 'O'], ['小', 'O'], ['清', 'O'], ['新', 'O'], ['厚', 'B-厚薄'], ['底', 'I-厚薄'], ['踩', 'O'], ['屎', 'O'], ['感', 'O'], ['棉', 'B-面料材质'], ['拖', 'O'], ['鞋', 'O'], ['女', 'O'], ['秋', 'O'], ['冬', 'O'], ['季', 'O'], ['室', 'O'], ['内', 'O'], ['居', 'O'], ['家', 'O'], ['居', 'O'], ['防', 'O'], ['滑', 'O'], ['女', 'O'], ['士', 'O'], ['拖', 'O'], ['鞋', 'O'], ['拖', 'O'], ['3', 'O'], ['6', 'O'], ['-', 'O'], ['3', 'O'], ['7', 'O'], ['码', 'O'], ['1', 'O'], ['双', 'O']]\n",
            "[['新', 'O'], ['侣', 'O'], ['女', 'B-适用人群'], ['用', 'O'], ['振', 'B-功能功效'], ['动', 'I-功能功效'], ['自', 'O'], ['慰', 'O'], ['器', 'O'], ['充', 'O'], ['电', 'O'], ['兔', 'B-适用衣物'], ['子', 'I-适用衣物'], ['g', 'O'], ['点', 'O'], ['震', 'B-功能功效'], ['动', 'I-功能功效'], ['棒', 'O'], ['2', 'O'], ['4', 'O'], ['2', 'O']]\n",
            "[['新', 'O'], ['手', 'O'], ['上', 'O'], ['路', 'O'], ['磁', 'O'], ['性', 'O'], ['车', 'O'], ['贴', 'O'], ['女', 'B-适用人群'], ['司', 'I-适用人群'], ['机', 'I-适用人群'], ['汽', 'O'], ['车', 'O'], ['反', 'O'], ['光', 'O'], ['贴', 'O'], ['纸', 'O'], ['创', 'O'], ['意', 'O'], ['文', 'O'], ['字', 'O'], ['统', 'O'], ['一', 'O'], ['装', 'O'], ['饰', 'O'], ['标', 'O'], ['实', 'O'], ['习', 'O'], ['标', 'O'], ['志', 'O']]\n",
            "[['早', 'O'], ['秋', 'O'], ['2', 'O'], ['0', 'O'], ['2', 'O'], ['1', 'O'], ['韩', 'B-版型'], ['版', 'I-版型'], ['时', 'O'], ['尚', 'O'], ['气', 'O'], ['质', 'O'], ['高', 'O'], ['级', 'O'], ['感', 'O'], ['不', 'O'], ['规', 'O'], ['则', 'O'], ['假', 'O'], ['两', 'O'], ['件', 'O'], ['拼', 'O'], ['色', 'O'], ['灯', 'O'], ['笼', 'O'], ['袖', 'O'], ['显', 'O'], ['瘦', 'O'], ['连', 'O'], ['衣', 'O'], ['裙', 'O']]\n",
            "[['有', 'O'], ['线', 'O'], ['耳', 'B-商品特色'], ['机', 'I-商品特色'], ['海', 'B-适用对象'], ['螺', 'I-适用对象'], ['半', 'O'], ['入', 'O'], ['耳', 'B-商品特色'], ['式', 'I-商品特色'], ['带', 'O'], ['麦', 'O'], ['【', 'O'], ['3', 'O'], ['.', 'O'], ['5', 'O'], ['m', 'O'], ['m', 'O'], ['接', 'O'], ['口', 'O'], ['】', 'O'], ['适', 'O'], ['用', 'O'], ['华', 'B-适用对象'], ['为', 'I-适用对象'], ['o', 'O'], ['p', 'O'], ['p', 'O'], ['o', 'O'], ['小', 'B-适用对象'], ['米', 'I-适用对象'], ['v', 'B-适用对象'], ['i', 'I-适用对象'], ['v', 'I-适用对象'], ['o', 'I-适用对象'], ['苹', 'B-适用对象'], ['果', 'I-适用对象']]\n",
            "[['欧', 'O'], ['亚', 'B-大'], ['大', 'I-大'], ['理', 'O'], ['风', 'O'], ['情', 'O'], ['熟', 'O'], ['酸', 'B-奶'], ['奶', 'I-奶'], ['3', 'O'], ['2', 'O'], ['0', 'O'], ['克', 'O']]\n",
            "[['炫', 'O'], ['迈', 'O'], ['无', 'O'], ['糖', 'B-糖含量'], ['颗', 'I-糖含量'], ['粒', 'I-糖含量'], ['口', 'O'], ['香', 'O'], ['糖', 'O'], ['（', 'O'], ['酸', 'B-酸碱度'], ['甜', 'O'], ['草', 'O'], ['莓', 'O'], ['味', 'O'], ['）', 'O'], ['9', 'O'], ['8', 'O'], ['g', 'O'], ['/', 'O'], ['瓶', 'O']]\n",
            "[['爱', 'O'], ['仕', 'O'], ['达', 'O'], ['高', 'O'], ['压', 'B-压力'], ['锅', 'I-压力'], ['燃', 'O'], ['气', 'O'], ['明', 'O'], ['火', 'O'], ['防', 'O'], ['爆', 'O'], ['六', 'O'], ['保', 'O'], ['险', 'O'], ['3', 'O'], ['l', 'O'], ['铝', 'B-材质'], ['合', 'I-材质'], ['金', 'I-材质'], ['家', 'O'], ['用', 'O'], ['小', 'O'], ['号', 'O'], ['压', 'B-压力'], ['力', 'I-压力'], ['锅', 'I-压力'], ['1', 'O'], ['8', 'O'], ['c', 'O'], ['m', 'O'], ['/', 'O'], ['个', 'O']]\n",
            "160\n",
            "[['百', 'O'], ['合', 'O'], ['慰', 'O'], ['问', 'O'], ['花', 'O'], ['束', 'O'], ['生', 'O'], ['日', 'O'], ['鲜', 'O'], ['花', 'O'], ['长', 'O'], ['辈', 'O'], ['甄', 'O'], ['选', 'O']]\n",
            "[['粗', 'B-版型'], ['', '', '面', 'B-面料材质'], ['', '', '条', 'I-面料材质'], ['', '', '圆', 'B-形状形态'], ['', '', '条', 'I-形状形态']]\n",
            "[['绿', 'O'], ['剑', 'O'], ['无', 'O'], ['糖', 'B-糖含量'], ['冰', 'O'], ['柠', 'B-果肉颜色'], ['薄', 'B-厚度'], ['荷', 'I-厚度'], ['糖', 'I-糖含量']]\n",
            "[['老', 'O'], ['北', 'B-产地'], ['京', 'I-产地'], ['布', 'B-材质'], ['鞋', 'I-材质'], ['老', 'O'], ['式', 'O'], ['千', 'B-分类'], ['层', 'I-分类'], ['底', 'I-分类'], ['老', 'O'], ['布', 'B-材质'], ['鞋', 'I-材质'], ['千', 'B-分类'], ['层', 'I-分类'], ['底', 'I-分类'], ['布', 'B-材质'], ['鞋', 'I-材质'], ['1', 'O'], ['双', 'O']]\n",
            "[['草', 'O'], ['原', 'O'], ['红', 'B-颜色'], ['太', 'I-颜色'], ['阳', 'I-颜色'], ['原', 'O'], ['味', 'O'], ['火', 'O'], ['锅', 'O'], ['蘸', 'O'], ['料', 'O'], ['（', 'O'], ['清', 'O'], ['真', 'O'], ['）', 'O']]\n",
            "[['蓝', 'B-颜色'], ['色', 'I-颜色'], ['绣', 'O'], ['球', 'O'], ['香', 'B-分类'], ['槟', 'I-分类'], ['色', 'I-分类'], ['系', 'O'], ['大', 'B-大小'], ['气', 'I-大小'], ['花', 'O'], ['篮', 'O']]\n",
            "[['预', 'O'], ['定', 'O'], ['各', 'O'], ['种', 'O'], ['平', 'B-厚度'], ['安', 'I-厚度'], ['果', 'O'], ['礼', 'B-礼盒类型'], ['盒', 'I-礼盒类型'], ['圣', 'O'], ['诞', 'O'], ['元', 'O'], ['旦', 'O'], ['节', 'O'], ['礼', 'O'], ['物', 'O'], ['1', 'O'], ['g', 'O'], ['/', 'O'], ['包', 'O']]\n",
            "[['香', 'O'], ['槟', 'B-颜色'], ['色', 'I-颜色'], ['系', 'O'], ['玫', 'B-其他属性'], ['瑰', 'I-其他属性'], ['9', 'O'], ['朵', 'O']]\n",
            "[['1', 'O'], ['1', 'O'], ['朵', 'O'], ['玫', 'B-花卉'], ['瑰', 'I-花卉'], ['鲜', 'I-花卉'], ['花', 'I-花卉'], ['花', 'I-花卉'], ['束', 'I-花卉'], ['红', 'B-颜色'], ['粉', 'I-颜色'], ['白', 'I-颜色'], ['香', 'B-香型'], ['槟', 'I-颜色'], ['色', 'I-颜色'], ['可', 'O'], ['选', 'O'], ['-', 'O'], ['a', 'O'], ['2', 'O']]\n",
            "[['l', 'O', 'B-颜色'], ['o', 'I-颜色'], ['z', 'I-颜色'], ['颗', 'O'], ['粒', 'O'], ['积', 'O'], ['木', 'O'], ['7', 'O'], ['6', 'O'], ['0', 'O'], ['p', 'O'], ['c', 'O'], ['s', 'O'], ['（', 'O'], ['紫', 'B-颜色'], ['罗', 'I-颜色'], ['兰', 'I-颜色'], ['）', 'O']]\n",
            "170\n",
            "[['n', 'O'], ['e', 'O'], ['v', 'O'], ['e', 'O'], ['r', 'O'], ['c', 'O'], ['o', 'O'], ['f', 'O'], ['f', 'O'], ['e', 'O'], ['e', 'O'], ['冷', 'B-适用季节'], ['萃', 'I-适用季节'], ['生', 'B-饮料'], ['椰', 'I-饮料'], ['拿', 'I-饮料'], ['铁', 'I-饮料'], ['咖', 'I-饮料'], ['啡', 'I-饮料'], ['饮', 'I-饮料'], ['料', 'I-饮料'], ['3', 'O'], ['0', 'O'], ['0', 'O'], ['m', 'O'], ['l', 'O'], ['/', 'O'], ['瓶', 'O']]\n",
            "[['v', 'O', '', ''], ['i', 'O', '', ''], ['v', 'O', '', ''], ['o', 'O', '', ''], ['原', 'O', '', ''], ['装', 'O', '', ''], ['i', 'O', '', ''], ['q', 'O', '', ''], ['o', 'O', '', ''], ['o', 'O', '', ''], ['影', 'O', '', ''], ['音', 'O', '', ''], ['入', 'O', '', ''], ['耳', 'O', '', ''], ['式', 'O', '', ''], ['有', 'O', '', ''], ['线', 'O', '', ''], ['耳', 'O', '', ''], ['机', 'O', '', ''], ['t', 'O', '', ''], ['y', 'O', '', ''], ['p', 'O', '', ''], ['e', 'O', '', ''], ['-', 'O', '', ''], ['c', 'O', '', ''], ['耳', 'O', '', ''], ['机', 'O', '', ''], ['/', 'O', '', ''], ['个', 'O', '', '']]\n",
            "[['k', 'O'], ['i', 'O'], ['v', 'O'], ['e', 'O'], ['e', 'O'], ['可', 'O'], ['逸', 'O'], ['有', 'O'], ['线', 'O'], ['柔', 'O'], ['软', 'O'], ['硅', 'B-材质'], ['胶', 'I-材质'], ['耳', 'B-产品'], ['帽', 'I-产品'], ['耳', 'I-产品'], ['机', 'I-产品'], ['手', 'I-产品'], ['机', 'I-产品'], ['电', 'I-产品'], ['脑', 'I-产品'], ['平', 'I-产品'], ['板', 'I-产品'], ['入', 'O'], ['耳', 'O'], ['式', 'O']]\n",
            "[['【', 'B-其他属性'], ['好', 'I-其他属性'], ['大', 'I-其他属性'], ['一', 'I-其他属性'], ['只', 'I-其他属性'], ['】', 'O'], ['情', 'O'], ['趣', 'O'], ['加', 'O'], ['厚', 'O'], ['粗', 'O'], ['硅', 'B-面料材质'], ['胶', 'I-面料材质'], ['阴', 'I-面料材质'], ['j', 'I-面料材质'], ['显', 'I-面料材质'], ['大', 'I-面料材质'], ['狼', 'I-面料材质'], ['牙', 'I-面料材质'], ['穿', 'I-面料材质'], ['戴', 'I-面料材质'], ['套', 'I-面料材质'], ['高', 'I-面料材质'], ['巢', 'I-面料材质'], ['成', 'I-面料材质'], ['人', 'I-面料材质'], ['用', 'I-面料材质'], ['品', 'I-面料材质']]\n",
            "[['【', 'B-适用季节'], ['春', 'I-适用季节'], ['暖', 'I-适用季节'], ['花', 'I-适用季节'], ['开', 'I-适用季节'], ['】', 'O'], ['1', 'O'], ['3', 'O'], ['支', 'O'], ['红', 'B-颜色'], ['色', 'I-颜色'], ['康', 'B-名称'], ['乃', 'I-名称'], ['馨', 'I-名称'], ['搭', 'O'], ['配', 'O'], ['向', 'O'], ['日', 'B-名称'], ['葵', 'I-名称'], ['花', 'I-名称'], ['束', 'O'], ['女', 'B-适用对象'], ['神', 'I-适用对象'], ['节', 'O'], ['母', 'B-适用对象'], ['亲', 'I-适用对象'], ['节', 'O'], ['鲜', 'O'], ['花', 'O']]\n",
            "[['【', 'O'], ['清', 'O'], ['新', 'B-适用季节'], ['自', 'I-适用季节'], ['然', 'I-适用季节'], ['】', 'O'], ['新', 'B-组合形式'], ['娘', 'I-组合形式'], ['手', 'O'], ['捧', 'O'], ['（', 'O'], ['提', 'O'], ['前', 'O'], ['预', 'O'], ['定', 'O'], ['不', 'O'], ['接', 'O'], ['急', 'O'], ['单', 'O'], ['）', 'O'], ['2', 'O'], ['1', 'O'], ['支', 'O'], ['香', 'B-香型'], ['槟', 'I-香型'], ['搭', 'O'], ['配', 'O'], ['桔', 'B-领型'], ['梗', 'I-领型'], ['橙', 'I-领型'], ['色', 'I-领型'], ['泡', 'O'], ['泡', 'O'], ['香', 'B-颜色'], ['槟', 'I-颜色'], ['色', 'I-颜色'], ['系', 'O'], ['店', 'O'], ['主', 'O'], ['实', 'O'], ['拍', 'O'], ['图', 'O']]\n",
            "[['【', 'B-颜色', 'B-颜色', 'I-颜色', 'O', '颜色', 'O', '颜色', '颜色', '颜色', 'O', 'O', 'O', 'B-材质', 'O', 'B-材质', 'O', 'O', 'O', 'O', 'B-形状形态', 'B-组合形式', 'B-材质', 'O', 'O', 'O', 'O', 'O', '】']]\n",
            "[['中', 'O'], ['秋', 'O'], ['月', 'B-食品特产'], ['饼', 'I-食品特产'], ['鲜', 'O'], ['花', 'O'], ['礼', 'O'], ['盒', 'O'], ['/', 'O'], ['有', 'O'], ['手', 'O'], ['提', 'O'], ['袋', 'O'], ['4', 'O'], ['包', 'O'], ['清', 'B-品质等级'], ['真', 'I-品质等级'], ['月', 'B-食品特产'], ['饼', 'I-食品特产'], ['一', 'O'], ['枝', 'O'], ['向', 'O'], ['日', 'O'], ['葵', 'O'], ['绣', 'O'], ['球', 'O'], ['橙', 'B-颜色'], ['色', 'I-颜色'], ['芭', 'B-品牌'], ['比', 'I-品牌'], ['等', 'O'], ['混', 'O'], ['搭', 'O']]\n",
            "[['免', 'O'], ['驱', 'O'], ['动', 'O'], ['u', 'B-接口'], ['s', 'I-接口'], ['b', 'I-接口'], ['无', 'O'], ['线', 'O'], ['网', 'O'], ['卡', 'O'], ['无', 'O'], ['限', 'O'], ['台', 'O'], ['式', 'O'], ['机', 'O'], ['电', 'O'], ['脑', 'O'], ['外', 'O'], ['接', 'O'], ['w', 'B-接口'], ['i', 'I-接口'], ['f', 'I-接口'], ['i', 'I-接口'], ['发', 'O'], ['射', 'O'], ['接', 'O'], ['收', 'O'], ['器', 'O']]\n",
            "[['圣', 'B-节'], ['诞', 'I-节'], ['节', 'I-节'], ['平', 'B-安'], ['安', 'I-安'], ['夜', 'I-安'], ['平', 'B-安'], ['安', 'I-安'], ['果', 'B-果'], ['精', 'I-果'], ['美', 'I-果'], ['3', 'O'], ['d', 'O'], ['红', 'B-礼盒类型'], ['礼', 'I-礼盒类型'], ['盒', 'I-礼盒类型'], ['车', 'O'], ['厘', 'O'], ['子', 'O'], ['+', 'O'], ['草', 'B-适用对象'], ['莓', 'I-适用对象'], ['+', 'O'], ['金', 'B-果'], ['果', 'I-果'], ['套', 'O'], ['餐', 'O']]\n",
            "180\n",
            "[['女', 'O'], ['士', 'O'], ['帽', 'B-配件类型'], ['子', 'I-配件类型'], ['围', 'B-配件类型'], ['脖', 'I-配件类型'], ['2', 'O'], ['件', 'O'], ['套', 'O'], ['保', 'O'], ['暖', 'O'], ['针', 'O'], ['织', 'O'], ['毛', 'B-面料材质'], ['线', 'I-面料材质'], ['帽', 'B-配件类型'], ['冬', 'O'], ['天', 'O'], ['骑', 'O'], ['车', 'O'], ['护', 'O'], ['耳', 'O'], ['防', 'O'], ['寒', 'O'], ['帽', 'B-配件类型'], ['子', 'I-配件类型'], ['套', 'O'], ['帽', 'B-配件类型'], ['围', 'B-配件类型'], ['脖', 'I-配件类型'], ['加', 'O'], ['厚', 'B-厚度'], ['颜', 'O'], ['色', 'O'], ['随', 'O'], ['机', 'O']]\n",
            "[['安', 'O'], ['达', 'B-只'], ['1', 'O'], ['0', 'O'], ['只', 'I-只'], ['装', 'O'], ['避', 'B-适用人群'], ['孕', 'I-适用人群'], ['套', 'I-适用人群'], ['超', 'O'], ['薄', 'B-厚薄'], ['大', 'I-大小'], ['油', 'B-香型'], ['量', 'O'], ['颗', 'O'], ['粒', 'O'], ['螺', 'O'], ['纹', 'O'], ['情', 'O'], ['趣', 'O']]\n",
            "[['家', 'O'], ['用', 'O'], ['煤', 'B-材质'], ['气', 'I-材质'], ['灶', 'I-材质'], ['具', 'I-材质'], ['热', 'O'], ['水', 'O'], ['器', 'O'], ['减', 'O'], ['压', 'O'], ['阀', 'O'], ['安', 'O'], ['全', 'O'], ['防', 'O'], ['爆', 'O'], ['阀', 'O'], ['带', 'O'], ['压', 'O'], ['力', 'O'], ['表', 'O'], ['/', 'O'], ['个', 'O']]\n",
            "[['新', 'O'], ['包', 'O'], ['装', 'O'], ['益', 'B-达'], ['达', 'I-达'], ['（', 'O'], ['无', 'O'], ['糖', 'O'], ['口', 'O'], ['香', 'O'], ['糖', 'O'], ['.', 'O'], ['清', 'O'], ['香', 'O'], ['蜜', 'O'], ['桃', 'O'], ['味', 'O'], ['）', 'O'], ['5', 'O'], ['6', 'O'], ['克', 'O'], ['/', 'O'], ['瓶', 'O']]\n",
            "[['新', 'O'], ['年', 'B-适用季节'], ['过', 'O'], ['年', 'O'], ['节', 'O'], ['用', 'O'], ['品', 'O'], ['财', 'O'], ['神', 'O'], ['毛', 'B-材质'], ['毡', 'I-材质'], ['挂', 'O'], ['件', 'O'], ['恭', 'O'], ['喜', 'O'], ['发', 'O'], ['财', 'O'], ['/', 'O'], ['串', 'O']]\n",
            "[['明', 'O'], ['治', 'O'], ['蓝', 'B-果肉颜色'], ['莓', 'I-果肉颜色'], ['酸', 'B-酸碱度'], ['奶', 'B-是否净洗'], ['圆', 'O'], ['条', 'O'], ['雪', 'O'], ['糕', 'O'], ['6', 'O'], ['8', 'O'], ['g', 'O'], ['/', 'O'], ['支', 'O'], ['6', 'O'], ['8', 'O'], ['g', 'O']]\n",
            "[['汽', 'O'], ['车', 'B-适用对象'], ['新', 'I-适用对象'], ['手', 'I-适用对象'], ['上', 'O'], ['路', 'O'], ['实', 'O'], ['习', 'O'], ['车', 'B-适用对象'], ['贴', 'I-适用对象'], ['车', 'I-适用对象'], ['用', 'O'], ['女', 'B-适用人群'], ['司', 'I-适用人群'], ['机', 'I-适用人群'], ['贴', 'O'], ['纸', 'O'], ['磁', 'B-其他属性'], ['吸', 'I-其他属性'], ['标', 'I-其他属性'], ['志', 'O'], ['实', 'O'], ['习', 'O'], ['期', 'O'], ['磁', 'B-其他属性'], ['贴', 'I-其他属性'], ['创', 'O'], ['意', 'O'], ['统', 'O'], ['一', 'O']]\n",
            "[['清', 'O'], ['真', 'O'], ['小', 'O'], ['能', 'O'], ['豆', 'B-果肉颜色'], ['骨', 'I-果肉颜色'], ['肉', 'I-果肉颜色'], ['相', 'O'], ['连', 'O']]\n",
            "[['燕', 'B-产品/产地'], ['塘', 'I-产品/产地'], ['老', 'I-产品/产地'], ['广', 'I-产品/产地'], ['州', 'I-产品/产地'], ['酸', 'B-品质等级'], ['奶', 'I-品质等级'], ['圆', 'B-形状形态'], ['条', 'I-形状形态'], ['（', 'O'], ['草', 'B-颜色'], ['莓', 'I-颜色'], ['味', 'O'], ['）', 'O']]\n",
            "[['男', 'O'], ['', '', '孩', 'O'], ['', '', '礼', 'B-送礼对象'], ['', '', '物', 'I-送礼对象'], ['', '', '-', 'O'], ['', '', '足', 'O'], ['', '', '球', 'O'], ['', '', '混', 'O'], ['', '', '搭', 'O'], ['', '', '花', 'O'], ['', '', '束', 'O'], ['', '', '-', 'O'], ['', '', '球', 'O'], ['', '', '类', 'O'], ['', '', '费', 'O'], ['', '', '用', 'O'], ['', '', '自', 'O'], ['', '', '理', 'O'], ['', '', '-', 'O'], ['', '', '欧', 'B-适用地区'], ['', '', '洲', 'I-适用地区'], ['', '', '杯', 'I-适用地区']]\n",
            "190\n",
            "[['益', 'B-果肉颜色'], ['达', 'I-果肉颜色'], ['木', 'I-果肉颜色'], ['糖', 'I-果肉颜色'], ['醇', 'I-果肉颜色'], ['无', 'O'], ['糖', 'O'], ['口', 'B-香型'], ['香', 'I-香型'], ['糖', 'I-香型'], ['5', 'O'], ['6', 'O'], ['g', 'O'], ['/', 'O'], ['罐', 'O'], ['（', 'O'], ['口', 'O'], ['味', 'O'], ['随', 'O'], ['机', 'O'], ['）', 'O']]\n",
            "[['稻', 'O'], ['香', 'O'], ['村', 'O'], ['无', 'O'], ['糖', 'O'], ['月', 'B-商品特色'], ['饼', 'I-商品特色'], ['3', 'O'], ['2', 'O'], ['0', 'O'], ['g', 'O'], ['/', 'O'], ['份', 'O']]\n",
            "[['粉', 'B-颜色'], ['色', 'I-颜色'], ['满', 'O'], ['天', 'O'], ['星', 'O'], ['花', 'O'], ['束', 'O'], ['1', 'O'], ['束', 'O'], ['端', 'O'], ['午', 'O'], ['国', 'B-节日'], ['庆', 'I-节日'], ['中', 'I-节日'], ['秋', 'I-节日'], ['妇', 'O'], ['女', 'O'], ['节', 'O'], ['母', 'O'], ['亲', 'O'], ['节', 'O'], ['看', 'O'], ['望', 'O'], ['长', 'O'], ['辈', 'O'], ['父', 'O'], ['母', 'O']]\n",
            "[['绿', 'O'], ['联', 'O'], ['t', 'O'], ['y', 'O'], ['p', 'O'], ['e', 'O'], ['-', 'O'], ['c', 'O'], ['千', 'O'], ['兆', 'O'], ['有', 'O'], ['线', 'O'], ['网', 'O'], ['卡', 'O'], ['适', 'O'], ['用', 'O'], ['苹', 'B-适用对象'], ['果', 'I-适用对象'], ['笔', 'O'], ['记', 'O'], ['本', 'O'], ['电', 'O'], ['脑', 'O'], ['u', 'O'], ['s', 'O'], ['b', 'O'], ['-', 'O'], ['c', 'O'], ['转', 'O'], ['r', 'O'], ['j', 'O'], ['4', 'O'], ['5', 'O'], ['2', 'O'], ['.', 'O'], ['5', 'O'], ['g', 'O'], ['外', 'O'], ['置', 'O'], ['网', 'O'], ['卡', 'O'], ['1', 'O'], ['套', 'O']]\n",
            "[['袜', 'B-适用对象'], ['', '', '子', 'I-适用对象'], ['', '', '女', 'I-适用对象'], ['', '', '夏', 'B-适用季节'], ['', '', '季', 'I-适用季节'], ['', '', '薄', 'B-厚薄'], ['', '', '款', 'I-厚薄'], ['', '', '高', 'B-筒高'], ['', '', '筒', 'I-筒高'], ['', '', '袜', 'I-适用衣物'], ['', '', '', '(', 'O'], ['', '', '颜', 'B-颜色'], ['', '', '色', 'I-颜色'], ['', '', '', '随', 'O'], ['', '', '机', 'O'], ['', '', '', ')', 'O'], ['', '', '网', 'B-外观'], ['', '', '红', 'I-颜色'], ['', '', '勾', 'B-形状形态'], ['', '', '勾', 'I-形状形态'], ['', '', '潮', 'O'], ['', '', '袜', 'B-款式'], ['', '', '超', 'B-厚薄'], ['', '', '薄', 'I-厚薄'], ['', '', '夏', 'B-适用季节'], ['', '', '天', 'I-适用季节'], ['', '', '冰', 'B-功能功效'], ['', '', '丝', 'I-面料材质'], ['', '', '长', 'I-长短'], ['', '', '袜', 'B-款式'], ['', '', '韩', 'B-产地'], ['', '', '版', 'I-版型'], ['', '', '纯', 'B-成分'], ['', '', '色', 'I-颜色']]\n",
            "[['鲁', 'O'], ['媛', 'O'], ['小', 'O'], ['猪', 'O'], ['佩', 'O'], ['奇', 'O'], ['小', 'O'], ['方', 'O'], ['巾', 'O'], ['2', 'O'], ['5', 'O'], ['c', 'I-厚度'], ['m', 'I-厚度'], ['×', 'O'], ['2', 'O'], ['5', 'O'], ['c', 'I-厚度'], ['m', 'I-厚度']]\n",
            "[['龙', 'B-果肉颜色'], ['眼', 'I-果肉颜色'], ['约', 'O'], ['1', 'B-存储容量'], ['k', 'I-存储容量'], ['g', 'I-存储容量'], ['左', 'O'], ['右', 'O'], ['整', 'O'], ['盒', 'B-礼盒类型'], ['超', 'O'], ['级', 'O'], ['甜', 'B-香型']]\n",
            "[['b', 'O'], ['-', 'O'], ['百', 'B-饮料'], ['', '', 'O'], ['事', 'I-饮料'], ['', '', 'O'], ['可', 'O'], ['乐', 'O'], ['无', 'B-糖含量'], ['', '', 'I-糖含量'], ['糖', 'I-糖含量'], ['树', 'B-果肉颜色'], ['莓', 'I-果肉颜色'], ['味', 'I-果肉颜色'], ['碳', 'B-酸碱度'], ['酸', 'I-酸碱度'], ['汽', 'I-酸碱度'], ['水', 'I-酸碱度'], ['饮', 'B-饮料'], ['', '', 'I-饮料'], ['料', 'I-饮料'], ['5', 'O'], ['0', 'O'], ['0', 'O'], ['m', 'O'], ['l', 'O'], ['/', 'O'], ['1', 'O'], ['瓶', 'O'], ['/', 'O'], ['份', 'O']]\n",
            "[['c', 'O'], ['', '', 'O'], ['', '', 'd', 'O'], ['', '', '单', 'B-分类'], ['', '', '片', 'I-分类'], ['', '', '套', 'I-分类'], ['', '', '装', 'I-分类'], ['', '', 'c', 'O'], ['', '', 'd', 'O'], ['', '', '光', 'B-适用空间'], ['', '', '盘', 'I-适用空间'], ['', '', '加', 'O'], ['', '', 'p', 'B-送礼对象'], ['', '', 'p', 'I-送礼对象'], ['', '', '袋', 'I-送礼对象'], ['', '', '3', 'O'], ['', '', '7', 'O'], ['', '', '2', 'O'], ['', '', '5', 'O'], ['', '', '得', 'O'], ['', '', '力', 'O'], ['', '', '1', 'O'], ['', '', '套', 'O']]\n",
            "[['【', 'O'], ['十', 'O'], ['一', 'O'], ['月', 'O'], ['】', 'O'], ['充', 'O'], ['满', 'O'], ['激', 'O'], ['情', 'O'], ['天', 'O'], ['蝎', 'O'], ['座', 'O'], ['星', 'O'], ['座', 'O'], ['花', 'O'], ['|', 'O'], ['玫', 'B-鲜花'], ['瑰', 'I-鲜花'], ['绣', 'O'], ['球', 'O'], ['混', 'O'], ['搭', 'O'], ['生', 'O'], ['日', 'O'], ['鲜', 'B-花'], ['花', 'I-花'], ['（', 'O'], ['提', 'O'], ['前', 'O'], ['一', 'O'], ['天', 'O'], ['预', 'O'], ['定', 'O'], ['）', 'O']]\n",
            "200\n",
            "[['【', 'O'], ['定', 'B-金'], ['金', 'I-金'], ['】', 'O'], ['轿', 'B-车'], ['车', 'I-车'], ['后', 'I-备'], ['备', 'I-备'], ['箱', 'I-备'], ['布', 'B-置'], ['置', 'I-置'], ['惊', 'O'], ['喜', 'O'], ['生', 'O'], ['日', 'O'], ['求', 'O'], ['婚', 'O'], ['派', 'O'], ['对', 'O'], ['布', 'B-置'], ['置', 'I-置'], ['场', 'I-景'], ['景', 'I-景']]\n",
            "[['伊', 'B-产地'], ['利', 'I-产地'], ['畅', 'B-品质等级'], ['轻', 'B-口味'], ['餐', 'I-口味'], ['后', 'I-口味'], ['轻', 'B-口感'], ['盈', 'I-口感'], ['p', 'O'], ['e', 'O'], ['t', 'O'], ['风', 'O'], ['味', 'O'], ['发', 'O'], ['酵', 'O'], ['乳', 'O'], ['原', 'O'], ['味', 'O'], ['2', 'O'], ['3', 'O'], ['8', 'O'], ['m', 'O'], ['l', 'O']]\n",
            "[['圆', 'O'], ['粒', 'O'], ['糯', 'B-面料材质'], ['米', 'I-面料材质'], ['1', 'O'], ['0', 'O'], ['0', 'O'], ['0', 'O'], ['g', 'O']]\n",
            "[['家', 'O'], ['用', 'O'], ['特', 'O'], ['小', 'O'], ['号', 'O'], ['浇', 'B-适用对象'], ['花', 'I-适用对象'], ['水', 'I-适用对象'], ['桶', 'I-适用对象'], ['水', 'I-适用对象'], ['桶', 'I-适用对象'], ['带', 'O'], ['盖', 'O'], ['子', 'O'], ['桶', 'O'], ['1', 'O'], ['/', 'O'], ['个', 'O'], ['（', 'O'], ['颜', 'O'], ['色', 'O'], ['随', 'O'], ['机', 'O'], ['）', 'O']]\n",
            "[['小', 'O'], ['黑', 'B-外观'], ['裙', 'I-外观'], ['嫩', 'O'], ['肤', 'O'], ['沐', 'O'], ['浴', 'O'], ['露', 'O']]\n",
            "[['带', 'O'], ['盖', 'O'], ['搪', 'B-材质'], ['瓷', 'I-材质'], ['盆', 'O']]\n",
            "[['幻', 'O'], ['彩', 'O'], ['颗', 'O'], ['粒', 'O'], ['润', 'B-功能功效'], ['滑', 'I-功能功效'], ['油', 'I-功能功效'], ['快', 'O'], ['感', 'O'], ['热', 'O'], ['感', 'O'], ['倍', 'O'], ['润', 'O'], ['水', 'O'], ['溶', 'O'], ['性', 'O'], ['润', 'B-功能功效'], ['滑', 'I-功能功效'], ['液', 'I-功能功效'], ['2', 'O'], ['6', 'O'], ['0', 'O'], ['m', 'O'], ['l', 'O']]\n",
            "[['手', 'O'], ['工', 'O'], ['全', 'O'], ['型', 'O'], ['火', 'B-锅底类型'], ['锅', 'I-锅底类型'], ['底', 'I-锅底类型'], ['料', 'O'], ['牛', 'B-填充材质'], ['油', 'I-填充材质'], ['微', 'O'], ['辣', 'O'], ['m', 'O'], ['y', 'O'], ['-', 'O'], ['5', 'O'], ['0', 'O'], ['0', 'O'], ['g', 'O'], ['【', 'O'], ['清', 'B-适用空间'], ['真', 'I-适用空间'], ['】', 'O']]\n",
            "[['波', 'O'], ['', '', '多', 'B-进口'], ['', '', '野', 'I-进口'], ['', '', '结', 'O'], ['', '', '衣', 'O'], ['', '', '美', 'B-适用对象'], ['', '', '尻', 'O'], ['', '', '倒', 'O'], ['', '', '膜', 'O'], ['', '', '黄', 'B-颜色'], ['', '', '金', 'B-颜色'], ['', '', '比', 'O'], ['', '', '例', 'O'], ['', '', '大', 'O'], ['', '', '屁', 'B-身体部位'], ['', '', '股', 'I-身体部位'], ['', '', '情', 'O'], ['', '', '趣', 'O'], ['', '', '成', 'O'], ['', '', '人', 'O'], ['', '', '用', 'O'], ['', '', '品', 'O']]\n",
            "[['猫', 'O'], ['包', 'B-鞋垫材质'], ['双', 'I-鞋垫材质'], ['肩', 'I-鞋垫材质'], ['背', 'I-鞋垫材质'], ['包', 'I-鞋垫材质'], ['太', 'O'], ['空', 'O'], ['舱', 'O'], ['猫', 'O'], ['小', 'O'], ['狗', 'O'], ['兔', 'O'], ['子', 'O'], ['（', 'O'], ['太', 'O'], ['空', 'O'], ['狗', 'O'], ['）', 'O']]\n",
            "210\n",
            "[['秋', 'O'], ['冬', 'O'], ['季', 'O'], ['加', 'O'], ['厚', 'B-厚度'], ['毛', 'B-面料材质'], ['呢', 'I-面料材质'], ['哈', 'O'], ['伦', 'O'], ['裤', 'O'], ['女', 'O'], ['小', 'O'], ['脚', 'O'], ['萝', 'O'], ['卜', 'O'], ['裤', 'O'], ['大', 'O'], ['码', 'O'], ['九', 'O'], ['分', 'O'], ['宽', 'O'], ['松', 'O'], ['休', 'O'], ['闲', 'O'], ['直', 'O'], ['筒', 'O'], ['西', 'O'], ['装', 'O'], ['长', 'O'], ['裤', 'O']]\n",
            "[['葡', 'B-果肉颜色'], ['萄', 'I-果肉颜色'], ['桂', 'B-花', 'B-适用对象'], ['花', 'I-花', 'B-适用对象'], ['乌', 'I-龙', 'I-茶', 'B-适用季节'], ['龙', 'I-茶', 'I-适用季节'], ['茶', 'I-茶', 'I-适用季节'], ['无', 'O'], ['糖', 'O'], ['冷', 'O'], ['泡', 'O'], ['茶', 'O'], ['包', 'O'], ['夏', 'B-适用季节'], ['季', 'I-适用季节'], ['花', 'I-花', 'O'], ['果', 'I-果肉颜色', 'I-果肉颜色'], ['茶', 'I-茶', 'O'], ['冲', 'O'], ['泡', 'O'], ['冷', 'O'], ['萃', 'O'], ['三', 'B-修改_B使用'], ['角', 'I-修改_B使用'], ['包', 'I-修改_B使用'], ['茶', 'I-茶', 'O'], ['饮', 'O'], ['2', 'O'], ['盒', 'O'], ['8', 'O'], ['0', 'O'], ['g', 'O'], ['/', 'O'], ['2', 'O'], ['0', 'O'], ['包', 'O']]\n",
            "[['金', 'O'], ['沙', 'O'], ['河', 'O'], ['高', 'O'], ['筋', 'O'], ['龙', 'O'], ['须', 'O'], ['挂', 'O'], ['面', 'B-大小'], ['圆', 'I-大小'], ['条', 'I-大小'], ['5', 'O'], ['0', 'O'], ['0', 'O'], ['g', 'O'], ['/', 'O'], ['袋', 'O']]\n",
            "[['雄', 'O'], ['健', 'O'], ['丰', 'O'], ['田', 'O'], ['干', 'O'], ['拌', 'O'], ['面', 'O'], ['1', 'O'], ['k', 'O'], ['g', 'O']]\n",
            "[['香', 'O'], ['雪', 'O'], ['圆', 'O'], ['条', 'O'], ['挂', 'O'], ['面', 'O'], ['4', 'O'], ['5', 'O'], ['0', 'O'], ['g', 'O'], ['/', 'O'], ['袋', 'O']]\n",
            "[['鲁', 'B-产地'], ['南', 'I-产地'], ['一', 'I-产地'], ['号', 'I-产地'], ['挂', 'O'], ['面', 'O'], ['拉', 'O'], ['面', 'O'], ['圆', 'O'], ['条', 'O'], ['细', 'O']]\n",
            "[['3', 'O'], ['0', 'O'], ['g', 'O'], ['孜', 'B-适用空间'], ['然', 'I-适用空间'], ['（', 'O'], ['颗', 'O'], ['粒', 'O'], ['）', 'O']]\n",
            "[['3', 'O'], ['3', 'O'], ['朵', 'O'], ['玫', 'B-花名'], ['瑰', 'I-花名'], ['鲜', 'O'], ['花', 'B-商品特色'], ['花', 'I-商品特色'], ['束', 'I-商品特色'], ['红', 'O'], ['粉', 'O'], ['白', 'O'], ['香', 'O'], ['槟', 'O'], ['色', 'O'], ['可', 'O'], ['选', 'O'], ['-', 'O'], ['c', 'O'], ['9', 'O']]\n",
            "[['n', 'O'], ['e', 'O'], ['v', 'O'], ['e', 'O'], ['r', 'O'], ['c', 'O'], ['o', 'O'], ['f', 'O'], ['f', 'O'], ['e', 'O'], ['e', 'O'], ['冷', 'B-外观'], ['萃', 'I-外观'], ['冰', 'I-外观'], ['博', 'I-外观'], ['客', 'I-外观'], ['拿', 'I-送礼对象'], ['铁', 'I-送礼对象'], ['3', 'O'], ['0', 'O'], ['0', 'O'], ['m', 'O'], ['l', 'O'], ['/', 'O'], ['瓶', 'O']]\n",
            "[['【', 'O'], ['3', 'B-数量'], ['3', 'I-数量'], ['颗', 'O'], ['草', 'B-水果'], ['莓', 'I-水果'], ['真', 'O'], ['甜', 'O'], ['草', 'B-花材'], ['莓', 'I-花材'], ['花', 'B-花材'], ['束', 'I-花材'], ['】', 'O'], ['搭', 'O'], ['配', 'O'], ['洋', 'B-花材'], ['甘', 'I-花材'], ['菊', 'I-花材'], ['鲜', 'I-花材'], ['花', 'I-花材'], ['送', 'O'], ['男', 'O'], ['女', 'O'], ['朋', 'O'], ['友', 'O'], ['送', 'O'], ['闺', 'O'], ['蜜', 'O'], ['生', 'O'], ['日', 'O'], ['礼', 'O'], ['物', 'O'], ['圣', 'O'], ['诞', 'O'], ['节', 'O'], ['花', 'B-花材'], ['束', 'I-花材'], ['送', 'O'], ['花', 'B-祝福用语'], ['上', 'O'], ['门', 'O']]\n",
            "220\n",
            "[['【', 'O'], ['情', 'O'], ['真', 'O'], ['如', 'O'], ['初', 'O'], ['】', 'O'], ['', '', 'O'], ['香', 'B-颜色'], ['槟', 'I-颜色'], ['色', 'I-颜色'], ['系', 'O'], ['手', 'O'], ['捧', 'O'], ['花', 'O']]\n",
            "[['不', 'O'], ['粘', 'O'], ['锅', 'O'], ['煎', 'O'], ['炒', 'O'], ['两', 'O'], ['用', 'O'], ['不', 'O'], ['沾', 'O'], ['炒', 'O'], ['锅', 'O'], ['不', 'O'], ['带', 'O'], ['盖', 'O'], ['平', 'O'], ['底', 'O'], ['复', 'O'], ['底', 'O'], ['炒', 'O'], ['菜', 'O'], ['锅', 'O'], ['电', 'O'], ['池', 'O'], ['炉', 'O'], ['可', 'O'], ['用', 'O']]\n",
            "[['元', 'O'], ['旦', 'B-节日'], ['新', 'I-节日'], ['年', 'I-节日'], ['装', 'O'], ['饰', 'O'], ['商', 'O'], ['场', 'O'], ['店', 'O'], ['铺', 'O'], ['卡', 'O'], ['通', 'O'], ['拉', 'O'], ['旗', 'O'], ['吊', 'O'], ['旗', 'O'], ['场', 'O'], ['景', 'O'], ['布', 'O'], ['置', 'O'], ['拉', 'O'], ['条', 'O'], ['春', 'O'], ['节', 'O'], ['生', 'O'], ['肖', 'O'], ['牛', 'O'], ['串', 'O'], ['旗', 'O']]\n",
            "[['冇', 'O'], ['心', 'O'], ['线', 'O'], ['控', 'O'], ['耳', 'B-配件类型'], ['机', 'I-配件类型'], ['入', 'O'], ['耳', 'O'], ['式', 'O'], ['运', 'O'], ['动', 'O'], ['重', 'O'], ['低', 'O'], ['音', 'O'], ['手', 'O'], ['机', 'O'], ['有', 'O'], ['线', 'O'], ['跑', 'O'], ['步', 'O'], ['迷', 'O'], ['你', 'O'], ['发', 'O'], ['烧', 'O'], ['h', 'O'], ['i', 'O'], ['f', 'O'], ['i', 'O'], ['带', 'O'], ['麦', 'O'], ['吃', 'O'], ['鸡', 'O'], ['粉', 'O'], ['色', 'O']]\n",
            "[['初', 'O'], ['心', 'O'], ['花', 'B-礼盒类型'], ['礼', 'I-礼盒类型'], ['向', 'O'], ['日', 'O'], ['葵', 'B-花'], ['香', 'I-花'], ['槟', 'I-花'], ['色', 'I-花'], ['系', 'I-花'], ['满', 'O'], ['天', 'O'], ['星', 'O'], ['韩', 'B-供电方式'], ['式', 'I-供电方式'], ['小', 'O'], ['花', 'B-花'], ['束', 'I-花']]\n",
            "[['塑', 'B-材质'], ['料', 'I-材质'], ['手', 'O'], ['提', 'O'], ['水', 'B-适用空间'], ['桶', 'I-适用空间'], ['家', 'O'], ['用', 'O'], ['（', 'O'], ['中', 'O'], ['号', 'O'], ['内', 'O'], ['径', 'O'], ['2', 'I-长度'], ['7', 'I-长度'], ['c', 'I-长度'], ['m', 'I-长度'], ['）', 'O'], ['水', 'B-适用空间'], ['桶', 'I-适用空间'], ['带', 'O'], ['盖', 'O'], ['子', 'O'], ['/', 'O'], ['1', 'O'], ['个', 'O'], ['颜', 'B-颜色'], ['色', 'I-颜色'], ['随', 'O'], ['机', 'O']]\n",
            "[['大', 'O'], ['麦', 'O'], ['大', 'O'], ['卖', 'O'], ['三', 'B-适用人数'], ['脚', 'O'], ['架', 'O'], ['1', 'O'], ['个', 'O'], ['香', 'B-香型'], ['槟', 'I-香型'], ['色', 'O'], ['系', 'O']]\n",
            "[['尚', 'O'], ['牌', 'O'], ['情', 'O'], ['趣', 'O'], ['五', 'O'], ['合', 'O'], ['一', 'O'], ['罐', 'O'], ['装', 'O'], ['避', 'B-适用对象'], ['孕', 'I-适用对象'], ['套', 'I-适用对象'], ['持', 'O'], ['久', 'O'], ['颗', 'O'], ['粒', 'O'], ['螺', 'O'], ['纹', 'O'], ['冰', 'O'], ['火', 'O'], ['混', 'O'], ['合', 'O'], ['装', 'O']]\n",
            "[['当', 'O'], ['日', 'O'], ['新', 'O'], ['鲜', 'O'], ['黄', 'B-颜色'], ['豆', 'O'], ['芽', 'O']]\n",
            "[['文', 'O'], ['艺', 'O'], ['牛', 'B-材质'], ['皮', 'I-材质'], ['纸', 'B-材质'], ['香', 'B-颜色'], ['槟', 'I-颜色'], ['色', 'I-颜色'], ['系', 'O'], ['玫', 'B-花材'], ['瑰', 'I-花材'], ['小', 'O'], ['花', 'O'], ['束', 'O']]\n",
            "230\n",
            "[['无', 'O'], ['糖', 'B-糖含量'], ['口', 'O'], ['香', 'B-香型'], ['糖', 'I-香型'], ['魅', 'I-香型'], ['幻', 'I-香型'], ['蓝', 'I-香型'], ['莓', 'I-香型'], ['味', 'I-香型'], ['3', 'O'], ['2', 'O'], ['g', 'O'], ['/', 'O'], ['包', 'O']]\n",
            "[['曼', 'B-适用对象'], ['', '', '诺', 'I-适用对象'], ['', '', '璐', 'I-适用对象'], ['', '', '茜', 'I-适用对象'], ['', '', '', '', '双', 'O'], ['', '', '', '', '头', 'O'], ['', '', '', '', '变', 'O'], ['', '', '', '', '频', 'O'], ['', '', '', '', '', '', 'a', 'O'], ['', '', '', '', '', '', 'v', 'O'], ['', '', '', '', '', '', '震', 'O'], ['', '', '', '', '', '', '动', 'O'], ['', '', '', '', '', '', '棒', 'O'], ['', '', '', '', '伸', 'B-材质'], ['', '', '', '', '缩', 'I-材质'], ['', '', '', '', '加', 'O'], ['', '', '', '', '温', 'O'], ['', '', '', '', '女', 'O'], ['', '', '', '', '用', 'O'], ['', '', '', '', '充', 'O'], ['', '', '', '', '电', 'O'], ['', '', '', '', '自', 'O'], ['', '', '', '', '慰', 'O'], ['', '', '', '', '器', 'O']]\n",
            "[['清', 'O'], ['真', 'O'], ['蓝', 'B-颜色'], ['鸽', 'O'], ['烤', 'O'], ['花', 'O'], ['生', 'O'], ['仁', 'O'], ['1', 'O'], ['8', 'O'], ['0', 'O'], ['g', 'O']]\n",
            "[['滚', 'B-筒'], ['圆', 'I-筒'], ['梳', 'B-梳'], ['子', 'I-梳'], ['女', 'B-适用人群'], ['士', 'I-适用人群'], ['专', 'O'], ['用', 'O'], ['长', 'B-面料材质'], ['发', 'I-面料材质'], ['卷', 'I-面料材质'], ['发', 'I-面料材质'], ['气', 'B-气囊'], ['垫', 'I-气囊'], ['梳', 'B-梳'], ['气', 'I-梳'], ['囊', 'I-梳'], ['按', 'O'], ['摩', 'O'], ['排', 'O'], ['骨', 'O'], ['梳', 'B-梳'], ['家', 'O'], ['用', 'O'], ['便', 'O'], ['携', 'O'], ['儿', 'O'], ['童', 'O'], ['女', 'B-适用人群'], ['孩', 'I-适用人群'], ['梳', 'B-梳'], ['头', 'O'], ['一', 'O'], ['把', 'O']]\n",
            "[['漫', 'O'], ['步', 'O'], ['者', 'O'], ['高', 'B-品质等级'], ['品', 'I-品质等级'], ['质', 'I-品质等级'], ['耳', 'B-耳机'], ['机', 'I-耳机'], ['头', 'B-头戴式'], ['戴', 'I-头戴式'], ['式', 'I-头戴式'], ['立', 'O'], ['体', 'O'], ['声', 'O'], ['重', 'O'], ['低', 'O'], ['音', 'O'], ['降', 'O'], ['噪', 'O'], ['有', 'O'], ['线', 'O'], ['耳', 'B-耳机'], ['麦', 'I-耳机'], ['（', 'O'], ['单', 'O'], ['线', 'O'], ['）', 'O']]\n",
            "[['炊', 'O'], ['大', 'O'], ['皇', 'O'], ['3', 'O'], ['2', 'O'], ['c', 'O'], ['m', 'O'], ['铁', 'B-材质'], ['匠', 'I-材质'], ['人', 'O'], ['带', 'O'], ['盖', 'O'], ['炒', 'O'], ['锅', 'O'], ['1', 'O'], ['个', 'O'], ['/', 'O'], ['份', 'O']]\n",
            "[['特', 'O'], ['甜', 'B-特征'], ['无', 'B-其他属性'], ['籽', 'B-其他属性'], ['葡', 'I-其他属性'], ['萄', 'I-其他属性'], ['/', 'O'], ['斤', 'O']]\n",
            "[['苏', 'O'], ['泊', 'O'], ['尔', 'O'], ['好', 'O'], ['帮', 'O'], ['手', 'O'], ['3', 'O'], ['0', 'O'], ['4', 'O'], ['不', 'O'], ['锈', 'B-材质'], ['钢', 'I-材质'], ['2', 'O'], ['6', 'O'], ['c', 'O'], ['m', 'O'], ['蒸', 'O'], ['锅', 'O'], ['燃', 'O'], ['气', 'O'], ['电', 'O'], ['磁', 'O'], ['炉', 'O'], ['通', 'O'], ['用', 'O'], ['汤', 'O'], ['锅', 'O'], ['蒸', 'O'], ['笼', 'O']]\n",
            "[['颗', 'O'], ['粒', 'O'], ['按', 'O'], ['摩', 'O'], ['乳', 'B-材质'], ['胶', 'I-材质'], ['枕', 'O'], ['头', 'O'], ['高', 'O'], ['p', 'O'], ['1', 'O']]\n",
            "[['食', 'O'], ['品', 'O'], ['级', 'O'], ['p', 'O'], ['e', 'O'], ['小', 'O'], ['冰', 'O'], ['球', 'O'], ['模', 'O'], ['具', 'O'], ['软', 'O'], ['格', 'O'], ['冰', 'O'], ['格', 'O'], ['威', 'B-士'], ['士', 'I-士'], ['忌', 'I-士'], ['冻', 'O'], ['冰', 'O'], ['块', 'O'], ['硅', 'B-胶'], ['胶', 'I-胶'], ['盒', 'O'], ['方', 'O'], ['形', 'O'], ['带', 'O'], ['盖', 'O'], ['2', 'O'], ['1', 'O'], ['格', 'O'], ['颜', 'O'], ['色', 'O'], ['随', 'O'], ['机', 'O'], ['/', 'O'], ['一', 'O'], ['个', 'O'], ['1', 'O'], ['7', 'O'], ['1', 'O'], ['3', 'O']]\n",
            "240\n",
            "[['3', 'B-厚度'], ['0', 'I-厚度'], ['4', 'O'], ['加', 'O'], ['厚', 'B-厚度'], ['不', 'O'], ['锈', 'B-材质'], ['钢', 'I-材质'], ['高', 'O'], ['压', 'O'], ['锅', 'B-压力锅'], ['电', 'B-适用对象'], ['磁', 'I-适用对象'], ['炉', 'I-适用对象'], ['通', 'O'], ['用', 'O'], ['家', 'O'], ['用', 'O'], ['燃', 'B-适用对象'], ['气', 'I-适用对象'], ['煤', 'I-适用对象'], ['气', 'I-适用对象'], ['明', 'O'], ['火', 'O'], ['压', 'B-压力锅'], ['力', 'I-压力锅'], ['锅', 'I-压力锅'], ['小', 'O'], ['型', 'O'], ['商', 'O'], ['用', 'O'], ['2', 'O'], ['4', 'O'], ['寸', 'O']]\n",
            "[['4', 'O'], ['3', 'O'], ['9', 'O'], ['0', 'O'], ['6', 'O'], ['7', 'O'], ['华', 'B-厂地'], ['夫', 'I-厂地'], ['格', 'B-适用对象'], ['圆', 'I-适用对象'], ['领', 'B-领型'], ['t', 'I-领型'], ['恤', 'I-领型'], ['(', 'O'], ['初', 'O'], ['秋', 'B-适用季节'], ['吊', 'O'], ['肩', 'O'], ['袖', 'O'], ['t', 'B-领型'], ['恤', 'I-领型'], ['长', 'I-袖长'], ['袖', 'I-袖长'], [')', 'O'], ['黑', 'B-颜色'], ['色', 'I-颜色'], ['1', 'O'], ['7', 'O'], ['0', 'O'], ['/', 'O'], ['1', 'O'], ['0', 'O'], ['0', 'O'], ['b', 'O'], ['/', 'O'], ['x', 'O'], ['x', 'O'], ['l', 'O']]\n",
            "[['b', 'O'], ['5', 'O'], ['（', 'O'], ['店', 'O'], ['长', 'B-店长'], ['强', 'I-店长'], ['力', 'I-店长'], ['推', 'I-店长'], ['荐', 'I-店长'], ['）', 'O'], ['高', 'B-适用人群'], ['频', 'I-适用人群'], ['秒', 'I-适用人群'], ['潮', 'I-适用人群'], ['极', 'I-适用人群'], ['速', 'I-适用人群'], ['震', 'I-适用人群'], ['动', 'I-适用人群'], ['棒', 'I-适用人群'], ['女', 'I-适用人群'], ['用', 'I-适用人群'], ['a', 'O'], ['v', 'O']]\n",
            "[['x', 'O'], ['永', 'O'], ['璞', 'O'], ['生', 'O'], ['牛', 'B-适用对象'], ['乳', 'I-适用对象'], ['草', 'O'], ['莓', 'O'], ['冷', 'O'], ['萃', 'O'], ['小', 'O'], ['房', 'O'], ['子', 'O'], ['拿', 'O'], ['铁', 'O'], ['3', 'O'], ['7', 'O'], ['0', 'O'], ['m', 'O'], ['l', 'O']]\n",
            "[['【', 'O'], ['洗', 'B-是否净洗'], ['净', 'I-是否净洗'], ['】', 'O'], ['巨', 'O'], ['峰', 'O'], ['葡', 'B-果肉颜色'], ['萄', 'I-果肉颜色'], ['1', 'O'], ['5', 'O'], ['0', 'O'], ['g', 'O'], ['/', 'O'], ['（', 'O'], ['颗', 'O'], ['粒', 'O'], ['）', 'O']]\n",
            "[['一', 'O'], ['次', 'O'], ['性', 'O'], ['果', 'B-其他属性'], ['冻', 'I-其他属性'], ['杯', 'O'], ['漱', 'O'], ['口', 'O'], ['水', 'O'], ['便', 'O'], ['携', 'O'], ['颗', 'O'], ['粒', 'O'], ['酒', 'O'], ['店', 'O'], ['冰', 'O'], ['爽', 'O'], ['薄', 'O'], ['荷', 'O'], ['漱', 'O'], ['口', 'O'], ['水', 'O'], ['1', 'O'], ['3', 'O'], ['m', 'I-厚度'], ['l', 'I-厚度']]\n",
            "[['儿', 'O'], ['童', 'O'], ['泳', 'B-服装/饰品'], ['衣', 'I-服装/饰品'], ['分', 'O'], ['体', 'O'], ['卡', 'O'], ['通', 'O'], ['中', 'B-适用人群'], ['大', 'I-适用人群'], ['童', 'I-适用人群'], ['男', 'I-适用人群'], ['孩', 'I-适用人群'], ['泳', 'B-服装/饰品'], ['衣', 'I-服装/饰品'], ['小', 'B-适用人群'], ['童', 'I-适用人群'], ['防', 'O'], ['晒', 'O'], ['小', 'O'], ['黄', 'O'], ['人', 'O'], ['3', 'O'], ['0', 'O'], ['到', 'O'], ['5', 'O'], ['5', 'O'], ['斤', 'O'], ['可', 'O'], ['穿', 'O']]\n",
            "[['兔', 'B-适用对象'], ['子', 'I-适用对象'], ['耳', 'I-适用对象'], ['朵', 'I-适用对象'], ['会', 'O'], ['动', 'O'], ['帽', 'O'], ['子', 'O'], ['女', 'O'], ['秋', 'B-适用季节'], ['冬', 'I-适用季节'], ['儿', 'B-适用对象'], ['童', 'I-适用对象'], ['围', 'O'], ['巾', 'O'], ['手', 'O'], ['套', 'O'], ['三', 'O'], ['件', 'O'], ['套', 'O'], ['一', 'O'], ['体', 'O'], ['女', 'O'], ['童', 'O'], ['围', 'O'], ['脖', 'O'], ['毛', 'B-面料材质'], ['绒', 'I-面料材质'], ['保', 'O'], ['暖', 'O']]\n",
            "[['八', 'O'], ['喜', 'O'], ['冰', 'B-适用季节'], ['淇', 'I-适用季节'], ['淋', 'I-适用季节'], ['冷', 'I-适用季节'], ['萃', 'O'], ['咖', 'B-香型'], ['啡', 'I-香型'], ['燕', 'B-食品礼盒类型'], ['麦', 'I-食品礼盒类型'], ['7', 'O'], ['5', 'O'], ['g', 'O']]\n",
            "[['冬', 'B-适用季节'], ['天', 'I-适用季节'], ['女', 'B-适用对象'], ['士', 'I-适用对象'], ['手', 'B-部位'], ['套', 'I-部位'], ['加', 'O'], ['厚', 'B-厚度'], ['保', 'B-功能功效'], ['暖', 'I-功能功效'], ['加', 'O'], ['绒', 'B-材质'], ['秋', 'B-适用季节'], ['冬', 'I-适用季节'], ['（', 'O'], ['颜', 'B-颜色'], ['色', 'I-颜色'], ['随', 'I-随机'], ['机', 'I-随机'], ['）', 'O']]\n",
            "250\n",
            "[['君', 'O'], ['乐', 'O'], ['宝', 'O'], ['风', 'O'], ['味', 'O'], ['发', 'O'], ['酵', 'O'], ['乳', 'B-适用空间'], ['芝', 'I-颜色'], ['士', 'I-颜色'], ['味', 'O'], ['（', 'O'], ['箱', 'O'], ['装', 'O'], ['）', 'O']]\n",
            "[['圣', 'O'], ['诞', 'O'], ['节', 'O'], ['圣', 'B-节日'], ['诞', 'I-节日'], ['装', 'O'], ['饰', 'O'], ['窗', 'B-适用空间'], ['饰', 'I-适用空间'], ['窗', 'I-适用空间'], ['贴', 'O'], ['无', 'O'], ['痕', 'O'], ['静', 'O'], ['电', 'O'], ['贴', 'O'], ['（', 'O'], ['圣', 'B-送礼对象'], ['诞', 'I-送礼对象'], ['老', 'I-送礼对象'], ['人', 'I-送礼对象'], ['）', 'O'], ['(', 'O'], ['h', 'O'], ['y', 'O'], ['4', 'O'], ['1', 'O'], [')', 'O']]\n",
            "[['森', 'O'], ['宝', 'B-适用对象'], ['积', 'I-适用对象'], ['木', 'I-适用对象'], ['-', 'O'], ['宝', 'B-适用对象'], ['马', 'I-适用对象'], ['n', 'O'], ['4', 'O'], ['跑', 'O'], ['车', 'O']]\n",
            "[['美', 'O'], ['厨', 'B-适用对象'], ['m', 'I-适用对象'], ['a', 'I-适用对象'], ['x', 'I-适用对象'], ['c', 'I-适用对象'], ['o', 'I-适用对象'], ['o', 'I-适用对象'], ['k', 'I-适用对象'], ['3', 'O'], ['0', 'O'], ['4', 'O'], ['不', 'O'], ['锈', 'B-材质'], ['钢', 'I-材质'], ['蒸', 'B-功能功效'], ['锅', 'I-功能功效'], ['2', 'O'], ['8', 'O'], ['c', 'B-筒高'], ['m', 'I-筒高'], ['三', 'O'], ['层', 'O'], ['复', 'O'], ['底', 'O'], ['燃', 'O'], ['气', 'B-供电方式'], ['电', 'I-供电方式'], ['磁', 'I-供电方式'], ['炉', 'I-供电方式'], ['通', 'O'], ['用', 'O']]\n",
            "[['车', 'O'], ['载', 'O'], ['充', 'B-填充材质'], ['气', 'I-填充材质'], ['泵', 'I-填充材质'], ['1', 'O'], ['2', 'O'], ['v', 'O'], ['电', 'O'], ['动', 'O'], ['轮', 'O'], ['胎', 'O'], ['汽', 'O'], ['车', 'O'], ['小', 'O'], ['轿', 'O'], ['车', 'O'], ['加', 'O'], ['气', 'B-填充材质'], ['泵', 'I-填充材质'], ['打', 'O'], ['气', 'B-填充材质'], ['磅', 'I-填充材质'], ['/', 'O'], ['个', 'O']]\n",
            "[['雀', 'O'], ['', '', 'O'], ['', '', 'O'], ['', '', '冷', 'O'], ['', '', '萃', 'O'], ['', '', 'O'], ['', '', 'O'], ['', '', 'O']]\n",
            "[['雀', 'O'], ['巢', 'O'], ['咖', 'B-商品特色'], ['啡', 'I-商品特色'], [',', 'O'], ['冷', 'O'], ['萃', 'O'], ['美', 'B-酸碱度'], ['式', 'I-酸碱度'], ['风', 'O'], ['味', 'O'], ['浓', 'O'], ['咖', 'B-商品特色'], ['啡', 'I-商品特色'], ['饮', 'O'], ['料', 'O'], ['(', 'O'], ['无', 'O'], ['糖', 'O'], [')', 'O']]\n",
            "[['雨', 'O'], ['衣', 'O'], ['男', 'B-适用人群'], ['女', 'I-适用人群'], ['款', 'O'], ['粉', 'B-颜色'], ['色', 'I-颜色'], ['紫', 'B-颜色'], ['色', 'I-颜色'], ['非', 'O'], ['一', 'O'], ['次', 'O'], ['性', 'O'], ['可', 'O'], ['反', 'O'], ['复', 'O'], ['使', 'O'], ['用', 'O'], ['男', 'B-适用人群'], ['女', 'I-适用人群'], ['通', 'O'], ['用', 'O']]\n",
            "[['香', 'O'], ['槟', 'B-颜色'], ['色', 'I-颜色'], ['系', 'O'], ['向', 'O'], ['日', 'O'], ['葵', 'O']]\n",
            "[['高', 'O'], ['颜', 'O'], ['值', 'O'], ['耳', 'B-适用对象'], ['机', 'I-适用对象'], ['头', 'I-适用对象'], ['戴', 'I-适用对象'], ['式', 'I-适用对象'], ['有', 'O'], ['线', 'O'], ['手', 'O'], ['机', 'O'], ['版', 'O'], ['电', 'O'], ['脑', 'O'], ['听', 'O'], ['歌', 'O'], ['吃', 'O'], ['鸡', 'O'], ['游', 'O'], ['戏', 'O'], ['可', 'O'], ['爱', 'O'], ['男', 'B-适用对象'], ['女', 'I-适用对象'], ['生', 'I-适用对象'], ['高', 'O'], ['音', 'O'], ['质', 'O']]\n",
            "260\n",
            "[['黄', 'O'], ['金', 'O'], ['丰', 'B-产地'], ['田', 'I-产地'], ['蜜', 'B-果肉颜色'], ['瓜', 'I-果肉颜色'], ['果', 'I-果肉颜色'], ['切', 'O'], ['2', 'O'], ['斤', 'O'], ['团', 'O'], ['队', 'O'], ['家', 'O'], ['庭', 'O'], ['装', 'O'], ['-', 'O'], ['约', 'O'], ['1', 'O'], ['0', 'O'], ['0', 'O'], ['0', 'O'], ['g', 'O']]\n",
            "[['（', 'O'], ['火', 'B-厚薄'], ['锅', 'I-厚薄'], ['）', 'O'], ['拉', 'O'], ['面', 'O'], ['2', 'O'], ['0', 'O'], ['0', 'O'], ['g', 'O'], ['（', 'O'], ['圆', 'B-款'], ['条', 'I-款'], ['手', 'B-厚薄'], ['擀', 'I-厚薄'], ['面', 'I-厚薄'], ['）', 'O']]\n",
            "[['(', 'O'], ['纯', 'B-颜色'], ['灰', 'I-颜色'], ['色', 'I-颜色'], [')', 'O'], ['超', 'O'], ['厚', 'B-厚度'], ['棉', 'B-面料材质'], ['被', 'O'], ['单', 'O'], ['人', 'O'], ['加', 'O'], ['厚', 'B-厚度'], ['春', 'B-适用季节'], ['秋', 'I-适用季节'], ['保', 'O'], ['暖', 'O'], ['冬', 'B-适用季节'], ['季', 'I-适用季节'], ['宿', 'O'], ['舍', 'O'], ['8', 'O'], ['斤', 'O'], ['冬', 'B-适用季节'], ['天', 'I-适用季节'], ['双', 'O'], ['人', 'O'], ['被', 'O'], ['子', 'O'], ['羊', 'B-面料材质'], ['羔', 'I-面料材质'], ['绒', 'I-面料材质'], ['冬', 'B-适用季节'], ['被', 'O'], ['1', 'O'], ['5', 'O'], ['0', 'O'], ['.', 'O'], ['*', 'O'], ['2', 'O'], ['0', 'O'], ['0', 'O'], ['c', 'O'], ['m', 'O']]\n",
            "[['1', 'O'], ['1', 'O'], ['只', 'O'], ['高', 'B-端'], ['端', 'I-端'], ['极', 'O'], ['地', 'O'], ['银', 'B-红'], ['红', 'I-红'], ['玫', 'I-红'], ['瑰', 'I-红'], ['花', 'O'], ['束', 'O'], ['七', 'O'], ['夕', 'O'], ['送', 'O'], ['女', 'O'], ['友', 'O'], ['送', 'O'], ['男', 'O'], ['友', 'O'], ['送', 'O'], ['爱', 'O'], ['人', 'O']]\n",
            "[['8', 'O'], ['3', 'O'], ['8', 'O'], ['5', 'O'], ['生', 'B-生鲜'], ['鲜', 'I-生鲜'], ['清', 'B-清真'], ['真', 'I-清真'], ['牛', 'B-牛蹄筋'], ['蹄', 'I-牛蹄筋'], ['筋', 'I-牛蹄筋'], ['酱', 'B-酱香型'], ['香', 'I-酱香型'], ['型', 'I-酱香型'], ['1', 'O'], ['5', 'O'], ['0', 'O'], ['克', 'O']]\n",
            "[['p', 'O'], ['u', 'O'], ['涂', 'O'], ['层', 'O'], ['防', 'O'], ['水', 'O'], ['泳', 'B-衣物'], ['帽', 'I-衣物'], ['男', 'B-适用人群'], ['女', 'I-适用人群'], ['通', 'O'], ['用', 'O'], ['游', 'B-运动项目'], ['泳', 'I-运动项目'], ['帽', 'I-衣物'], ['温', 'O'], ['泉', 'B-适用空间'], ['帽', 'I-衣物'], ['长', 'O'], ['发', 'O'], ['护', 'O'], ['耳', 'O'], ['游', 'B-运动项目'], ['泳', 'B-运动项目'], ['头', 'B-衣物'], ['套', 'I-衣物'], ['游', 'B-运动项目'], ['泳', 'B-运动项目'], ['馆', 'B-适用空间'], ['头', 'I-衣物'], ['帽', 'I-衣物']]\n",
            "[['小', 'O'], ['黑', 'B-颜色'], ['裙', 'I-颜色'], ['美', 'B-商品特色'], ['瞳', 'I-商品特色'], ['隐', 'B-适用对象'], ['形', 'I-适用对象'], ['眼', 'I-适用对象'], ['镜', 'I-适用对象'], ['润', 'B-功能功效'], ['眼', 'I-功能功效'], ['液', 'I-功能功效'], ['1', 'O'], ['0', 'O'], ['m', 'O'], ['l', 'O']]\n",
            "[['【B-功能功效】', '冰【O】', '镇【O】', '】', '元【O】', '气【O】', '森【O】', '林【O】', '无【O】', '糖【I-糖含量】', '草【O】', '莓【O】', '茉【O】', '莉【O】', '乌【O】', '龙【O】', '茶【O】', '饮【O】', '料【O】', '5【O】', '0【O】', '0【O】', 'm【O】', 'l【O】']]\n",
            "[['【', 'O'], ['名', 'O'], ['流', 'O'], ['】', 'O'], ['', '', 'O'], ['1', 'O'], ['0', 'O'], ['只', 'O'], ['装', 'O'], ['超', 'O'], ['薄', 'O'], ['颗', 'O'], ['粒', 'O'], ['螺', 'O'], ['纹', 'O'], ['异', 'O'], ['形', 'O'], ['性', 'O'], ['动', 'O'], ['感', 'O'], ['颗', 'O'], ['粒', 'O'], ['装', 'O'], ['成', 'O'], ['人', 'O'], ['用', 'O'], ['品', 'O']]\n",
            "[['【', 'B-适用人群', 'I-适用人群', 'I-适用人群', 'I-适用人群', 'I-适用人群', 'I-适用人群', 'I-适用人群', 'B-适用空间', 'I-版型', 'I-版型', 'B-面料材质', 'I-形状形态', 'I-长短', 'I-长短', 'I-长度', 'B-外观', 'B-外观', 'B-颜色', 'I-颜色', 'B-组合形式', 'O']]\n",
            "270\n",
            "[['【', 'O'], ['', '', '特', 'O'], ['', '', '享', 'O'], ['', '', '】', 'O'], ['', '', '鲜', 'B-形状形态'], ['', '', '活', 'O'], ['', '', '鲫', 'B-颜色'], ['', '', '鱼', 'I-颜色'], ['', '', '一', 'O'], ['', '', '条', 'O'], ['', '', '约', 'O'], ['', '', '3', 'O'], ['', '', '5', 'O'], ['', '', '0', 'O'], ['', '', 'g', 'O']]\n",
            "[['一', 'O'], ['次', 'O'], ['性', 'O'], ['方', 'B-形状形态'], ['形', 'I-形状形态'], ['烧', 'O'], ['烤', 'O'], ['锡', 'B-外观'], ['纸', 'I-外观'], ['盘', 'O'], ['带', 'O'], ['盖', 'O'], ['2', 'O'], ['g', 'O'], ['／', 'O'], ['个', 'O']]\n",
            "[['今', 'O'], ['麦', 'B-品牌'], ['郎', 'I-品牌'], ['手', 'O'], ['打', 'O'], ['挂', 'O'], ['面', 'O'], ['圆', 'B-形状形态'], ['条', 'I-形状形态'], ['拉', 'O'], ['面', 'O'], ['5', 'O'], ['0', 'O'], ['0', 'O'], ['克', 'O'], ['/', 'O'], ['把', 'O']]\n",
            "[['伊', 'B-品牌'], ['利', 'I-品牌'], ['香', 'I-品牌'], ['雪', 'I-品牌'], ['儿', 'I-品牌'], ['牛', 'B-产品名称'], ['奶', 'I-产品名称'], ['巧', 'I-产品名称'], ['克', 'I-产品名称'], ['力', 'I-产品名称'], ['雪', 'I-产品名称'], ['糕', 'I-产品名称'], ['（', 'O'], ['清', 'B-制式'], ['真', 'I-制式'], ['）', 'O']]\n",
            "[['南', 'B-品牌'], ['', '', '孚', 'I-品牌'], ['', '', '汽', 'O'], ['', '', '车', 'O'], ['', '', '遥', 'O'], ['', '', '控', 'O'], ['', '', '丰', 'B-品牌'], ['', '', '田', 'I-品牌'], ['', '', '比', 'B-品牌'], ['', '', '亚', 'I-品牌'], ['', '', '迪', 'I-品牌'], ['', '', 'c', 'O'], ['', '', 'r', 'O'], ['', '', '1', 'O'], ['', '', '6', 'O'], ['', '', '3', 'O'], ['', '', '2', 'O'], ['', '', '电', 'B-其他属性'], ['', '', '池', 'I-其他属性'], ['', '', '电', 'O'], ['', '', '子', 'O'], ['', '', '纽', 'O'], ['', '', '扣', 'O'], ['', '', '电', 'B-其他属性'], ['', '', '池', 'I-其他属性'], ['', '', '3', 'O'], ['', '', 'v', 'O'], ['', '', '锂', 'B-电池'], ['', '', '电', 'I-电池'], ['', '', '池', 'I-电池']]\n",
            "[['合', 'O'], ['金', 'O'], ['车', 'O'], ['模', 'O'], ['型', 'O'], ['宝', 'B-送礼对象'], ['马', 'I-送礼对象'], ['5', 'O'], ['系', 'O'], ['玩', 'O'], ['具', 'O'], ['六', 'O'], ['一', 'B-节日'], ['儿', 'I-节日'], ['童', 'I-节日'], ['节', 'I-节日'], ['礼', 'O'], ['物', 'O']]\n",
            "[['合', 'O'], ['金', 'O'], ['车', 'O'], ['模', 'O'], ['宝', 'O'], ['马', 'O'], ['z', 'O'], ['4', 'B-大小'], ['m', 'I-大小'], ['4', 'I-大小'], ['0', 'I-大小'], ['i', 'I-大小'], ['1', 'I-大小'], ['个', 'O']]\n",
            "[['后', 'O'], ['备', 'O'], ['箱', 'O'], ['惊', 'B-礼物'], ['喜', 'I-礼物'], ['布', 'B-布置'], ['置', 'I-布置'], ['求', 'O'], ['婚', 'O'], ['生', 'O'], ['日', 'O'], ['惊', 'B-礼物'], ['喜', 'I-礼物'], ['礼', 'B-物'], ['物', 'I-物'], ['s', 'O'], ['u', 'O'], ['v', 'O'], ['轿', 'O'], ['车', 'O'], ['后', 'O'], ['备', 'O'], ['箱', 'O'], ['纪', 'O'], ['念', 'O'], ['日', 'O'], ['全', 'O'], ['城', 'O'], ['可', 'O'], ['上', 'O'], ['门', 'O'], ['布', 'B-布置'], ['置', 'I-布置'], ['提', 'O'], ['前', 'O'], ['问', 'O']]\n",
            "[['张', 'B-品牌'], ['裕', 'I-品牌'], ['特', 'B-适用场景'], ['种', 'I-适用场景'], ['金', 'I-适用场景'], ['奖', 'I-适用场景'], ['白', 'B-颜色'], ['兰', 'I-颜色'], ['地', 'I-颜色'], ['4', 'I-厚薄'], ['0', 'I-厚薄'], ['%', 'O'], ['7', 'O'], ['5', 'O'], ['0', 'O'], ['m', 'O'], ['l', 'O']]\n",
            "[['曾', 'O'], ['阿', 'B-适用对象'], ['牛', 'I-适用对象'], ['手', 'O'], ['工', 'O'], ['红', 'B-颜色'], ['薯', 'I-颜色'], ['粉', 'B-面料材质'], ['条', 'O'], ['5', 'O'], ['0', 'O'], ['0', 'O'], ['g', 'O'], ['（', 'O'], ['细', 'B-厚度'], ['粉', 'O'], ['）', 'O']]\n",
            "280\n",
            "[['欧', 'B-品质等级'], ['莱', 'I-品质等级'], ['雅', 'I-品质等级'], ['男', 'I-品质等级'], ['士', 'I-品质等级'], ['火', 'O'], ['山', 'O'], ['岩', 'O'], ['清', 'O'], ['痘', 'O'], ['平', 'O'], ['衡', 'O'], ['露', 'O'], ['5', 'O'], ['0', 'O'], ['m', 'O'], ['l', 'O'], ['/', 'O'], ['盒', 'O']]\n",
            "[['法', 'O'], ['优', 'O'], ['乐', 'O'], ['风', 'O'], ['味', 'O'], ['酸', 'B-果肉颜色'], ['奶', 'I-果肉颜色'], ['8', 'O'], ['5', 'O'], ['克', 'O'], ['*', 'O'], ['4', 'O'], ['袋', 'O']]\n",
            "[['港', 'B-产地'], ['式', 'I-产地'], ['三', 'B-数量'], ['脚', 'I-数量'], ['架', 'I-数量'], ['花', 'B-商品特色'], ['篮', 'I-商品特色'], ['(', '', '', '('], ['一', 'B-数量'], ['对', 'I-数量'], [')', '', '', ')']]\n",
            "[['维', 'B-国产/进口'], ['吉', 'I-国产/进口'], ['利', 'I-国产/进口'], ['亚', 'I-国产/进口'], ['俄', 'B-产地'], ['式', 'I-产地'], ['夸', 'B-酸碱度'], ['克', 'I-酸碱度'], ['酸', 'I-酸碱度'], ['奶', 'O'], ['冰', 'O'], ['淇', 'O'], ['淋', 'O']]\n",
            "[['胶', 'O'], ['囊', 'O'], ['果', 'B-果肉颜色'], ['汁', 'I-果肉颜色'], ['猕', 'B-果肉颜色'], ['猴', 'I-果肉颜色'], ['桃', 'I-果肉颜色'], ['味', 'O']]\n",
            "[['萌', 'O'], ['粘', 'B-其他属性'], ['钩', 'I-其他属性'], ['四', 'O'], ['连', 'O'], ['萝', 'O'], ['卜', 'O'], ['兔', 'O'], ['子', 'O'], ['粘', 'B-其他属性'], ['钩', 'I-其他属性'], ['称', 'O'], ['重', 'O'], ['两', 'O'], ['千', 'O'], ['克', 'O']]\n",
            "[['陶', 'B-材质'], ['瓷', 'I-材质'], ['汤', 'O'], ['盆', 'O'], ['大', 'O'], ['号', 'O'], ['带', 'O'], ['盖', 'O']]\n",
            "[['（', 'O'], ['透', 'B-面料材质'], ['明', 'I-面料材质'], ['镜', 'I-面料材质'], ['片', 'I-面料材质'], ['）', 'O'], ['头', 'B-外观'], ['盔', 'I-外观'], ['电', 'O'], ['动', 'O'], ['车', 'O'], ['哈', 'B-型号'], ['雷', 'I-型号'], ['夏', 'I-型号'], ['盔', 'B-外观'], ['男', 'B-适用人群'], ['女', 'I-适用人群'], ['通', 'O'], ['用', 'O'], ['四', 'B-适用季节'], ['季', 'I-适用季节'], ['摩', 'O'], ['托', 'O'], ['骑', 'O'], ['行', 'O'], ['半', 'B-适用空间'], ['盔', 'I-适用空间'], ['安', 'B-功能功效'], ['全', 'I-功能功效'], ['帽', 'I-功能功效'], ['透', 'B-面料材质'], ['气', 'I-面料材质'], ['轻', 'I-厚薄'], ['便', 'I-厚薄'], ['式', 'O']]\n",
            "[['4', 'B-长短'], ['4', 'I-长短'], ['3', 'B-袖型'], ['2', 'O'], ['9', 'O'], ['8', 'O'], ['丝', 'B-面料材质'], ['光', 'I-面料材质'], ['棉', 'I-面料材质'], ['灯', 'O'], ['笼', 'O'], ['袖', 'B-袖型'], ['喇', 'I-袖型'], ['叭', 'I-袖型'], ['连', 'O'], ['衣', 'O'], ['裙', 'O'], ['(', 'O'], ['七', 'O'], ['分', 'O'], ['袖', 'B-袖型'], ['初', 'O'], ['秋', 'O'], [')', 'O'], ['浅', 'O'], ['灰', 'B-颜色'], ['色', 'I-颜色'], ['1', 'O'], ['6', 'O'], ['0', 'O'], ['/', 'O'], ['8', 'O'], ['8', 'O'], ['a', 'O'], ['/', 'O'], ['l', 'O']]\n",
            "[['【', 'B-适用对象】【', 'I-适用对象】【', 'I-适用对象】', 'B-适用对象】【', 'I-适用对象】B-适用对象】', 'B-适用对象】', 'B-适用对象】', 'B-适用对象】', 'B-适用对象】', 'B-适用对象】', 'B-适用对象】', 'B-适用对象】', 'B-适用对象】', 'B-适用对象】']]\n",
            "290\n",
            "[['【', 'B-厚度】【', 'I-厚度】【', 'B-适用季节】【', 'I-适用季节】【', 'B-厚度】【', 'I-厚度】【', 'I-厚度】【', 'O】【', 'B-适用季节】【', 'I-适用季节】【', 'I-适用季节】【', 'I-适用季节】【', 'B-适用对象】【', 'I-适用对象】【', 'O】【', 'B-商品特色】【', 'I-商品特色】【', 'I-商品特色】【', 'O】【', 'B-形状形态】【', 'O】【', 'B-礼盒类型】【', 'I-礼盒类型】【', 'O】【', 'B-其他属性】【', 'O】【', 'O】【', 'B-功能功效】【', 'O】【', 'B-功能功效】【', 'I-功能功效】【', 'O】【', 'B-功能功效】【', 'I-功能功效】【', 'O】【', 'B-功能功效】【', 'O】【', 'B-赠品】【', 'O】【', 'B-服装鞋类】【', 'O】【', 'O】【', 'O】【', 'O】【', 'B-赠品】【', 'I-赠品】【', 'O】【', 'B-节日】【', 'O】【', 'B-节日】【', 'O】【', 'B-适用对象】【', 'I-适用对象】【', 'O】【', 'B-适用对象】【', 'I-适用对象】【', 'B-适用对象】【', 'O】【', 'B-适用对象】【', 'O】【', 'B-适用对象】【', 'O】【', 'B-节日】【', 'O】【', 'B-适用对象】【', 'I-适用对象】【', 'O】【', 'B-节日】【', 'O】【', 'B-适用对象】【', 'O】【', 'B-适用对象】【', 'I-适用对象】【', 'I-适用对象】【', 'B-节日】【', 'I-节日】【', 'I-节日】【', 'I-节日】【', 'I-节日】【', 'I-节日】【', 'B-节日】【', 'I-节日】【', 'I-节日】【', 'O】']]\n",
            "[['【', 'O'], ['永', 'O'], ['恒', 'O'], ['的', 'O'], ['爱', 'O'], ['】', 'O'], ['', '', 'O'], ['9', 'B-数字'], ['9', 'I-数字'], ['朵', 'O'], ['红', 'B-颜色'], ['玫', 'I-颜色'], ['瑰', 'I-颜色'], ['网', 'O'], ['红', 'B-颜色'], ['小', 'O'], ['黑', 'B-颜色'], ['裙', 'O'], ['鲜', 'B-产品特色'], ['花', 'I-产品特色'], ['送', 'O'], ['爱', 'O'], ['人', 'O'], ['女', 'O'], ['友', 'O'], ['表', 'O'], ['白', 'O'], ['求', 'O'], ['婚', 'O']]\n",
            "[['【', 'B-商品特色', 'O', 'O', 'O', 'O', 'B-商品特色', 'O', 'B-商品特色', 'O', 'O', 'O', 'O', 'O', 'O', 'B-礼盒类型', 'I-商品特色', 'B-礼盒类型', 'O', 'O', 'O', 'B-商品特色', 'O', 'O', 'O', 'B-商品特色', 'O', 'O', 'O', 'O', 'I-礼盒类型', 'O】']]\n",
            "[['乐', 'O'], ['美', 'B-适用对象'], ['儿', 'I-适用对象'], ['巴', 'I-适用对象'], ['比', 'I-适用对象'], ['洋', 'I-适用对象'], ['娃', 'I-适用对象'], ['娃', 'I-适用对象'], ['女', 'I-适用对象'], ['孩', 'I-适用对象'], ['玩', 'O'], ['偶', 'O'], ['爱', 'O'], ['莎', 'O'], ['套', 'O'], ['装', 'O'], ['玩', 'O'], ['具', 'O'], ['冰', 'O'], ['微', 'O'], ['公', 'O'], ['主', 'O'], ['芭', 'B-适用对象'], ['比', 'I-适用对象'], ['娃', 'I-适用对象'], ['娃', 'I-适用对象'], ['5', 'O'], ['4', 'O'], ['c', 'O'], ['m', 'O'], ['1', 'O'], ['2', 'O'], ['5', 'O'], ['-', 'O'], ['4', 'O'], ['8', 'O'], ['一', 'O'], ['个', 'O']]\n",
            "[['台', 'B-产地'], ['湾', 'I-产地'], ['皇', 'O'], ['族', 'O'], ['和', 'O'], ['风', 'O'], ['芝', 'O'], ['麻', 'O'], ['麻', 'O'], ['薯', 'O'], ['1', 'O'], ['5', 'O'], ['2', 'O'], ['克', 'O']]\n",
            "[['天', 'O'], ['阳', 'O'], ['火', 'O'], ['锅', 'O'], ['鲜', 'B-外观'], ['粉', 'B-组合形式'], ['（', 'O'], ['细', 'B-厚度'], ['粉', 'I-厚度'], ['）', 'O'], ['2', 'O'], ['0', 'O'], ['0', 'O'], ['g', 'O'], ['/', 'O'], ['袋', 'O']]\n",
            "[['宠', 'O'], ['物', 'O'], ['冰', 'B-适用空间'], ['垫', 'I-适用空间'], ['夏', 'B-适用季节'], ['天', 'I-适用季节'], ['狗', 'B-适用对象'], ['狗', 'I-适用对象'], ['垫', 'I-适用对象'], ['子', 'I-适用对象'], ['降', 'O'], ['温', 'O'], ['凉', 'O'], ['垫', 'O'], ['泰', 'B-适用对象'], ['迪', 'I-适用对象'], ['狗', 'B-适用对象'], ['窝', 'I-适用对象'], ['耐', 'B-功能功效'], ['咬', 'I-功能功效'], ['猫', 'B-适用对象'], ['咪', 'I-适用对象'], ['凉', 'B-适用季节'], ['席', 'I-适用季节'], ['夏', 'B-适用季节'], ['季', 'I-适用季节'], ['睡', 'O'], ['垫', 'O'], ['法', 'B-适用对象'], ['斗', 'I-适用对象']]\n",
            "[['当', 'O'], ['天', 'B-适用空间'], ['空', 'I-适用空间'], ['运', 'O'], ['新', 'O'], ['鲜', 'O'], ['金', 'O'], ['枕', 'O'], ['榴', 'O'], ['莲', 'O'], ['整', 'O'], ['果', 'B-果肉颜色'], ['约', 'O'], ['2', 'O'], ['k', 'O'], ['g', 'O'], ['/', 'O'], ['份', 'O'], ['(', 'O'], ['自', 'O'], ['然', 'O'], ['成', 'O'], ['熟', 'O'], ['/', 'O'], ['果', 'B-果肉颜色'], ['肉', 'I-果肉颜色'], ['香', 'O'], ['甜', 'O'], [')', 'O']]\n",
            "[['摩', 'B-品牌'], ['可', 'I-品牌'], ['纳', 'I-品牌'], ['5', 'B-型号'], ['号', 'I-型号'], ['冷', 'B-版本形态'], ['萃', 'I-版本形态'], ['冻', 'B-功能功效'], ['干', 'I-功能功效'], ['咖', 'B-功能功效'], ['啡', 'I-功能功效'], ['3', 'B-大小'], ['3', 'I-大小'], ['.', 'O'], ['6', 'O'], ['g', 'O'], ['/', 'O'], ['盒', 'O'], ['保', 'B-礼盒类型'], ['质', 'I-礼盒类型'], ['期', 'I-礼盒类型'], ['至', 'O'], ['2', 'B-长短'], ['0', 'I-长短'], ['2', 'I-长短'], ['2', 'I-长短'], ['年', 'O'], ['5', 'O'], ['月', 'O'], ['1', 'O'], ['6', 'O'], ['日', 'O'], ['）', 'O']]\n",
            "[['新', 'O'], ['年', 'O'], ['礼', 'B-礼盒类型'], ['盒', 'I-礼盒类型'], ['兔', 'O'], ['子', 'O'], ['加', 'O'], ['湿', 'O'], ['器', 'O'], ['迷', 'O'], ['你', 'O'], ['家', 'O'], ['用', 'O'], ['可', 'O'], ['爱', 'O'], ['小', 'O'], ['夜', 'O'], ['灯', 'O'], ['空', 'O'], ['气', 'O'], ['净', 'O'], ['化', 'O'], ['香', 'O'], ['薰', 'O'], ['机', 'O'], ['礼', 'O'], ['物', 'O']]\n",
            "300\n",
            "[['方', 'O'], ['正', 'O'], ['有', 'O'], ['线', 'O'], ['u', 'I-接口'], ['s', 'I-接口'], ['b', 'I-接口'], ['桌', 'O'], ['面', 'O'], ['音', 'O'], ['响', 'O'], ['电', 'O'], ['脑', 'O'], ['音', 'O'], ['箱', 'O'], ['f', 'O'], ['8', 'O'], ['2', 'O']]\n",
            "[['无', 'O'], ['', '', '敌', 'O'], ['', '', '宝', 'B-汽车'], ['', '', '马', 'I-汽车'], ['', '', '汽', 'I-汽车'], ['', '', '车', 'I-汽车'], ['', '', '电', 'B-动'], ['', '', '动', 'I-动'], ['', '', '车', 'I-动'], ['', '', '打', 'O'], ['', '', '气', 'O'], ['', '', '筒', 'O'], ['', '', '气', 'O'], ['', '', '管', 'O'], ['', '', '子', 'O'], ['', '', '-', 'O'], ['', '', '1', 'O'], ['', '', '4', 'O'], ['', '', '7', 'O'], ['', '', '8', 'O'], ['', '', '2', 'O'], ['', '', '6', 'O']]\n",
            "[['望', 'O'], ['乡', 'O'], ['长', 'O'], ['寿', 'O'], ['挂', 'O'], ['面', 'B-商品特色'], ['圆', 'I-商品特色'], ['条', 'I-商品特色'], ['1', 'O'], ['0', 'O'], ['0', 'O'], ['0', 'O'], ['克', 'O']]\n",
            "[['杯', 'O'], ['具', 'O'], ['熊', 'B-适用对象'], ['儿', 'I-适用对象'], ['童', 'I-适用对象'], ['水', 'O'], ['杯', 'O'], ['冷', 'B-功能功效'], ['萃', 'I-功能功效'], ['杯', 'O'], ['子', 'O'], ['蜜', 'B-赠品'], ['蜂', 'I-赠品'], ['吸', 'I-赠品'], ['管', 'I-赠品'], ['水', 'O'], ['杯', 'O'], ['5', 'O'], ['5', 'O'], ['0', 'O'], ['m', 'O'], ['l', 'O'], ['/', 'O'], ['个', 'O']]\n",
            "[['清', 'O'], ['真', 'O'], ['伊', 'B-适用对象'], ['斯', 'I-适用对象'], ['伯', 'I-适用对象'], ['尔', 'I-适用对象'], ['牛', 'O'], ['肉', 'B-适用对象'], ['卷', 'O'], ['牛', 'O'], ['肉', 'O'], ['涮', 'O'], ['片', 'O'], ['3', 'O'], ['5', 'O'], ['0', 'O'], ['g', 'O'], ['/', 'O'], ['盒', 'O']]\n",
            "[['焙', 'O'], ['乐', 'O'], ['港', 'B-式'], ['式', 'I-适用对象'], ['椰', 'B-外观'], ['香', 'I-外观'], ['排', 'B-形状形态'], ['包', 'I-形状形态'], ['香', 'O'], ['芋', 'B-口味'], ['口', 'I-味'], ['味', 'I-味'], ['1', 'O'], ['1', 'O'], ['8', 'O'], ['g', 'O'], ['包', 'O']]\n",
            "[['煤', 'O'], ['油', 'O'], ['打', 'O'], ['火', 'O'], ['机', 'O'], ['关', 'O'], ['公', 'O'], ['创', 'O'], ['意', 'O'], ['个', 'O'], ['性', 'O'], ['老', 'O'], ['式', 'O'], ['打', 'O'], ['火', 'O'], ['机', 'O']]\n",
            "[['爆', 'O'], ['摇', 'O'], ['咖', 'B-适用对象'], ['啡', 'I-适用对象'], ['冷', 'O'], ['萃', 'O'], ['拿', 'O'], ['铁', 'O']]\n",
            "[['玉', 'O'], ['丽', 'O'], ['男', 'B-适用人群'], ['士', 'I-适用人群'], ['专', 'O'], ['用', 'O'], ['牙', 'B-功能功效'], ['刷', 'I-功能功效']]\n",
            "[['益', 'B-品牌'], ['达', 'I-品牌'], ['无', 'O'], ['糖', 'O'], ['口', 'O'], ['香', 'O'], ['糖', 'O'], ['(', 'O'], ['西', 'B-口味'], ['瓜', 'I-口味'], ['味', 'I-口味'], [')', 'O'], ['1', 'O'], ['2', 'O'], ['片', 'O'], ['3', 'O'], ['2', 'O'], ['g', 'O']]\n",
            "310\n",
            "[['私', 'O'], ['密', 'O'], ['小', 'O'], ['物', 'O'], ['粉', 'B-颜色'], ['色', 'I-颜色'], ['白', 'B-颜色'], ['色', 'I-颜色'], ['撩', 'O'], ['人', 'O'], ['兔', 'O'], ['子', 'O'], ['尾', 'O'], ['巴', 'O'], ['金', 'B-颜色'], ['属', 'I-颜色'], ['肛', 'O'], ['塞', 'O']]\n",
            "[['薯', 'O'], ['之', 'O'], ['梦', 'O'], ['马', 'O'], ['铃', 'O'], ['薯', 'O'], ['鲜', 'O'], ['(', 'O'], ['韭', 'B-适用空间'], ['叶', 'I-适用空间'], ['粉', 'I-适用空间'], ['，', 'O'], ['大', 'O'], ['宽', 'O'], ['，', 'O'], ['细', 'O'], ['粉', 'O'], ['2', 'O'], ['8', 'O'], ['0', 'O'], ['g', 'O'], ['/', 'O'], ['袋', 'O']]\n",
            "[['迈', 'O'], ['舒', 'B-品牌'], ['豪', 'I-品牌'], ['c', 'O'], ['2', 'O'], ['2', 'O'], ['0', 'O'], ['3', 'O'], ['.', 'O'], ['5', 'O'], ['有', 'O'], ['线', 'O'], ['耳', 'O'], ['机', 'O'], ['半', 'O'], ['入', 'O'], ['耳', 'O'], ['式', 'O'], ['高', 'O'], ['音', 'O'], ['质', 'O'], ['适', 'O'], ['用', 'O'], ['圆', 'O'], ['孔', 'O'], ['电', 'O'], ['脑', 'O'], ['耳', 'O'], ['机', 'O'], ['通', 'O'], ['用', 'O'], ['线', 'O'], ['控', 'O'], ['带', 'O'], ['调', 'O'], ['音', 'O']]\n",
            "[['飞', 'O'], ['天', 'O'], ['羊', 'O'], ['清', 'O'], ['真', 'O'], ['御', 'O'], ['厨', 'O'], ['水', 'O'], ['饺', 'O'], ['牛', 'B-肉'], ['肉', 'I-肉'], ['香', 'O'], ['葱', 'O'], ['4', 'O'], ['5', 'O'], ['0', 'O'], ['克', 'O'], ['/', 'O'], ['袋', 'O']]\n",
            "[['（', 'O'], ['1', 'O'], ['粒', 'O'], ['）', 'O'], ['松', 'B-产地'], ['下', 'I-产地'], ['3', 'O'], ['v', 'O'], ['纽', 'O'], ['扣', 'O'], ['电', 'O'], ['池', 'O'], ['适', 'O'], ['用', 'O'], ['部', 'O'], ['分', 'O'], ['宝', 'B-适用对象'], ['马', 'I-适用对象'], ['汽', 'O'], ['车', 'O'], ['钥', 'B-防水等级'], ['匙', 'I-防水等级'], ['遥', 'I-防水等级'], ['控', 'I-防水等级'], ['器', 'I-防水等级'], ['/', 'O'], ['粒', 'O'], ['c', 'O'], ['r', 'O'], ['2', 'O'], ['4', 'O'], ['5', 'O'], ['0', 'O']]\n",
            "[['（', 'O'], ['国', 'B-产地'], ['内', 'I-产地'], ['首', 'O'], ['款', 'O'], ['可', 'O'], ['以', 'O'], ['喝', 'O'], ['的', 'O'], ['猫', 'B-适用对象'], ['草', 'I-适用对象'], [')', 'O'], ['尾', 'O'], ['巴', 'O'], ['生', 'O'], ['活', 'O'], ['n', 'O'], ['f', 'O'], ['c', 'O'], ['冷', 'O'], ['萃', 'O'], ['液', 'O'], ['体', 'O'], ['猫', 'B-适用对象'], ['草', 'I-适用对象'], ['2', 'O'], ['0', 'O'], ['0', 'O'], ['m', 'I-适用对象'], ['l', 'I-适用对象'], ['×', 'O'], ['1', 'O'], ['0', 'O']]\n",
            "[['（', 'O'], ['', '', '特', 'O'], ['', '', '享', 'O'], ['', '', '）', 'O'], ['', '', '有', 'O'], ['', '', '机', 'B-是否有机'], ['', '', '土', 'I-是否有机'], ['', '', '豆', 'I-是否有机'], ['', '', '一', 'O'], ['', '', '个', 'O']]\n",
            "[['5', 'O'], ['5', 'O'], ['0', 'O'], ['m', 'O'], ['l', 'O'], ['康', 'B-品牌'], ['师', 'I-品牌'], ['傅', 'I-品牌'], ['劲', 'B-口感'], ['凉', 'I-口感'], ['冰', 'I-口感'], ['红', 'B-口感'], ['茶', 'I-口感'], ['。', 'O']]\n",
            "[['【', 'B-适用对象】', ''], ['', '', '', '【', 'I-适用对象】', ''], ['', '', '', '【', 'O】', ''], ['', '', '', '【', 'O】', ''], ['', '', '', '【', 'O】', ''], ['', '', '', '【', 'O】', ''], ['', '', '', '【', 'O】', ''], ['', '', '', '【', 'O】', ''], ['', '', '', '【', 'B-功能功效】', ''], ['', '', '', '【', 'O】', ''], ['', '', '', '【', 'B-适用季节】', ''], ['', '', '', '【', 'I-适用季节】', ''], ['', '', '', '【', 'O】', ''], ['', '', '', '【', 'B-品质等级】', ''], ['', '', '', '【', 'O】', ''], ['', '', '', '【', 'O】', ''], ['', '', '', '【', 'O】', ''], ['', '', '', '【', 'O】', ''], ['', '', '', '【', 'O】', ''], ['', '', '', '【', 'O】', ''], ['', '', '', '【', 'O】', ''], ['', '', '', '【', 'O】', ''], ['', '', '', '【', 'O】', ''], ['', '', '', '【', 'O】', ''], ['', '', '', '【', 'O】', ''], ['', '', '', '【', 'O】', ''], ['', '', '', '【', 'O】', ''], ['', '', '', '【', 'O】', ''], ['', '', '', '【', 'O】']]\n",
            "[['【', 'O'], ['私', 'O'], ['人', 'O'], ['订', 'O'], ['制', 'O'], ['】', 'O'], ['入', 'O'], ['冬', 'O'], ['四', 'O'], ['件', 'O'], ['套', 'O'], ['鲜', 'B-鞋垫材质'], ['花', 'I-鞋垫材质'], ['礼', 'O'], ['盒', 'O'], ['1', 'O'], ['盒', 'O'], ['红', 'B-薯'], ['薯', 'I-薯'], ['板', 'I-薯'], ['栗', 'I-薯'], ['奶', 'O'], ['茶', 'O'], ['雪', 'B-垫'], ['花', 'I-垫'], ['山', 'I-垫'], ['楂', 'B-进口']]\n",
            "320\n",
            "[['南', 'O'], ['孚', 'B-品牌'], ['c', 'O'], ['r', 'O'], ['1', 'O'], ['6', 'O'], ['1', 'O'], ['6', 'O'], ['纽', 'B-颜色'], ['扣', 'I-颜色'], ['电', 'O'], ['池', 'B-配件类型'], ['3', 'O'], ['v', 'O'], ['电', 'O'], ['子', 'O'], ['别', 'B-品牌'], ['克', 'I-品牌'], ['本', 'B-产地'], ['田', 'I-产地'], ['汽', 'O'], ['车', 'O'], ['钥', 'B-配件类型'], ['匙', 'I-配件类型'], ['遥', 'O'], ['控', 'O'], ['器', 'O'], ['扣', 'O'], ['式', 'O'], ['锂', 'B-面料材质'], ['电', 'O'], ['池', 'I-配件类型']]\n",
            "[['土', 'B-商品特色'], ['豆', 'I-商品特色'], ['粉', 'I-商品特色'], ['细', 'I-商品特色'], ['粉', 'I-商品特色'], ['约', 'O'], ['5', 'O'], ['0', 'O'], ['0', 'O'], ['g', 'O'], ['/', 'O'], ['份', 'O']]\n",
            "[['塞', 'B-产地'], ['拉', 'I-产地'], ['姆', 'I-产地'], ['清', 'O'], ['真', 'O'], ['牛', 'B-产品'], ['肉', 'I-产品'], ['饺', 'I-产品'], ['子', 'I-产品']]\n",
            "[['天', 'O'], ['莱', 'B-香'], ['香', 'I-香'], ['牛', 'B-清真'], ['清', 'I-清真'], ['真', 'I-清真'], ['有', 'O'], ['机', 'O'], ['原', 'O'], ['切', 'O'], ['牛', 'B-肉'], ['肉', 'I-肉'], ['3', '0', '0', 'O'], ['g', 'O']]\n",
            "[['奥', 'O'], ['特', 'O'], ['曼', 'O'], ['硬', 'O'], ['壳', 'O'], ['笔', 'O'], ['袋', 'O'], ['/', 'O'], ['个', 'O']]\n",
            "[['好', 'O'], ['步', 'O'], ['佳', 'O'], ['宝', 'O'], ['马', 'O'], ['拖', 'B-鞋垫材质'], ['鞋', 'I-鞋垫材质'], ['灰', 'B-颜色'], ['色', 'I-颜色'], ['室', 'O'], ['内', 'O'], ['防', 'O'], ['滑', 'O'], ['4', 'O'], ['1', 'O'], ['-', 'O'], ['4', 'O'], ['4', 'O']]\n",
            "[['小', 'O'], ['猪', 'B-适用人群'], ['佩', 'I-适用人群'], ['奇', 'I-适用人群'], ['可', 'O'], ['爱', 'O'], ['的', 'O'], ['儿', 'B-适用人群'], ['童', 'I-适用人群'], ['乐', 'I-适用人群'], ['园', 'I-适用人群'], ['风', 'O'], ['车', 'O'], ['秋', 'O'], ['千', 'O'], ['场', 'O'], ['景', 'O'], ['玩', 'O'], ['具', 'O']]\n",
            "[['小', 'B-其他属性'], ['米', 'I-其他属性'], ['米', 'I-其他属性'], ['家', 'O'], ['车', 'O'], ['载', 'O'], ['充', 'B-功能功效'], ['气', 'I-功能功效'], ['泵', 'I-功能功效'], ['1', 'O'], ['s', 'O'], ['充', 'B-适用人群'], ['气', 'I-适用人群'], ['宝', 'I-适用人群'], ['小', 'O'], ['轿', 'B-车型'], ['车', 'I-车型'], ['自', 'O'], ['行', 'O'], ['车', 'O'], ['便', 'O'], ['携', 'O'], ['式', 'O'], ['无', 'B-压力单位'], ['线', 'O'], ['高', 'B-压力单位'], ['压', 'I-压力单位'], ['打', 'B-功能功效'], ['气', 'I-功能功效'], ['泵', 'I-功能功效']]\n",
            "[['得', 'O'], ['乐', 'O'], ['宠', 'O'], ['物', 'O'], ['奶', 'B-其他属性'], ['瓶', 'I-其他属性'], ['套', 'I-其他属性'], ['装', 'I-其他属性'], ['新', 'O'], ['生', 'O'], ['奶', 'B-适用对象'], ['狗', 'I-适用对象'], ['幼', 'I-适用对象'], ['猫', 'I-适用对象'], ['兔', 'I-适用对象'], ['子', 'I-适用对象'], ['耐', 'O'], ['咬', 'O'], ['喂', 'O'], ['奶', 'O'], ['器', 'O'], ['8', 'O'], ['0', 'O'], ['m', 'O'], ['l', 'O'], ['犬', 'B-适用'], ['猫', 'I-适用']]\n",
            "[['文', 'O'], ['化', 'O'], ['衫', 'O'], ['白', 'B-颜色'], ['色', 'I-颜色'], ['s', 'B-大小'], ['码', 'I-大小'], ['男', 'B-适用人群'], ['女', 'I-适用人群'], ['通', 'O'], ['用', 'O'], ['纯', 'B-面料材质'], ['棉', 'I-面料材质'], ['圆', 'B-领型'], ['领', 'I-领型'], ['短', 'B-袖长'], ['袖', 'I-袖长'], ['不', 'O'], ['透', 'O'], ['t', 'B-其他属性'], ['恤', 'I-其他属性'], ['衫', 'O'], ['街', 'O'], ['头', 'O'], ['男', 'B-适用人群'], ['装', 'I-适用人群'], ['女', 'I-适用人群'], ['装', 'I-适用人群'], ['t', 'O'], ['-', 'O'], ['s', 'O'], ['h', 'O'], ['i', 'O'], ['r', 'O'], ['t', 'O'], ['/', 'O'], ['件', 'O']]\n",
            "330\n",
            "[['清', 'O'], ['真', 'O'], ['金', 'O'], ['锣', 'O'], ['1', 'O'], ['2', 'O'], ['0', 'O'], ['克', 'O'], ['麻', 'B-厚薄'], ['辣', 'I-厚薄'], ['脆', 'B-口感'], ['脆', 'I-口感'], ['肠', 'O']]\n",
            "[['牦', 'B-面料材质'], ['牛', 'I-面料材质'], ['绒', 'I-面料材质'], ['混', 'I-面料材质'], ['羊', 'I-面料材质'], ['毛', 'I-面料材质'], ['圆', 'O'], ['领', 'O'], ['毛', 'O'], ['衣', 'O'], ['-', 'O'], ['深', 'O'], ['咖', 'B-外观'], ['啡', 'I-外观'], ['棕', 'I-外观'], ['色', 'I-外观'], ['-', 'O'], ['男', 'B-适用人群'], ['式', 'I-适用人群'], ['m', 'O']]\n",
            "[['王', 'O'], ['子', 'O'], ['巧', 'O'], ['克', 'O'], ['力', 'O'], ['颗', 'O'], ['粒', 'O'], ['8', 'O'], ['5', 'O'], ['g', 'O']]\n",
            "[['立', 'O'], ['顿', 'B-品牌'], ['港', 'B-风味'], ['式', 'I-风味'], ['鸳', 'B-名称'], ['鸯', 'I-名称'], ['奶', 'B-主料'], ['茶', 'I-主料'], ['固', 'O'], ['体', 'O'], ['饮', 'O'], ['料', 'O'], ['单', 'O'], ['条', 'O'], ['1', 'O'], ['7', 'O'], ['.', 'O'], ['5', 'O'], ['g', 'O'], ['/', 'O'], ['条', 'O']]\n",
            "[['罗', 'O'], ['技', 'O'], ['有', 'O'], ['线', 'O'], ['鼠', 'B-标'], ['标', 'I-标'], ['即', 'O'], ['插', 'O'], ['即', 'O'], ['用', 'O'], ['笔', 'O'], ['记', 'O'], ['本', 'O'], ['电', 'O'], ['脑', 'O'], ['家', 'O'], ['用', 'O'], ['办', 'O'], ['公', 'O'], ['电', 'O'], ['脑', 'O'], ['鼠', 'B-标'], ['标', 'I-标'], ['舒', 'O'], ['适', 'O'], ['可', 'O'], ['靠', 'O'], ['黑', 'O'], ['色', 'O'], ['1', 'O'], ['个', 'O'], ['/', 'O'], ['份', 'O']]\n",
            "[['美', 'B-国产/进口'], ['国', 'I-国产/进口'], ['红', 'I-果肉颜色'], ['提', 'I-果肉颜色'], ['5', 'O'], ['0', 'O'], ['0', 'O'], ['g', 'O'], ['/', 'O'], ['份', 'O'], ['甜', 'B-口味'], ['好', 'I-口味'], ['吃', 'I-口味'], ['5', 'O'], ['0', 'O'], ['0', 'O'], ['g', 'O']]\n",
            "[['贝', 'O'], ['亲', 'O'], ['六', 'B-适用人群'], ['个', 'I-适用人群'], ['月', 'I-适用人群'], ['以', 'I-适用人群'], ['上', 'I-适用人群'], ['p', 'O'], ['p', 'O'], ['s', 'O'], ['u', 'O'], ['防', 'O'], ['摔', 'O'], ['奶', 'O'], ['瓶', 'O'], ['3', 'O'], ['3', 'O'], ['0', 'O'], ['m', 'O'], ['l', 'O'], ['自', 'O'], ['然', 'O'], ['实', 'O'], ['感', 'O'], ['l', 'O'], ['码', 'O'], ['1', 'O'], ['个', 'O']]\n",
            "[['车', 'O'], ['载', 'O'], ['充', 'B-功能功效'], ['气', 'I-功能功效'], ['泵', 'I-功能功效'], ['双', 'O'], ['缸', 'O'], ['高', 'O'], ['压', 'O'], ['便', 'O'], ['携', 'O'], ['式', 'O'], ['汽', 'O'], ['车', 'O'], ['用', 'O'], ['大', 'O'], ['功', 'O'], ['率', 'O'], ['小', 'B-车型'], ['轿', 'I-车型'], ['车', 'I-车型'], ['1', 'O'], ['2', 'O'], ['v', 'O'], ['电', 'O'], ['动', 'O'], ['轮', 'O'], ['胎', 'O'], ['打', 'O'], ['气', 'O'], ['泵', 'O']]\n",
            "[['车', 'O'], ['载', 'O'], ['手', 'O'], ['机', 'O'], ['充', 'B-功能功效'], ['电', 'I-功能功效'], ['器', 'I-功能功效'], ['q', 'O'], ['c', 'O'], ['3', 'O'], ['.', 'O'], ['0', 'O'], ['快', 'O'], ['充', 'O'], ['双', 'O'], ['u', 'O'], ['s', 'O'], ['b', 'O'], ['汽', 'O'], ['车', 'O'], ['车', 'O'], ['用', 'O'], ['点', 'O'], ['烟', 'O'], ['器', 'O'], ['2', 'O'], ['4', 'O'], ['v', 'O'], ['货', 'O'], ['车', 'O'], ['车', 'O'], ['充', 'O'], ['p', 'O'], ['d', 'O'], ['闪', 'O'], ['充', 'O']]\n",
            "[['雨', 'O'], ['布', 'B-面料材质'], ['防', 'B-功能功效'], ['雨', 'I-功能功效'], ['布', 'B-面料材质'], ['防', 'B-功能功效'], ['水', 'B-功能功效'], ['隔', 'I-功能功效'], ['热', 'I-功能功效'], ['防', 'B-功能功效'], ['晒', 'I-功能功效'], ['塑', 'B-成分'], ['料', 'I-成分'], ['篷', 'B-面料材质'], ['布', 'I-面料材质'], ['加', 'O'], ['厚', 'B-厚度'], ['货', 'O'], ['车', 'O'], ['遮', 'B-功能功效'], ['雨', 'I-功能功效'], ['帆', 'B-面料材质'], ['布', 'I-面料材质']]\n",
            "340\n",
            "[['(', 'O'], ['果', 'B-外观'], ['然', 'I-外观'], ['爱', 'I-外观'], ['你', 'I-外观'], [')', 'O'], ['平', 'B-适用对象'], ['安', 'I-适用对象'], ['夜', 'I-适用对象'], ['1', '9', 'O'], ['朵', 'O'], ['红', 'B-颜色'], ['玫', 'I-颜色'], ['瑰', 'I-颜色'], ['花', 'I-颜色'], ['加', 'O'], ['2', 'O'], ['个', 'O'], ['苹', 'B-水果'], ['果', 'I-水果'], ['1', '个', 'O'], ['小', 'B-大小'], ['灯', 'I-大小']]\n",
            "[['s', 'O'], ['a', 'O'], ['y', 'O'], ['c', 'B-国产/进口'], ['o', 'I-国产/进口'], ['f', 'I-国产/进口'], ['f', 'I-国产/进口'], ['e', 'I-国产/进口'], ['e', 'I-国产/进口'], ['', '', ''], ['拿', 'O'], ['铁', 'O'], ['冷', 'O'], ['萃', 'O'], ['咖', 'O'], ['啡', 'O'], ['2', 'O'], ['8', 'O'], ['0', 'O'], ['m', 'O'], ['l', 'O'], ['/', 'O'], ['罐', 'O']]\n",
            "[['【', 'O'], ['婚', 'O'], ['礼', 'O'], ['季', 'O'], ['-', 'O'], ['红', 'B-颜色'], ['色', 'I-颜色'], ['球', 'B-形状形态'], ['形', 'I-形状形态'], ['手', 'O'], ['捧', 'O'], ['花', 'O'], ['】', 'O']]\n",
            "[['伊', 'B-产地'], ['利', 'I-产地'], ['风', 'I-产地'], ['味', 'I-产地'], ['发', 'O'], ['酵', 'O'], ['乳', 'O'], ['1', 'O'], ['0', 'O'], ['0', 'O'], ['g', 'O'], ['/', 'O'], ['瓶', 'O']]\n",
            "[['伊', 'B-供电方式'], ['美', 'I-供电方式'], ['德', 'I-供电方式'], ['清', 'I-供电方式'], ['真', 'I-供电方式'], ['鱼', 'B-材质'], ['豆', 'I-材质'], ['腐', 'I-材质'], ['丸', 'I-材质'], ['子', 'I-材质'], ['2', 'O'], ['5', 'O'], ['0', 'O'], ['g', 'O'], ['/', 'O'], ['份', 'O']]\n",
            "[['大', 'O'], ['展', 'O'], ['宏', 'O'], ['图', 'O'], ['财', 'O'], ['源', 'O'], ['广', 'O'], ['进', 'O'], ['花', 'B-礼盒类型'], ['束', 'I-礼盒类型'], ['生', 'O'], ['日', 'O'], ['鲜', 'B-适用对象'], ['花', 'I-适用对象'], ['长', 'O'], ['辈', 'O'], ['甄', 'O'], ['选', 'O']]\n",
            "[['实', 'O'], ['习', 'O'], ['车', 'B-适用物品'], ['贴', 'I-适用物品'], ['磁', 'B-材质'], ['吸', 'I-材质'], ['女', 'B-适用人群'], ['司', 'I-适用人群'], ['机', 'I-适用人群'], ['新', 'O'], ['手', 'O'], ['上', 'O'], ['路', 'O'], ['创', 'O'], ['意', 'O'], ['标', 'O'], ['志', 'O'], ['汽', 'B-适用物品'], ['车', 'I-适用物品'], ['贴', 'I-适用物品'], ['纸', 'I-材质']]\n",
            "[['家', 'O'], ['用', 'O'], ['棉', 'B-面料材质'], ['布', 'I-面料材质'], ['拖', 'B-适用空间'], ['把', 'I-适用空间'], ['老', 'O'], ['式', 'O'], ['吸', 'O'], ['水', 'O'], ['布', 'B-面料材质'], ['条', 'I-面料材质'], ['拖', 'B-适用空间'], ['把', 'I-适用空间']]\n",
            "[['小', 'O'], ['号', 'O'], ['滑', 'O'], ['轮', 'O'], ['带', 'O'], ['盖', 'O'], ['收', 'O'], ['纳', 'O'], ['箱', 'O'], ['储', 'O'], ['物', 'O'], ['箱', 'O'], ['长', 'O'], ['5', 'B-大小'], ['6', 'I-大小'], ['宽', 'O'], ['4', 'B-大小'], ['2', 'I-大小'], ['高', 'O'], ['3', 'B-大小'], ['4', 'I-大小'], ['c', 'O'], ['m', 'O']]\n",
            "[['平', 'O'], ['安', 'B-外观'], ['夜', 'I-外观'], ['蛇', 'O'], ['果', 'B-适用对象'], ['一', 'O'], ['个', 'O'], ['+', 'O'], ['礼', 'B-礼盒类型'], ['盒', 'I-礼盒类型'], ['平', 'O'], ['安', 'B-外观'], ['夜', 'I-外观'], ['苹', 'O'], ['果', 'B-适用对象'], ['盒', 'I-礼盒类型'], ['圣', 'O'], ['诞', 'O'], ['节', 'O'], ['礼', 'B-礼盒类型'], ['盒', 'I-礼盒类型'], ['高', 'O'], ['档', 'I-厚度'], ['包', 'O']]\n",
            "350\n",
            "[['手', 'O'], ['腕', 'O'], ['花', 'O'], ['香', 'O'], ['槟', 'O'], ['色', 'O'], ['系', 'O'], ['一', 'O'], ['个', 'O']]\n",
            "[['明', 'O'], ['治', 'O'], ['圆', 'O'], ['条', 'O'], ['蓝', 'B-颜色'], ['莓', 'I-颜色'], ['酸', 'B-酸碱度'], ['奶', 'O'], ['味', 'O'], ['雪', 'O'], ['糕', 'O'], ['6', 'O'], ['8', 'O'], ['g', 'O'], ['/', 'O'], ['条', 'O']]\n",
            "[['来', 'O'], ['乐', 'B-快'], ['快', 'I-快'], ['慢', 'B-慢'], ['双', 'O'], ['档', 'O'], ['淘', 'O'], ['乐', 'B-乐'], ['棒', 'O'], ['/', 'O'], ['樱', 'B-适用对象'], ['花', 'I-适用对象'], ['粉', 'I-适用对象'], ['（', 'O'], ['电', 'B-供电方式'], ['池', 'I-供电方式'], ['款', 'I-供电方式'], ['）', 'O'], ['女', 'B-适用人群'], ['用', 'I-适用人群'], ['自', 'O'], ['慰', 'O'], ['器', 'O'], ['a', 'O'], ['v', 'O'], ['震', 'O'], ['动', 'O'], ['棒', 'O'], ['按', 'O'], ['摩', 'O'], ['棒', 'O'], ['成', 'O'], ['人', 'B-适用对象'], ['情', 'O'], ['趣', 'O'], ['用', 'O'], ['品', 'O']]\n",
            "[['杰', 'O'], ['士', 'O'], ['邦', 'O'], ['狼', 'B-适用对象'], ['牙', 'I-适用对象'], ['安', 'I-适用对象'], ['全', 'I-适用对象'], ['套', 'B-适用对象'], ['b', 'O'], ['y', 'O'], ['t', 'O'], ['避', 'B-功能功效'], ['孕', 'I-功能功效'], ['套', 'B-适用对象'], ['男', 'I-适用对象'], ['带', 'O'], ['刺', 'O'], ['情', 'O'], ['趣', 'O'], ['螺', 'O'], ['纹', 'O'], ['大', 'O'], ['颗', 'O'], ['粒', 'O'], ['异', 'O'], ['形', 'O'], ['加', 'O'], ['粗', 'O'], ['加', 'O'], ['长', 'O']]\n",
            "[['清', 'O'], ['真', 'O'], ['循', 'O'], ['化', 'O'], ['香', 'B-味道'], ['辣', 'I-味道'], ['酱', 'I-味道']]\n",
            "[['瘦', 'B-脂肪含量'], ['肉', 'I-脂肪含量'], ['片', 'I-脂肪含量'], ['【', 'O'], ['特', 'O'], ['享', 'O'], ['】', 'O'], ['约', 'O'], ['1', 'B-大小'], ['5', 'I-大小'], ['0', 'I-大小'], ['g', 'O'], ['/', 'O'], ['份', 'O']]\n",
            "[['硅', 'O'], ['胶', 'O'], ['a', 'O'], ['v', 'O'], ['震', 'O'], ['动', 'O'], ['棒', 'O'], ['女', 'B-适用人群'], ['用', 'I-适用人群'], ['自', 'O'], ['慰', 'O'], ['器', 'O'], ['具', 'O'], ['/', 'O'], ['秒', 'O'], ['潮', 'O'], ['情', 'O'], ['趣', 'O'], ['成', 'O'], ['人', 'O'], ['用', 'O'], ['品', 'O'], ['/', 'O'], ['女', 'B-适用人群'], ['性', 'I-适用人群'], ['g', 'I-适用人群'], ['点', 'I-适用人群'], ['按', 'O'], ['摩', 'O'], ['a', 'O'], ['v', 'O'], ['快', 'O'], ['乐', 'O'], ['感', 'O'], ['0', 'O'], ['2', 'O'], ['2', 'O']]\n",
            "[['米', 'O'], ['蟹', 'O'], ['x', 'O'], ['7', 'B-适用人群'], ['通', 'O'], ['用', 'O'], ['u', 'B-接口'], ['s', 'I-接口'], ['b', 'I-接口'], ['有', 'O'], ['线', 'O'], ['单', 'O'], ['键', 'O'], ['盘', 'O']]\n",
            "[['羽', 'O'], ['克', 'O'], ['黑', 'B-颜色'], ['色', 'I-颜色'], ['游', 'O'], ['泳', 'O'], ['帽', 'O'], ['男', 'O'], ['女', 'O'], ['通', 'O'], ['用', 'O'], ['纯', 'B-材质'], ['色', 'I-材质'], ['大', 'O'], ['号', 'O'], ['长', 'B-长短'], ['发', 'I-长短'], ['舒', 'O'], ['适', 'O'], ['弹', 'O'], ['力', 'O'], ['仿', 'O'], ['鲨', 'O'], ['鱼', 'O'], ['皮', 'B-材质'], ['布', 'I-材质'], ['帽', 'O'], ['泳', 'O'], ['帽', 'O']]\n",
            "[['苏', 'B-适用对象'], ['泊', 'I-适用对象'], ['尔', 'I-适用对象'], ['快', 'O'], ['速', 'O'], ['电', 'B-厚度'], ['热', 'I-厚度'], ['水', 'I-厚度'], ['壶', 'I-厚度'], ['2', 'O'], ['l', 'O']]\n",
            "360\n",
            "[['金', 'B-品质等级'], ['龙', 'I-品质等级'], ['鱼', 'I-品质等级'], ['食', 'O'], ['用', 'O'], ['调', 'O'], ['和', 'O'], ['油', 'O'], ['1', 'O'], ['.', 'O'], ['8', 'O'], ['l', 'O'], ['/', 'O'], ['桶', 'O'], ['【', 'O'], ['黄', 'B-颜色'], ['金', 'I-颜色'], ['比', 'O'], ['例', 'O'], ['】', 'O']]\n",
            "[['雨', 'O'], ['润', 'O'], ['（', 'O'], ['清', 'B-适用对象'], ['真', 'I-适用对象'], ['）', 'O'], ['三', 'O'], ['黄', 'O'], ['鸡', 'O'], ['约', 'O'], ['7', 'O'], ['5', 'O'], ['0', 'O'], ['克', 'O'], ['/', 'O'], ['只', 'O']]\n",
            "[['麦', 'B-商品特色'], ['克', 'I-商品特色'], ['风', 'I-商品特色'], ['台', 'I-商品特色'], ['式', 'I-商品特色'], ['电', 'I-功能功效'], ['脑', 'I-功能功效'], ['话', 'I-功能功效'], ['筒', 'I-功能功效'], ['/', 'O'], ['直', 'O'], ['播', 'O'], ['笔', 'O'], ['记', 'O'], ['本', 'O'], ['通', 'O'], ['用', 'O'], ['k', 'B-适用对象'], ['歌', 'I-适用对象'], ['有', 'O'], ['线', 'O'], ['会', 'O'], ['议', 'O'], ['圆', 'O'], ['头', 'O'], ['不', 'O'], ['是', 'O'], ['u', 'B-接口'], ['s', 'I-接口'], ['b', 'I-接口'], ['接', 'O'], ['口', 'O']]\n",
            "[['【', 'B-适用人群', 'I-适用人群', 'I-适用人群', 'I-适用人群', 'I-适用人群', 'I-适用人群', 'B-品牌', 'B-品牌', 'B-品牌', 'B-品牌', 'B-厚薄', 'B-适用空间', 'I-适用空间', 'B-功能功效', 'B-功能功效', 'B-功能功效', 'B-功能功效', 'B-功能功效', 'I-功能功效', 'I-功能功效', 'I-功能功效', 'I-功能功效', 'I-功能功效', 'I-功能功效', 'I-功能功效', 'I-功能功效', 'I-功能功效', 'I-功能功效', 'I-功能功效', 'I-功能功效', 'I-功能功效', 'B-适用空间', 'B-适用空间', 'B-适用空间', 'I-适用空间', 'B-适用空间', 'I-适用空间', 'B-适用人群', 'B-款式', 'I-其他属性', 'I-其他属性', 'I-其他属性', 'I-其他属性', 'I-其他属性', 'I-其他属性', 'I-其他属性', 'I-其他属性', 'I-其他属性', 'I-其他属性', 'I-其他属性', 'I-其他属性', 'I-其他属性', 'I-其他属性', 'I-其他属性', 'I-其他属性', 'I-其他属性', 'I-其他属性', 'I-其他属性', 'I-其他属性', 'I-其他属性', 'I-其他属性', 'I-其他属性', 'I-其他属性', 'I-其他属性', 'I-其他属性', 'I-其他属性', 'I-其他属性', 'I-其他属性', 'I-其他属性', 'I-其他属性', 'I-其他属性', 'I-其他属性', 'I-其他属性', 'I-其他属性', 'I-其他属性', 'I-其他属性', 'I-其他属性', 'I-其他属性', 'I-其他属性', 'I-其他属性', 'I-其他属性', 'I-其他属性', 'I-其他属性', 'I-其他属性', 'I-其他属性', 'I-其他属性', 'I-其他属性', 'I-其他属性', 'I-其他属性', 'I-其他属性', 'I-其他属性', 'I-其他属性', 'I-其他属性', 'I-其他属性', 'I-其他属性', 'I-其他属性', 'I-其他属性', 'I-其他属性', 'I-其他属性', 'I-其他属性', 'I-其他属性', 'I-其他属性', 'I-其他属性', 'I-其他属性', 'I-其他属性', 'I-其他属性', 'I-其他属性', 'I-其他属性', 'I-其他属性', 'I-其他属性', 'I-其他属性', 'I-其他属性', 'I-其他属性', 'I-其他属性', 'I-其他属性', 'I-其他属性', 'I-其他属性', 'I-其他属性', 'I-其他属性', 'I-其他属性', 'I-其他属性', 'I-其他属性', 'I-其他属性', 'I-其他属性', 'I-其他属性', 'I-其他属性', 'I-其他属性', 'I-其他属性', 'I-其他属性', 'I-其他属性', 'I-其他属性', 'I-其他属性', 'I-其他属性', 'I-其他属性', 'I-其他属性', 'I-其他属性', 'I-其他属性', 'I-其他属性', 'I-其他属性', 'I-']]\n",
            "[['佑', 'O'], ['游', 'O'], ['儿', 'B-适用人群'], ['童', 'I-适用人群'], ['泳', 'I-适用人群'], ['衣', 'I-适用人群'], ['女', 'I-适用人群'], ['儿', 'B-适用人群'], ['童', 'I-适用人群'], ['中', 'I-适用人群'], ['大', 'I-适用人群'], ['童', 'I-适用人群'], ['宝', 'I-适用人群'], ['宝', 'I-适用人群'], ['分', 'O'], ['体', 'O'], ['三', 'O'], ['件', 'O'], ['套', 'O'], ['游', 'O'], ['泳', 'O'], ['衣', 'O'], ['女', 'B-适用人群'], ['孩', 'I-适用人群'], ['学', 'I-适用人群'], ['生', 'I-适用人群'], ['可', 'O'], ['爱', 'O'], ['防', 'O'], ['晒', 'O'], ['泳', 'O'], ['装', 'O'], ['1', 'O'], ['0', 'O'], ['0', 'O'], ['5', 'O']]\n",
            "[['倍', 'O'], ['力', 'O'], ['乐', 'O'], ['狼', 'B-适用对象'], ['牙', 'I-适用对象'], ['颗', 'I-适用对象'], ['粒', 'I-适用对象'], ['避', 'B-功能功效'], ['孕', 'I-功能功效'], ['套', 'I-功能功效'], ['1', 'O'], ['0', 'O'], ['只', 'O'], ['装', 'O'], ['安', 'B-外观'], ['全', 'I-外观'], ['套', 'I-外观'], ['颗', 'O'], ['粒', 'O'], ['避', 'B-功能功效'], ['孕', 'I-功能功效'], ['套', 'I-功能功效'], ['冰', 'B-覆盖属性'], ['火', 'I-覆盖属性'], ['润', 'I-覆盖属性'], ['滑', 'I-覆盖属性']]\n",
            "[['兰', 'O'], ['士', 'O'], ['顿', 'O'], ['耳', 'B-配件类型'], ['机', 'I-配件类型'], ['入', 'O'], ['耳', 'O'], ['式', 'O'], ['有', 'O'], ['线', 'O'], ['调', 'O'], ['音', 'O'], ['带', 'O'], ['麦', 'O'], ['v', 'O'], ['i', 'O'], ['v', 'O'], ['o', 'O'], ['华', 'B-产地'], ['为', 'I-产地'], ['荣', 'O'], ['耀', 'O'], ['o', 'O'], ['p', 'B-鞋垫材质'], ['p', 'I-鞋垫材质'], ['o', 'I-鞋垫材质'], ['小', 'O'], ['米', 'O'], ['通', 'O'], ['用', 'O'], ['手', 'O'], ['机', 'O'], ['白', 'B-颜色'], ['色', 'I-颜色']]\n",
            "[['冰', 'O'], ['酿', 'O'], ['冷', 'O'], ['萃', 'O'], ['黑', 'O'], ['咖', 'B-咖啡'], ['', '', 'O']]\n",
            "[['加', 'O'], ['厚', 'B-厚度'], ['坐', 'O'], ['垫', 'O'], ['椅', 'O'], ['垫', 'O'], ['教', 'O'], ['室', 'O'], ['办', 'O'], ['公', 'O'], ['室', 'O'], ['椅', 'O'], ['垫', 'O'], ['学', 'O'], ['生', 'I-适用人群'], ['板', 'O'], ['凳', 'O'], ['子', 'O'], ['轿', 'O'], ['车', 'O'], ['增', 'O'], ['高', 'I-功能功效'], ['垫', 'O'], ['坐', 'O'], ['垫', 'O'], ['正', 'O'], ['方', 'O'], ['形', 'B-形状形态'], ['方', 'I-形状形态'], ['黑', 'B-颜色'], ['色', 'I-颜色'], ['只', 'O']]\n",
            "[['叶', 'O'], ['罗', 'O'], ['丽', 'O'], ['生', 'O'], ['日', 'O'], ['派', 'O'], ['对', 'O'], ['装', 'O'], ['饰', 'O'], ['布', 'O'], ['置', 'O'], ['装', 'O'], ['饰', 'O'], ['品', 'O'], ['气', 'O'], ['球', 'O'], ['套', 'O'], ['装', 'O'], ['女', 'B-适用对象'], ['孩', 'I-适用对象'], ['儿', 'I-适用对象'], ['童', 'I-适用对象'], ['卡', 'O'], ['通', 'O'], ['气', 'O'], ['球', 'O'], ['玩', 'O'], ['具', 'O'], ['一', 'O'], ['套', 'O'], ['']]\n"
          ]
        },
        {
          "output_type": "error",
          "ename": "IndexError",
          "evalue": "list index out of range",
          "traceback": [
            "\u001b[0;31m---------------------------------------------------------------------------\u001b[0m",
            "\u001b[0;31mIndexError\u001b[0m                                Traceback (most recent call last)",
            "\u001b[0;32m<ipython-input-172-7a0ee07d3352>\u001b[0m in \u001b[0;36m<cell line: 3>\u001b[0;34m()\u001b[0m\n\u001b[1;32m     26\u001b[0m \u001b[0;34m\u001b[0m\u001b[0m\n\u001b[1;32m     27\u001b[0m     \u001b[0mprint\u001b[0m\u001b[0;34m(\u001b[0m\u001b[0mpred\u001b[0m\u001b[0;34m)\u001b[0m\u001b[0;34m\u001b[0m\u001b[0;34m\u001b[0m\u001b[0m\n\u001b[0;32m---> 28\u001b[0;31m     \u001b[0mpred\u001b[0m \u001b[0;34m=\u001b[0m \u001b[0;34m[\u001b[0m\u001b[0mline\u001b[0m\u001b[0;34m[\u001b[0m\u001b[0;36m1\u001b[0m\u001b[0;34m]\u001b[0m \u001b[0;32mfor\u001b[0m \u001b[0mline\u001b[0m \u001b[0;32min\u001b[0m \u001b[0mpred\u001b[0m\u001b[0;34m]\u001b[0m\u001b[0;34m\u001b[0m\u001b[0;34m\u001b[0m\u001b[0m\n\u001b[0m\u001b[1;32m     29\u001b[0m     \u001b[0mpred\u001b[0m \u001b[0;34m=\u001b[0m \u001b[0mcheck_key\u001b[0m\u001b[0;34m(\u001b[0m\u001b[0mtag2id\u001b[0m\u001b[0;34m,\u001b[0m\u001b[0mpred\u001b[0m\u001b[0;34m)\u001b[0m\u001b[0;34m\u001b[0m\u001b[0;34m\u001b[0m\u001b[0m\n\u001b[1;32m     30\u001b[0m \u001b[0;34m\u001b[0m\u001b[0m\n",
            "\u001b[0;32m<ipython-input-172-7a0ee07d3352>\u001b[0m in \u001b[0;36m<listcomp>\u001b[0;34m(.0)\u001b[0m\n\u001b[1;32m     26\u001b[0m \u001b[0;34m\u001b[0m\u001b[0m\n\u001b[1;32m     27\u001b[0m     \u001b[0mprint\u001b[0m\u001b[0;34m(\u001b[0m\u001b[0mpred\u001b[0m\u001b[0;34m)\u001b[0m\u001b[0;34m\u001b[0m\u001b[0;34m\u001b[0m\u001b[0m\n\u001b[0;32m---> 28\u001b[0;31m     \u001b[0mpred\u001b[0m \u001b[0;34m=\u001b[0m \u001b[0;34m[\u001b[0m\u001b[0mline\u001b[0m\u001b[0;34m[\u001b[0m\u001b[0;36m1\u001b[0m\u001b[0;34m]\u001b[0m \u001b[0;32mfor\u001b[0m \u001b[0mline\u001b[0m \u001b[0;32min\u001b[0m \u001b[0mpred\u001b[0m\u001b[0;34m]\u001b[0m\u001b[0;34m\u001b[0m\u001b[0;34m\u001b[0m\u001b[0m\n\u001b[0m\u001b[1;32m     29\u001b[0m     \u001b[0mpred\u001b[0m \u001b[0;34m=\u001b[0m \u001b[0mcheck_key\u001b[0m\u001b[0;34m(\u001b[0m\u001b[0mtag2id\u001b[0m\u001b[0;34m,\u001b[0m\u001b[0mpred\u001b[0m\u001b[0;34m)\u001b[0m\u001b[0;34m\u001b[0m\u001b[0;34m\u001b[0m\u001b[0m\n\u001b[1;32m     30\u001b[0m \u001b[0;34m\u001b[0m\u001b[0m\n",
            "\u001b[0;31mIndexError\u001b[0m: list index out of range"
          ]
        }
      ]
    },
    {
      "cell_type": "code",
      "source": [
        "print(\"Five shot :\",average_f1(five_shot_f1_scores))"
      ],
      "metadata": {
        "colab": {
          "base_uri": "https://localhost:8080/"
        },
        "id": "ocjirYASymoy",
        "outputId": "f97330bb-209b-4c29-db28-22292bc23ac5"
      },
      "execution_count": null,
      "outputs": [
        {
          "output_type": "execute_result",
          "data": {
            "text/plain": [
              "0.668141053530025"
            ]
          },
          "metadata": {},
          "execution_count": 174
        }
      ]
    },
    {
      "cell_type": "code",
      "source": [
        "low_f1_list"
      ],
      "metadata": {
        "id": "nZ7AXOM34xMp"
      },
      "execution_count": null,
      "outputs": []
    }
  ]
}